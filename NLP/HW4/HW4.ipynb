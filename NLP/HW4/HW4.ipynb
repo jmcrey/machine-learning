{
 "cells": [
  {
   "cell_type": "code",
   "execution_count": 1,
   "metadata": {
    "id": "A3Q4odUxG6yl"
   },
   "outputs": [],
   "source": [
    "import re\n",
    "import string\n",
    "import numpy as np\n",
    "from unicodedata import normalize\n",
    "from nltk import word_tokenize\n",
    "\n",
    "def load_file(path: str):\n",
    "    \"\"\" Loads the file into memory \"\"\"\n",
    "    with open(path, 'r', encoding='utf8') as fo:\n",
    "        content = fo.read()\n",
    "    return content\n",
    "\n",
    "def clean_data(content: str):\n",
    "    \"\"\" Cleans the data for tokenization \"\"\"\n",
    "    # Lowercase text and remove leading and ending newlines\n",
    "    text = content.lower().strip('\\n')\n",
    "    # Fix any encoding issues\n",
    "    text = normalize('NFD', text).encode('utf8')\n",
    "    text = text.decode('utf8')\n",
    "    # Match by paragraphs (at least two new lines)\n",
    "    par_match = re.compile(r'\\n{2,}')\n",
    "    lines = par_match.split(text)\n",
    "    cleaned = list()\n",
    "    for line in lines:\n",
    "        # Remove new line symbols\n",
    "        line = line.replace('\\n', ' ')\n",
    "        # Remove special characters and numbers\n",
    "        line = re.sub(\"[^a-z\\s\\']+\", \" \", line).replace(\"'\", \"\")\n",
    "        # Remove line with < 15 words\n",
    "        line = line.split()\n",
    "        if len(line) > 15:\n",
    "          # Remove whitespace\n",
    "          line = ' '.join(line)\n",
    "          cleaned.append(line)\n",
    "    return np.array(cleaned)"
   ]
  },
  {
   "cell_type": "code",
   "execution_count": 2,
   "metadata": {
    "colab": {
     "base_uri": "https://localhost:8080/"
    },
    "id": "VjxnAM4cMBd3",
    "outputId": "4dd27535-8273-48c4-b885-ad6a58259c3e"
   },
   "outputs": [
    {
     "data": {
      "text/plain": [
       "(array(['this ebook is for the use of anyone anywhere in the united states and most other parts of the world at no cost and with almost no restrictions whatsoever you may copy it give it away or re use it under the terms of the project gutenberg license included with this ebook or online at http www gutenberg org license if you are not located in the united states you ll have to check the laws of the country where you are located before using this ebook',\n",
       "        'part i book i the history of a family chapter i fyodor pavlovitch karamazov chapter ii he gets rid of his eldest son chapter iii the second marriage and the second family chapter iv the third son alyosha chapter v elders book ii an unfortunate gathering chapter i they arrive at the monastery chapter ii the old buffoon chapter iii peasant women who have faith chapter iv a lady of little faith chapter v so be it so be it chapter vi why is such a man alive chapter vii a young man bent on a career chapter viii the scandalous scene book iii the sensualists chapter i in the servants quarters chapter ii lizaveta chapter iii the confession of a passionate heart in verse chapter iv the confession of a passionate heart in anecdote chapter v the confession of a passionate heart heels up chapter vi smerdyakov chapter vii the controversy chapter viii over the brandy chapter ix the sensualists chapter x both together chapter xi another reputation ruined part ii book iv lacerations chapter i father ferapont chapter ii at his father s chapter iii a meeting with the schoolboys chapter iv at the hohlakovs chapter v a laceration in the drawing room chapter vi a laceration in the cottage chapter vii and in the open air book v pro and contra chapter i the engagement chapter ii smerdyakov with a guitar chapter iii the brothers make friends chapter iv rebellion chapter v the grand inquisitor chapter vi for awhile a very obscure one chapter vii it s always worth while speaking to a clever man book vi the russian monk chapter i father zossima and his visitors chapter ii the duel chapter iii conversations and exhortations of father zossima part iii book vii alyosha chapter i the breath of corruption chapter ii a critical moment chapter iii an onion chapter iv cana of galilee book viii mitya chapter i kuzma samsonov chapter ii lyagavy chapter iii gold mines chapter iv in the dark chapter v a sudden resolution chapter vi i am coming too chapter vii the first and rightful lover chapter viii delirium book ix the preliminary investigation chapter i the beginning of perhotin s official career chapter ii the alarm chapter iii the sufferings of a soul the first ordeal chapter iv the second ordeal chapter v the third ordeal chapter vi the prosecutor catches mitya chapter vii mitya s great secret received with hisses chapter viii the evidence of the witnesses the babe chapter ix they carry mitya away part iv book x the boys chapter i kolya krassotkin chapter ii children chapter iii the schoolboy chapter iv the lost dog chapter v by ilusha s bedside chapter vi precocity chapter vii ilusha book xi ivan chapter i at grushenka s chapter ii the injured foot chapter iii a little demon chapter iv a hymn and a secret chapter v not you not you chapter vi the first interview with smerdyakov chapter vii the second visit to smerdyakov chapter viii the third and last interview with smerdyakov chapter ix the devil ivan s nightmare chapter x it was he who said that book xii a judicial error chapter i the fatal day chapter ii dangerous witnesses chapter iii the medical experts and a pound of nuts chapter iv fortune smiles on mitya chapter v a sudden catastrophe chapter vi the prosecutor s speech sketches of character chapter vii an historical survey chapter viii a treatise on smerdyakov chapter ix the galloping troika the end of the prosecutor s speech chapter x the speech for the defense an argument that cuts both ways chapter xi there was no money there was no robbery chapter xii and there was no murder either chapter xiii a corrupter of thought chapter xiv the peasants stand firm epilogue chapter i plans for mitya s escape chapter ii for a moment the lie becomes truth chapter iii ilusha s funeral the speech at the stone footnotes',\n",
       "        'alexey fyodorovitch karamazov was the third son of fyodor pavlovitch karamazov a land owner well known in our district in his own day and still remembered among us owing to his gloomy and tragic death which happened thirteen years ago and which i shall describe in its proper place for the present i will only say that this landowner for so we used to call him although he hardly spent a day of his life on his own estate was a strange type yet one pretty frequently to be met with a type abject and vicious and at the same time senseless but he was one of those senseless persons who are very well capable of looking after their worldly affairs and apparently after nothing else fyodor pavlovitch for instance began with next to nothing his estate was of the smallest he ran to dine at other men s tables and fastened on them as a toady yet at his death it appeared that he had a hundred thousand roubles in hard cash at the same time he was all his life one of the most senseless fantastical fellows in the whole district i repeat it was not stupidity the majority of these fantastical fellows are shrewd and intelligent enough but just senselessness and a peculiar national form of it',\n",
       "        'he was married twice and had three sons the eldest dmitri by his first wife and two ivan and alexey by his second fyodor pavlovitch s first wife adelai da ivanovna belonged to a fairly rich and distinguished noble family also landowners in our district the miu sovs how it came to pass that an heiress who was also a beauty and moreover one of those vigorous intelligent girls so common in this generation but sometimes also to be found in the last could have married such a worthless puny weakling as we all called him i won t attempt to explain i knew a young lady of the last romantic generation who after some years of an enigmatic passion for a gentleman whom she might quite easily have married at any moment invented insuperable obstacles to their union and ended by throwing herself one stormy night into a rather deep and rapid river from a high bank almost a precipice and so perished entirely to satisfy her own caprice and to be like shakespeare s ophelia indeed if this precipice a chosen and favorite spot of hers had been less picturesque if there had been a prosaic flat bank in its place most likely the suicide would never have taken place this is a fact and probably there have been not a few similar instances in the last two or three generations adelai da ivanovna miu sov s action was similarly no doubt an echo of other people s ideas and was due to the irritation caused by lack of mental freedom she wanted perhaps to show her feminine independence to override class distinctions and the despotism of her family and a pliable imagination persuaded her we must suppose for a brief moment that fyodor pavlovitch in spite of his parasitic position was one of the bold and ironical spirits of that progressive epoch though he was in fact an ill natured buffoon and nothing more what gave the marriage piquancy was that it was preceded by an elopement and this greatly captivated adelai da ivanovna s fancy fyodor pavlovitch s position at the time made him specially eager for any such enterprise for he was passionately anxious to make a career in one way or another to attach himself to a good family and obtain a dowry was an alluring prospect as for mutual love it did not exist apparently either in the bride or in him in spite of adelai da ivanovna s beauty this was perhaps a unique case of the kind in the life of fyodor pavlovitch who was always of a voluptuous temper and ready to run after any petticoat on the slightest encouragement she seems to have been the only woman who made no particular appeal to his senses',\n",
       "        'immediately after the elopement adelai da ivanovna discerned in a flash that she had no feeling for her husband but contempt the marriage accordingly showed itself in its true colors with extraordinary rapidity although the family accepted the event pretty quickly and apportioned the runaway bride her dowry the husband and wife began to lead a most disorderly life and there were everlasting scenes between them it was said that the young wife showed incomparably more generosity and dignity than fyodor pavlovitch who as is now known got hold of all her money up to twenty five thousand roubles as soon as she received it so that those thousands were lost to her for ever the little village and the rather fine town house which formed part of her dowry he did his utmost for a long time to transfer to his name by means of some deed of conveyance he would probably have succeeded merely from her moral fatigue and desire to get rid of him and from the contempt and loathing he aroused by his persistent and shameless importunity but fortunately adelai da ivanovna s family intervened and circumvented his greediness it is known for a fact that frequent fights took place between the husband and wife but rumor had it that fyodor pavlovitch did not beat his wife but was beaten by her for she was a hot tempered bold dark browed impatient woman possessed of remarkable physical strength finally she left the house and ran away from fyodor pavlovitch with a destitute divinity student leaving mitya a child of three years old in her husband s hands immediately fyodor pavlovitch introduced a regular harem into the house and abandoned himself to orgies of drunkenness in the intervals he used to drive all over the province complaining tearfully to each and all of adelai da ivanovna s having left him going into details too disgraceful for a husband to mention in regard to his own married life what seemed to gratify him and flatter his self love most was to play the ridiculous part of the injured husband and to parade his woes with embellishments',\n",
       "        'one would think that you d got a promotion fyodor pavlovitch you seem so pleased in spite of your sorrow scoffers said to him many even added that he was glad of a new comic part in which to play the buffoon and that it was simply to make it funnier that he pretended to be unaware of his ludicrous position but who knows it may have been simplicity at last he succeeded in getting on the track of his runaway wife the poor woman turned out to be in petersburg where she had gone with her divinity student and where she had thrown herself into a life of complete emancipation fyodor pavlovitch at once began bustling about making preparations to go to petersburg with what object he could not himself have said he would perhaps have really gone but having determined to do so he felt at once entitled to fortify himself for the journey by another bout of reckless drinking and just at that time his wife s family received the news of her death in petersburg she had died quite suddenly in a garret according to one story of typhus or as another version had it of starvation fyodor pavlovitch was drunk when he heard of his wife s death and the story is that he ran out into the street and began shouting with joy raising his hands to heaven lord now lettest thou thy servant depart in peace but others say he wept without restraint like a little child so much so that people were sorry for him in spite of the repulsion he inspired it is quite possible that both versions were true that he rejoiced at his release and at the same time wept for her who released him as a general rule people even the wicked are much more nai ve and simple hearted than we suppose and we ourselves are too',\n",
       "        'you can easily imagine what a father such a man could be and how he would bring up his children his behavior as a father was exactly what might be expected he completely abandoned the child of his marriage with adelai da ivanovna not from malice nor because of his matrimonial grievances but simply because he forgot him while he was wearying every one with his tears and complaints and turning his house into a sink of debauchery a faithful servant of the family grigory took the three year old mitya into his care if he hadn t looked after him there would have been no one even to change the baby s little shirt',\n",
       "        'it happened moreover that the child s relations on his mother s side forgot him too at first his grandfather was no longer living his widow mitya s grandmother had moved to moscow and was seriously ill while his daughters were married so that mitya remained for almost a whole year in old grigory s charge and lived with him in the servant s cottage but if his father had remembered him he could not indeed have been altogether unaware of his existence he would have sent him back to the cottage as the child would only have been in the way of his debaucheries but a cousin of mitya s mother pyotr alexandrovitch miu sov happened to return from paris he lived for many years afterwards abroad but was at that time quite a young man and distinguished among the miu sovs as a man of enlightened ideas and of european culture who had been in the capitals and abroad towards the end of his life he became a liberal of the type common in the forties and fifties in the course of his career he had come into contact with many of the most liberal men of his epoch both in russia and abroad he had known proudhon and bakunin personally and in his declining years was very fond of describing the three days of the paris revolution of february hinting that he himself had almost taken part in the fighting on the barricades this was one of the most grateful recollections of his youth he had an independent property of about a thousand souls to reckon in the old style his splendid estate lay on the outskirts of our little town and bordered on the lands of our famous monastery with which pyotr alexandrovitch began an endless lawsuit almost as soon as he came into the estate concerning the rights of fishing in the river or wood cutting in the forest i don t know exactly which he regarded it as his duty as a citizen and a man of culture to open an attack upon the clericals hearing all about adelai da ivanovna whom he of course remembered and in whom he had at one time been interested and learning of the existence of mitya he intervened in spite of all his youthful indignation and contempt for fyodor pavlovitch he made the latter s acquaintance for the first time and told him directly that he wished to undertake the child s education he used long afterwards to tell as a characteristic touch that when he began to speak of mitya fyodor pavlovitch looked for some time as though he did not understand what child he was talking about and even as though he was surprised to hear that he had a little son in the house the story may have been exaggerated yet it must have been something like the truth',\n",
       "        'fyodor pavlovitch was all his life fond of acting of suddenly playing an unexpected part sometimes without any motive for doing so and even to his own direct disadvantage as for instance in the present case this habit however is characteristic of a very great number of people some of them very clever ones not like fyodor pavlovitch pyotr alexandrovitch carried the business through vigorously and was appointed with fyodor pavlovitch joint guardian of the child who had a small property a house and land left him by his mother mitya did in fact pass into this cousin s keeping but as the latter had no family of his own and after securing the revenues of his estates was in haste to return at once to paris he left the boy in charge of one of his cousins a lady living in moscow it came to pass that settling permanently in paris he too forgot the child especially when the revolution of february broke out making an impression on his mind that he remembered all the rest of his life the moscow lady died and mitya passed into the care of one of her married daughters i believe he changed his home a fourth time later on i won t enlarge upon that now as i shall have much to tell later of fyodor pavlovitch s firstborn and must confine myself now to the most essential facts about him without which i could not begin my story',\n",
       "        'in the first place this mitya or rather dmitri fyodorovitch was the only one of fyodor pavlovitch s three sons who grew up in the belief that he had property and that he would be independent on coming of age he spent an irregular boyhood and youth he did not finish his studies at the gymnasium he got into a military school then went to the caucasus was promoted fought a duel and was degraded to the ranks earned promotion again led a wild life and spent a good deal of money he did not begin to receive any income from fyodor pavlovitch until he came of age and until then got into debt he saw and knew his father fyodor pavlovitch for the first time on coming of age when he visited our neighborhood on purpose to settle with him about his property he seems not to have liked his father he did not stay long with him and made haste to get away having only succeeded in obtaining a sum of money and entering into an agreement for future payments from the estate of the revenues and value of which he was unable a fact worthy of note upon this occasion to get a statement from his father fyodor pavlovitch remarked for the first time then this too should be noted that mitya had a vague and exaggerated idea of his property fyodor pavlovitch was very well satisfied with this as it fell in with his own designs he gathered only that the young man was frivolous unruly of violent passions impatient and dissipated and that if he could only obtain ready money he would be satisfied although only of course for a short time so fyodor pavlovitch began to take advantage of this fact sending him from time to time small doles installments in the end when four years later mitya losing patience came a second time to our little town to settle up once for all with his father it turned out to his amazement that he had nothing that it was difficult to get an account even that he had received the whole value of his property in sums of money from fyodor pavlovitch and was perhaps even in debt to him that by various agreements into which he had of his own desire entered at various previous dates he had no right to expect anything more and so on and so on the young man was overwhelmed suspected deceit and cheating and was almost beside himself and indeed this circumstance led to the catastrophe the account of which forms the subject of my first introductory story or rather the external side of it but before i pass to that story i must say a little of fyodor pavlovitch s other two sons and of their origin'],\n",
       "       dtype='<U9487'),\n",
       " array([0., 0., 0., 0., 0., 0., 0., 0., 0., 0.]))"
      ]
     },
     "execution_count": 2,
     "metadata": {},
     "output_type": "execute_result"
    }
   ],
   "source": [
    "fyodor = load_file('q1/28054-0.txt')\n",
    "f_data = clean_data(fyodor)\n",
    "f_labels = np.zeros(f_data.shape[0])\n",
    "f_data[0:10], f_labels[0:10]"
   ]
  },
  {
   "cell_type": "code",
   "execution_count": 3,
   "metadata": {
    "colab": {
     "base_uri": "https://localhost:8080/"
    },
    "id": "hWYyykKGjNQi",
    "outputId": "b761e5e2-f3d7-4125-891f-f9ffdec25152"
   },
   "outputs": [
    {
     "data": {
      "text/plain": [
       "(array(['this ebook is for the use of anyone anywhere at no cost and with almost no restrictions whatsoever you may copy it give it away or re use it under the terms of the project gutenberg license included with this ebook or online at www gutenberg net',\n",
       "        'i a scandal in bohemia ii the red headed league iii a case of identity iv the boscombe valley mystery v the five orange pips vi the man with the twisted lip vii the adventure of the blue carbuncle viii the adventure of the speckled band ix the adventure of the engineers thumb x the adventure of the noble bachelor xi the adventure of the beryl coronet xii the adventure of the copper beeches',\n",
       "        'to sherlock holmes she is always the woman i have seldom heard him mention her under any other name in his eyes she eclipses and predominates the whole of her sex it was not that he felt any emotion akin to love for irene adler all emotions and that one particularly were abhorrent to his cold precise but admirably balanced mind he was i take it the most perfect reasoning and observing machine that the world has seen but as a lover he would have placed himself in a false position he never spoke of the softer passions save with a gibe and a sneer they were admirable things for the observer excellent for drawing the veil from mens motives and actions but for the trained reasoner to admit such intrusions into his own delicate and finely adjusted temperament was to introduce a distracting factor which might throw a doubt upon all his mental results grit in a sensitive instrument or a crack in one of his own high power lenses would not be more disturbing than a strong emotion in a nature such as his and yet there was but one woman to him and that woman was the late irene adler of dubious and questionable memory',\n",
       "        'i had seen little of holmes lately my marriage had drifted us away from each other my own complete happiness and the home centred interests which rise up around the man who first finds himself master of his own establishment were sufficient to absorb all my attention while holmes who loathed every form of society with his whole bohemian soul remained in our lodgings in baker street buried among his old books and alternating from week to week between cocaine and ambition the drowsiness of the drug and the fierce energy of his own keen nature he was still as ever deeply attracted by the study of crime and occupied his immense faculties and extraordinary powers of observation in following out those clues and clearing up those mysteries which had been abandoned as hopeless by the official police from time to time i heard some vague account of his doings of his summons to odessa in the case of the trepoff murder of his clearing up of the singular tragedy of the atkinson brothers at trincomalee and finally of the mission which he had accomplished so delicately and successfully for the reigning family of holland beyond these signs of his activity however which i merely shared with all the readers of the daily press i knew little of my former friend and companion',\n",
       "        'one night it was on the twentieth of march i was returning from a journey to a patient for i had now returned to civil practice when my way led me through baker street as i passed the well remembered door which must always be associated in my mind with my wooing and with the dark incidents of the study in scarlet i was seized with a keen desire to see holmes again and to know how he was employing his extraordinary powers his rooms were brilliantly lit and even as i looked up i saw his tall spare figure pass twice in a dark silhouette against the blind he was pacing the room swiftly eagerly with his head sunk upon his chest and his hands clasped behind him to me who knew his every mood and habit his attitude and manner told their own story he was at work again he had risen out of his drug created dreams and was hot upon the scent of some new problem i rang the bell and was shown up to the chamber which had formerly been in part my own',\n",
       "        'his manner was not effusive it seldom was but he was glad i think to see me with hardly a word spoken but with a kindly eye he waved me to an armchair threw across his case of cigars and indicated a spirit case and a gasogene in the corner then he stood before the fire and looked me over in his singular introspective fashion',\n",
       "        'wedlock suits you he remarked i think watson that you have put on seven and a half pounds since i saw you',\n",
       "        'indeed i should have thought a little more just a trifle more i fancy watson and in practice again i observe you did not tell me that you intended to go into harness',\n",
       "        'i see it i deduce it how do i know that you have been getting yourself very wet lately and that you have a most clumsy and careless servant girl',\n",
       "        'my dear holmes said i this is too much you would certainly have been burned had you lived a few centuries ago it is true that i had a country walk on thursday and came home in a dreadful mess but as i have changed my clothes i cant imagine how you deduce it as to mary jane she is incorrigible and my wife has given her notice but there again i fail to see how you work it out'],\n",
       "       dtype='<U2489'),\n",
       " array([1., 1., 1., 1., 1., 1., 1., 1., 1., 1.]))"
      ]
     },
     "execution_count": 3,
     "metadata": {},
     "output_type": "execute_result"
    }
   ],
   "source": [
    "doyle = load_file('q1/pg1661.txt')\n",
    "d_data = clean_data(doyle)\n",
    "d_labels = np.ones(d_data.shape[0])\n",
    "d_data[0:10], d_labels[0:10]"
   ]
  },
  {
   "cell_type": "code",
   "execution_count": 4,
   "metadata": {
    "colab": {
     "base_uri": "https://localhost:8080/"
    },
    "id": "Nrn59VrnjrW3",
    "outputId": "8e6fd3f3-a805-4347-d939-cbcd1d760dc1"
   },
   "outputs": [
    {
     "data": {
      "text/plain": [
       "(array(['this ebook is for the use of anyone anywhere at no cost and with almost no restrictions whatsoever you may copy it give it away or re use it under the terms of the project gutenberg license included with this ebook or online at www gutenberg org',\n",
       "        'note the accompanying html file has active links to all the volumes and chapters in this set',\n",
       "        'sir walter elliot of kellynch hall in somersetshire was a man who for his own amusement never took up any book but the baronetage there he found occupation for an idle hour and consolation in a distressed one there his faculties were roused into admiration and respect by contemplating the limited remnant of the earliest patents there any unwelcome sensations arising from domestic affairs changed naturally into pity and contempt as he turned over the almost endless creations of the last century and there if every other leaf were powerless he could read his own history with an interest which never failed this was the page at which the favourite volume always opened',\n",
       "        'walter elliot born march married july elizabeth daughter of james stevenson esq of south park in the county of gloucester by which lady who died he has issue elizabeth born june anne born august a still born son november mary born november',\n",
       "        'precisely such had the paragraph originally stood from the printers hands but sir walter had improved it by adding for the information of himself and his family these words after the date of marys birth married december charles son and heir of charles musgrove esq of uppercross in the county of somerset and by inserting most accurately the day of the month on which he had lost his wife',\n",
       "        'then followed the history and rise of the ancient and respectable family in the usual terms how it had been first settled in cheshire how mentioned in dugdale serving the office of high sheriff representing a borough in three successive parliaments exertions of loyalty and dignity of baronet in the first year of charles ii with all the marys and elizabeths they had married forming altogether two handsome duodecimo pages and concluding with the arms and motto principal seat kellynch hall in the county of somerset and sir walters handwriting again in this finale',\n",
       "        'vanity was the beginning and the end of sir walter elliots character vanity of person and of situation he had been remarkably handsome in his youth and at fifty four was still a very fine man few women could think more of their personal appearance than he did nor could the valet of any new made lord be more delighted with the place he held in society he considered the blessing of beauty as inferior only to the blessing of a baronetcy and the sir walter elliot who united these gifts was the constant object of his warmest respect and devotion',\n",
       "        'his good looks and his rank had one fair claim on his attachment since to them he must have owed a wife of very superior character to any thing deserved by his own lady elliot had been an excellent woman sensible and amiable whose judgement and conduct if they might be pardoned the youthful infatuation which made her lady elliot had never required indulgence afterwards she had humoured or softened or concealed his failings and promoted his real respectability for seventeen years and though not the very happiest being in the world herself had found enough in her duties her friends and her children to attach her to life and make it no matter of indifference to her when she was called on to quit them three girls the two eldest sixteen and fourteen was an awful legacy for a mother to bequeath an awful charge rather to confide to the authority and guidance of a conceited silly father she had however one very intimate friend a sensible deserving woman who had been brought by strong attachment to herself to settle close by her in the village of kellynch and on her kindness and advice lady elliot mainly relied for the best help and maintenance of the good principles and instruction which she had been anxiously giving her daughters',\n",
       "        'this friend and sir walter did not marry whatever might have been anticipated on that head by their acquaintance thirteen years had passed away since lady elliots death and they were still near neighbours and intimate friends and one remained a widower the other a widow',\n",
       "        'that lady russell of steady age and character and extremely well provided for should have no thought of a second marriage needs no apology to the public which is rather apt to be unreasonably discontented when a woman does marry again than when she does not but sir walters continuing in singleness requires explanation be it known then that sir walter like a good father having met with one or two private disappointments in very unreasonable applications prided himself on remaining single for his dear daughters sake for one daughter his eldest he would really have given up any thing which he had not been very much tempted to do elizabeth had succeeded at sixteen to all that was possible of her mothers rights and consequence and being very handsome and very like himself her influence had always been great and they had gone on together most happily his two other children were of very inferior value mary had acquired a little artificial importance by becoming mrs charles musgrove but anne with an elegance of mind and sweetness of character which must have placed her high with any people of real understanding was nobody with either father or sister her word had no weight her convenience was always to give way she was only anne',\n",
       "        'to lady russell indeed she was a most dear and highly valued god daughter favourite and friend lady russell loved them all but it was only in anne that she could fancy the mother to revive again',\n",
       "        'a few years before anne elliot had been a very pretty girl but her bloom had vanished early and as even in its height her father had found little to admire in her so totally different were her delicate features and mild dark eyes from his own there could be nothing in them now that she was faded and thin to excite his esteem he had never indulged much hope he had now none of ever reading her name in any other page of his favourite work all equality of alliance must rest with elizabeth for mary had merely connected herself with an old country family of respectability and large fortune and had therefore given all the honour and received none elizabeth would one day or other marry suitably',\n",
       "        'it sometimes happens that a woman is handsomer at twenty nine than she was ten years before and generally speaking if there has been neither ill health nor anxiety it is a time of life at which scarcely any charm is lost it was so with elizabeth still the same handsome miss elliot that she had begun to be thirteen years ago and sir walter might be excused therefore in forgetting her age or at least be deemed only half a fool for thinking himself and elizabeth as blooming as ever amidst the wreck of the good looks of everybody else for he could plainly see how old all the rest of his family and acquaintance were growing anne haggard mary coarse every face in the neighbourhood worsting and the rapid increase of the crows foot about lady russells temples had long been a distress to him',\n",
       "        'elizabeth did not quite equal her father in personal contentment thirteen years had seen her mistress of kellynch hall presiding and directing with a self possession and decision which could never have given the idea of her being younger than she was for thirteen years had she been doing the honours and laying down the domestic law at home and leading the way to the chaise and four and walking immediately after lady russell out of all the drawing rooms and dining rooms in the country thirteen winters revolving frosts had seen her opening every ball of credit which a scanty neighbourhood afforded and thirteen springs shewn their blossoms as she travelled up to london with her father for a few weeks annual enjoyment of the great world she had the remembrance of all this she had the consciousness of being nine and twenty to give her some regrets and some apprehensions she was fully satisfied of being still quite as handsome as ever but she felt her approach to the years of danger and would have rejoiced to be certain of being properly solicited by baronet blood within the next twelvemonth or two then might she again take up the book of books with as much enjoyment as in her early youth but now she liked it not always to be presented with the date of her own birth and see no marriage follow but that of a youngest sister made the book an evil and more than once when her father had left it open on the table near her had she closed it with averted eyes and pushed it away',\n",
       "        'she had had a disappointment moreover which that book and especially the history of her own family must ever present the remembrance of the heir presumptive the very william walter elliot esq whose rights had been so generously supported by her father had disappointed her',\n",
       "        'she had while a very young girl as soon as she had known him to be in the event of her having no brother the future baronet meant to marry him and her father had always meant that she should he had not been known to them as a boy but soon after lady elliots death sir walter had sought the acquaintance and though his overtures had not been met with any warmth he had persevered in seeking it making allowance for the modest drawing back of youth and in one of their spring excursions to london when elizabeth was in her first bloom mr elliot had been forced into the introduction',\n",
       "        'he was at that time a very young man just engaged in the study of the law and elizabeth found him extremely agreeable and every plan in his favour was confirmed he was invited to kellynch hall he was talked of and expected all the rest of the year but he never came the following spring he was seen again in town found equally agreeable again encouraged invited and expected and again he did not come and the next tidings were that he was married instead of pushing his fortune in the line marked out for the heir of the house of elliot he had purchased independence by uniting himself to a rich woman of inferior birth',\n",
       "        'sir walter has resented it as the head of the house he felt that he ought to have been consulted especially after taking the young man so publicly by the hand for they must have been seen together he observed once at tattersalls and twice in the lobby of the house of commons his disapprobation was expressed but apparently very little regarded mr elliot had attempted no apology and shewn himself as unsolicitous of being longer noticed by the family as sir walter considered him unworthy of it all acquaintance between them had ceased',\n",
       "        'this very awkward history of mr elliot was still after an interval of several years felt with anger by elizabeth who had liked the man for himself and still more for being her fathers heir and whose strong family pride could see only in him a proper match for sir walter elliots eldest daughter there was not a baronet from a to z whom her feelings could have so willingly acknowledged as an equal yet so miserably had he conducted himself that though she was at this present time the summer of wearing black ribbons for his wife she could not admit him to be worth thinking of again the disgrace of his first marriage might perhaps as there was no reason to suppose it perpetuated by offspring have been got over had he not done worse but he had as by the accustomary intervention of kind friends they had been informed spoken most disrespectfully of them all most slightingly and contemptuously of the very blood he belonged to and the honours which were hereafter to be his own this could not be pardoned',\n",
       "        'such were elizabeth elliots sentiments and sensations such the cares to alloy the agitations to vary the sameness and the elegance the prosperity and the nothingness of her scene of life such the feelings to give interest to a long uneventful residence in one country circle to fill the vacancies which there were no habits of utility abroad no talents or accomplishments for home to occupy'],\n",
       "       dtype='<U14176'),\n",
       " array([2., 2., 2., 2., 2., 2., 2., 2., 2., 2., 2., 2., 2., 2., 2., 2., 2.,\n",
       "        2., 2., 2.]))"
      ]
     },
     "execution_count": 4,
     "metadata": {},
     "output_type": "execute_result"
    }
   ],
   "source": [
    "austen = load_file('q1/pg31100.txt')\n",
    "a_data = clean_data(austen)\n",
    "a_labels = np.ones(a_data.shape[0]) + 1\n",
    "a_data[0:20], a_labels[0:20]"
   ]
  },
  {
   "cell_type": "code",
   "execution_count": 5,
   "metadata": {
    "colab": {
     "base_uri": "https://localhost:8080/"
    },
    "id": "8j0fIJ6-kOOu",
    "outputId": "e2e7ed3c-def9-48a2-a29d-160688a50dd8"
   },
   "outputs": [
    {
     "data": {
      "text/plain": [
       "(array(['this ebook is for the use of anyone anywhere in the united states and most other parts of the world at no cost and with almost no restrictions whatsoever you may copy it give it away or re use it under the terms of the project gutenberg license included with this ebook or online at http www gutenberg org license if you are not located in the united states you ll have to check the laws of the country where you are located before using this ebook',\n",
       "        'part i book i the history of a family chapter i fyodor pavlovitch karamazov chapter ii he gets rid of his eldest son chapter iii the second marriage and the second family chapter iv the third son alyosha chapter v elders book ii an unfortunate gathering chapter i they arrive at the monastery chapter ii the old buffoon chapter iii peasant women who have faith chapter iv a lady of little faith chapter v so be it so be it chapter vi why is such a man alive chapter vii a young man bent on a career chapter viii the scandalous scene book iii the sensualists chapter i in the servants quarters chapter ii lizaveta chapter iii the confession of a passionate heart in verse chapter iv the confession of a passionate heart in anecdote chapter v the confession of a passionate heart heels up chapter vi smerdyakov chapter vii the controversy chapter viii over the brandy chapter ix the sensualists chapter x both together chapter xi another reputation ruined part ii book iv lacerations chapter i father ferapont chapter ii at his father s chapter iii a meeting with the schoolboys chapter iv at the hohlakovs chapter v a laceration in the drawing room chapter vi a laceration in the cottage chapter vii and in the open air book v pro and contra chapter i the engagement chapter ii smerdyakov with a guitar chapter iii the brothers make friends chapter iv rebellion chapter v the grand inquisitor chapter vi for awhile a very obscure one chapter vii it s always worth while speaking to a clever man book vi the russian monk chapter i father zossima and his visitors chapter ii the duel chapter iii conversations and exhortations of father zossima part iii book vii alyosha chapter i the breath of corruption chapter ii a critical moment chapter iii an onion chapter iv cana of galilee book viii mitya chapter i kuzma samsonov chapter ii lyagavy chapter iii gold mines chapter iv in the dark chapter v a sudden resolution chapter vi i am coming too chapter vii the first and rightful lover chapter viii delirium book ix the preliminary investigation chapter i the beginning of perhotin s official career chapter ii the alarm chapter iii the sufferings of a soul the first ordeal chapter iv the second ordeal chapter v the third ordeal chapter vi the prosecutor catches mitya chapter vii mitya s great secret received with hisses chapter viii the evidence of the witnesses the babe chapter ix they carry mitya away part iv book x the boys chapter i kolya krassotkin chapter ii children chapter iii the schoolboy chapter iv the lost dog chapter v by ilusha s bedside chapter vi precocity chapter vii ilusha book xi ivan chapter i at grushenka s chapter ii the injured foot chapter iii a little demon chapter iv a hymn and a secret chapter v not you not you chapter vi the first interview with smerdyakov chapter vii the second visit to smerdyakov chapter viii the third and last interview with smerdyakov chapter ix the devil ivan s nightmare chapter x it was he who said that book xii a judicial error chapter i the fatal day chapter ii dangerous witnesses chapter iii the medical experts and a pound of nuts chapter iv fortune smiles on mitya chapter v a sudden catastrophe chapter vi the prosecutor s speech sketches of character chapter vii an historical survey chapter viii a treatise on smerdyakov chapter ix the galloping troika the end of the prosecutor s speech chapter x the speech for the defense an argument that cuts both ways chapter xi there was no money there was no robbery chapter xii and there was no murder either chapter xiii a corrupter of thought chapter xiv the peasants stand firm epilogue chapter i plans for mitya s escape chapter ii for a moment the lie becomes truth chapter iii ilusha s funeral the speech at the stone footnotes',\n",
       "        'alexey fyodorovitch karamazov was the third son of fyodor pavlovitch karamazov a land owner well known in our district in his own day and still remembered among us owing to his gloomy and tragic death which happened thirteen years ago and which i shall describe in its proper place for the present i will only say that this landowner for so we used to call him although he hardly spent a day of his life on his own estate was a strange type yet one pretty frequently to be met with a type abject and vicious and at the same time senseless but he was one of those senseless persons who are very well capable of looking after their worldly affairs and apparently after nothing else fyodor pavlovitch for instance began with next to nothing his estate was of the smallest he ran to dine at other men s tables and fastened on them as a toady yet at his death it appeared that he had a hundred thousand roubles in hard cash at the same time he was all his life one of the most senseless fantastical fellows in the whole district i repeat it was not stupidity the majority of these fantastical fellows are shrewd and intelligent enough but just senselessness and a peculiar national form of it',\n",
       "        'he was married twice and had three sons the eldest dmitri by his first wife and two ivan and alexey by his second fyodor pavlovitch s first wife adelai da ivanovna belonged to a fairly rich and distinguished noble family also landowners in our district the miu sovs how it came to pass that an heiress who was also a beauty and moreover one of those vigorous intelligent girls so common in this generation but sometimes also to be found in the last could have married such a worthless puny weakling as we all called him i won t attempt to explain i knew a young lady of the last romantic generation who after some years of an enigmatic passion for a gentleman whom she might quite easily have married at any moment invented insuperable obstacles to their union and ended by throwing herself one stormy night into a rather deep and rapid river from a high bank almost a precipice and so perished entirely to satisfy her own caprice and to be like shakespeare s ophelia indeed if this precipice a chosen and favorite spot of hers had been less picturesque if there had been a prosaic flat bank in its place most likely the suicide would never have taken place this is a fact and probably there have been not a few similar instances in the last two or three generations adelai da ivanovna miu sov s action was similarly no doubt an echo of other people s ideas and was due to the irritation caused by lack of mental freedom she wanted perhaps to show her feminine independence to override class distinctions and the despotism of her family and a pliable imagination persuaded her we must suppose for a brief moment that fyodor pavlovitch in spite of his parasitic position was one of the bold and ironical spirits of that progressive epoch though he was in fact an ill natured buffoon and nothing more what gave the marriage piquancy was that it was preceded by an elopement and this greatly captivated adelai da ivanovna s fancy fyodor pavlovitch s position at the time made him specially eager for any such enterprise for he was passionately anxious to make a career in one way or another to attach himself to a good family and obtain a dowry was an alluring prospect as for mutual love it did not exist apparently either in the bride or in him in spite of adelai da ivanovna s beauty this was perhaps a unique case of the kind in the life of fyodor pavlovitch who was always of a voluptuous temper and ready to run after any petticoat on the slightest encouragement she seems to have been the only woman who made no particular appeal to his senses',\n",
       "        'immediately after the elopement adelai da ivanovna discerned in a flash that she had no feeling for her husband but contempt the marriage accordingly showed itself in its true colors with extraordinary rapidity although the family accepted the event pretty quickly and apportioned the runaway bride her dowry the husband and wife began to lead a most disorderly life and there were everlasting scenes between them it was said that the young wife showed incomparably more generosity and dignity than fyodor pavlovitch who as is now known got hold of all her money up to twenty five thousand roubles as soon as she received it so that those thousands were lost to her for ever the little village and the rather fine town house which formed part of her dowry he did his utmost for a long time to transfer to his name by means of some deed of conveyance he would probably have succeeded merely from her moral fatigue and desire to get rid of him and from the contempt and loathing he aroused by his persistent and shameless importunity but fortunately adelai da ivanovna s family intervened and circumvented his greediness it is known for a fact that frequent fights took place between the husband and wife but rumor had it that fyodor pavlovitch did not beat his wife but was beaten by her for she was a hot tempered bold dark browed impatient woman possessed of remarkable physical strength finally she left the house and ran away from fyodor pavlovitch with a destitute divinity student leaving mitya a child of three years old in her husband s hands immediately fyodor pavlovitch introduced a regular harem into the house and abandoned himself to orgies of drunkenness in the intervals he used to drive all over the province complaining tearfully to each and all of adelai da ivanovna s having left him going into details too disgraceful for a husband to mention in regard to his own married life what seemed to gratify him and flatter his self love most was to play the ridiculous part of the injured husband and to parade his woes with embellishments',\n",
       "        'one would think that you d got a promotion fyodor pavlovitch you seem so pleased in spite of your sorrow scoffers said to him many even added that he was glad of a new comic part in which to play the buffoon and that it was simply to make it funnier that he pretended to be unaware of his ludicrous position but who knows it may have been simplicity at last he succeeded in getting on the track of his runaway wife the poor woman turned out to be in petersburg where she had gone with her divinity student and where she had thrown herself into a life of complete emancipation fyodor pavlovitch at once began bustling about making preparations to go to petersburg with what object he could not himself have said he would perhaps have really gone but having determined to do so he felt at once entitled to fortify himself for the journey by another bout of reckless drinking and just at that time his wife s family received the news of her death in petersburg she had died quite suddenly in a garret according to one story of typhus or as another version had it of starvation fyodor pavlovitch was drunk when he heard of his wife s death and the story is that he ran out into the street and began shouting with joy raising his hands to heaven lord now lettest thou thy servant depart in peace but others say he wept without restraint like a little child so much so that people were sorry for him in spite of the repulsion he inspired it is quite possible that both versions were true that he rejoiced at his release and at the same time wept for her who released him as a general rule people even the wicked are much more nai ve and simple hearted than we suppose and we ourselves are too',\n",
       "        'you can easily imagine what a father such a man could be and how he would bring up his children his behavior as a father was exactly what might be expected he completely abandoned the child of his marriage with adelai da ivanovna not from malice nor because of his matrimonial grievances but simply because he forgot him while he was wearying every one with his tears and complaints and turning his house into a sink of debauchery a faithful servant of the family grigory took the three year old mitya into his care if he hadn t looked after him there would have been no one even to change the baby s little shirt',\n",
       "        'it happened moreover that the child s relations on his mother s side forgot him too at first his grandfather was no longer living his widow mitya s grandmother had moved to moscow and was seriously ill while his daughters were married so that mitya remained for almost a whole year in old grigory s charge and lived with him in the servant s cottage but if his father had remembered him he could not indeed have been altogether unaware of his existence he would have sent him back to the cottage as the child would only have been in the way of his debaucheries but a cousin of mitya s mother pyotr alexandrovitch miu sov happened to return from paris he lived for many years afterwards abroad but was at that time quite a young man and distinguished among the miu sovs as a man of enlightened ideas and of european culture who had been in the capitals and abroad towards the end of his life he became a liberal of the type common in the forties and fifties in the course of his career he had come into contact with many of the most liberal men of his epoch both in russia and abroad he had known proudhon and bakunin personally and in his declining years was very fond of describing the three days of the paris revolution of february hinting that he himself had almost taken part in the fighting on the barricades this was one of the most grateful recollections of his youth he had an independent property of about a thousand souls to reckon in the old style his splendid estate lay on the outskirts of our little town and bordered on the lands of our famous monastery with which pyotr alexandrovitch began an endless lawsuit almost as soon as he came into the estate concerning the rights of fishing in the river or wood cutting in the forest i don t know exactly which he regarded it as his duty as a citizen and a man of culture to open an attack upon the clericals hearing all about adelai da ivanovna whom he of course remembered and in whom he had at one time been interested and learning of the existence of mitya he intervened in spite of all his youthful indignation and contempt for fyodor pavlovitch he made the latter s acquaintance for the first time and told him directly that he wished to undertake the child s education he used long afterwards to tell as a characteristic touch that when he began to speak of mitya fyodor pavlovitch looked for some time as though he did not understand what child he was talking about and even as though he was surprised to hear that he had a little son in the house the story may have been exaggerated yet it must have been something like the truth',\n",
       "        'fyodor pavlovitch was all his life fond of acting of suddenly playing an unexpected part sometimes without any motive for doing so and even to his own direct disadvantage as for instance in the present case this habit however is characteristic of a very great number of people some of them very clever ones not like fyodor pavlovitch pyotr alexandrovitch carried the business through vigorously and was appointed with fyodor pavlovitch joint guardian of the child who had a small property a house and land left him by his mother mitya did in fact pass into this cousin s keeping but as the latter had no family of his own and after securing the revenues of his estates was in haste to return at once to paris he left the boy in charge of one of his cousins a lady living in moscow it came to pass that settling permanently in paris he too forgot the child especially when the revolution of february broke out making an impression on his mind that he remembered all the rest of his life the moscow lady died and mitya passed into the care of one of her married daughters i believe he changed his home a fourth time later on i won t enlarge upon that now as i shall have much to tell later of fyodor pavlovitch s firstborn and must confine myself now to the most essential facts about him without which i could not begin my story',\n",
       "        'in the first place this mitya or rather dmitri fyodorovitch was the only one of fyodor pavlovitch s three sons who grew up in the belief that he had property and that he would be independent on coming of age he spent an irregular boyhood and youth he did not finish his studies at the gymnasium he got into a military school then went to the caucasus was promoted fought a duel and was degraded to the ranks earned promotion again led a wild life and spent a good deal of money he did not begin to receive any income from fyodor pavlovitch until he came of age and until then got into debt he saw and knew his father fyodor pavlovitch for the first time on coming of age when he visited our neighborhood on purpose to settle with him about his property he seems not to have liked his father he did not stay long with him and made haste to get away having only succeeded in obtaining a sum of money and entering into an agreement for future payments from the estate of the revenues and value of which he was unable a fact worthy of note upon this occasion to get a statement from his father fyodor pavlovitch remarked for the first time then this too should be noted that mitya had a vague and exaggerated idea of his property fyodor pavlovitch was very well satisfied with this as it fell in with his own designs he gathered only that the young man was frivolous unruly of violent passions impatient and dissipated and that if he could only obtain ready money he would be satisfied although only of course for a short time so fyodor pavlovitch began to take advantage of this fact sending him from time to time small doles installments in the end when four years later mitya losing patience came a second time to our little town to settle up once for all with his father it turned out to his amazement that he had nothing that it was difficult to get an account even that he had received the whole value of his property in sums of money from fyodor pavlovitch and was perhaps even in debt to him that by various agreements into which he had of his own desire entered at various previous dates he had no right to expect anything more and so on and so on the young man was overwhelmed suspected deceit and cheating and was almost beside himself and indeed this circumstance led to the catastrophe the account of which forms the subject of my first introductory story or rather the external side of it but before i pass to that story i must say a little of fyodor pavlovitch s other two sons and of their origin'],\n",
       "       dtype='<U14176'),\n",
       " array([0., 0., 0., 0., 0., 0., 0., 0., 0., 0.]))"
      ]
     },
     "execution_count": 5,
     "metadata": {},
     "output_type": "execute_result"
    }
   ],
   "source": [
    "data = np.hstack((f_data, d_data))\n",
    "data = np.hstack((data, a_data))\n",
    "\n",
    "n = f_data.shape[0] + d_data.shape[0] + a_data.shape[0]\n",
    "assert data.shape[0] == n\n",
    "\n",
    "labels = np.hstack((f_labels, d_labels))\n",
    "labels = np.hstack((labels, a_labels))\n",
    "\n",
    "assert labels.shape[0] == n\n",
    "data[0:10], labels[0:10]"
   ]
  },
  {
   "cell_type": "code",
   "execution_count": 6,
   "metadata": {
    "colab": {
     "base_uri": "https://localhost:8080/"
    },
    "id": "ehDSGzojw_p7",
    "outputId": "0e33c46a-e21b-47dd-8b2e-aa7a6204cf73"
   },
   "outputs": [
    {
     "data": {
      "text/plain": [
       "(14068, 3)"
      ]
     },
     "execution_count": 6,
     "metadata": {},
     "output_type": "execute_result"
    }
   ],
   "source": [
    "from keras.utils import to_categorical\n",
    "\n",
    "labels = to_categorical(labels)\n",
    "\n",
    "assert labels.shape[0] == n\n",
    "labels.shape"
   ]
  },
  {
   "cell_type": "code",
   "execution_count": 7,
   "metadata": {
    "id": "xaKekjHplYgw"
   },
   "outputs": [
    {
     "data": {
      "text/plain": [
       "array(['close to you murmured mitya kissing her dress her bosom her hands and suddenly he had a strange fancy it seemed to him that she was looking straight before her not at him not into his face but over his head with an intent almost uncanny fixity an expression of wonder almost of alarm came suddenly into her face',\n",
       "       'an hours complete leisure for such reflections as these on a dark november day a small thick rain almost blotting out the very few objects ever to be discerned from the windows was enough to make the sound of lady russells carriage exceedingly welcome and yet though desirous to be gone she could not quit the mansion house or look an adieu to the cottage with its black dripping and comfortless veranda or even notice through the misty glasses the last humble tenements of the village without a saddened heart scenes had passed in uppercross which made it precious it stood the record of many sensations of pain once severe but now softened and of some instances of relenting feeling some breathings of friendship and reconciliation which could never be looked for again and which could never cease to be dear she left it all behind her all but the recollection that such things had been',\n",
       "       'all the agreeable of her speculation was over for that hour it was time to have done with cards if sermons prevailed and she was glad to find it necessary to come to a conclusion and be able to refresh her spirits by a change of place and neighbour',\n",
       "       'here a d tremendous rap interrupted my father in his speech and somewhat alarmed my mother and me',\n",
       "       'no i dare say nor if he were to be gone a twelvemonth would you ever write to him nor he to you if it could be helped the occasion would never be foreseen what strange creatures brothers are you would not write to each other but upon the most urgent necessity in the world and when obliged to take up the pen to say that such a horse is ill or such a relation dead it is done in the fewest possible words you have but one style among you i know it perfectly henry who is in every other respect exactly what a brother should be who loves me consults me confides in me and will talk to me by the hour together has never yet turned the page in a letter and very often it is nothing more than dear mary i am just arrived bath seems full and everything as usual yours sincerely that is the true manly style that is a complete brothers letter'],\n",
       "      dtype='<U14176')"
      ]
     },
     "execution_count": 7,
     "metadata": {},
     "output_type": "execute_result"
    }
   ],
   "source": [
    "n_train = int(data.shape[0] * .8)\n",
    "n_val = int(data.shape[0] * .2)\n",
    "\n",
    "indices = np.random.permutation(range(data.shape[0]))\n",
    "train_indices = indices[:n_train-n_val]\n",
    "val_indices = indices[n_train-n_val:n_train]\n",
    "test_indices = indices[n_train:]\n",
    "\n",
    "X_train, y_train = data[train_indices], labels[train_indices]\n",
    "X_val, y_val = data[val_indices], labels[val_indices]\n",
    "X_test, y_test = data[test_indices], labels[test_indices]\n",
    "\n",
    "assert X_train.shape[0] + X_val.shape[0] + X_test.shape[0] == n\n",
    "assert y_train.shape[0] + y_val.shape[0] + y_test.shape[0] == n\n",
    "\n",
    "X_train[20:25]"
   ]
  },
  {
   "cell_type": "code",
   "execution_count": 8,
   "metadata": {
    "colab": {
     "base_uri": "https://localhost:8080/"
    },
    "id": "gZls58QkMHq9",
    "outputId": "5fcab5d0-27a2-4d27-fe01-60f22a81ee71"
   },
   "outputs": [
    {
     "data": {
      "text/plain": [
       "2681"
      ]
     },
     "execution_count": 8,
     "metadata": {},
     "output_type": "execute_result"
    }
   ],
   "source": [
    "max_seq_length = max(len(line.split()) for line in data)\n",
    "max_seq_length"
   ]
  },
  {
   "cell_type": "code",
   "execution_count": 9,
   "metadata": {
    "id": "DPL-yoZnMkr2"
   },
   "outputs": [],
   "source": [
    "from keras.preprocessing.text import Tokenizer\n",
    "from keras.preprocessing.sequence import pad_sequences\n",
    "\n",
    "tokenizer = Tokenizer()\n",
    "tokenizer.fit_on_texts(X_train)\n",
    "seqs = tokenizer.texts_to_sequences(X_train)\n",
    "X_train_pad = pad_sequences(seqs, maxlen=max_seq_length, padding='post')"
   ]
  },
  {
   "cell_type": "code",
   "execution_count": 10,
   "metadata": {
    "colab": {
     "base_uri": "https://localhost:8080/"
    },
    "id": "vEaX3lqdb0NT",
    "outputId": "0a0de639-907f-433c-c16a-79f83ed3fcf9"
   },
   "outputs": [
    {
     "data": {
      "text/plain": [
       "((8441, 2681),\n",
       " array([[  43,    8,    5, ...,    0,    0,    0],\n",
       "        [ 214,   65,   78, ...,    0,    0,    0],\n",
       "        [ 291, 1693,  926, ...,    0,    0,    0],\n",
       "        ...,\n",
       "        [  43,   24,    1, ...,    0,    0,    0],\n",
       "        [   7,    6,  219, ...,    0,    0,    0],\n",
       "        [   7, 6960,   21, ...,    0,    0,    0]], dtype=int32))"
      ]
     },
     "execution_count": 10,
     "metadata": {},
     "output_type": "execute_result"
    }
   ],
   "source": [
    "X_train_pad.shape, X_train_pad[0:10]"
   ]
  },
  {
   "cell_type": "code",
   "execution_count": 11,
   "metadata": {
    "colab": {
     "base_uri": "https://localhost:8080/"
    },
    "id": "J980IHl_aosP",
    "outputId": "404e0f34-938c-4fb5-c0ae-c18c83d86fe9"
   },
   "outputs": [
    {
     "data": {
      "text/plain": [
       "((2813, 2681), (2813, 2681))"
      ]
     },
     "execution_count": 11,
     "metadata": {},
     "output_type": "execute_result"
    }
   ],
   "source": [
    "seqs = tokenizer.texts_to_sequences(X_val)\n",
    "X_val_pad = pad_sequences(seqs, maxlen=max_seq_length, padding='post')\n",
    "\n",
    "seqs = tokenizer.texts_to_sequences(X_val)\n",
    "X_test_pad = pad_sequences(seqs, maxlen=max_seq_length, padding='post')\n",
    "\n",
    "X_val_pad.shape, X_test_pad.shape"
   ]
  },
  {
   "cell_type": "code",
   "execution_count": 12,
   "metadata": {
    "colab": {
     "base_uri": "https://localhost:8080/"
    },
    "id": "2FmLT2TKcBYU",
    "outputId": "2b160fb9-fa54-4e9f-9040-67dbe71c1311"
   },
   "outputs": [
    {
     "name": "stdout",
     "output_type": "stream",
     "text": [
      "--2021-04-23 22:18:52--  http://nlp.stanford.edu/data/glove.6B.zip\n",
      "Resolving nlp.stanford.edu (nlp.stanford.edu)... 171.64.67.140\n",
      "Connecting to nlp.stanford.edu (nlp.stanford.edu)|171.64.67.140|:80... connected.\n",
      "HTTP request sent, awaiting response... 302 Found\n",
      "Location: https://nlp.stanford.edu/data/glove.6B.zip [following]\n",
      "--2021-04-23 22:18:52--  https://nlp.stanford.edu/data/glove.6B.zip\n",
      "Loaded CA certificate '/etc/ssl/certs/ca-certificates.crt'\n",
      "Connecting to nlp.stanford.edu (nlp.stanford.edu)|171.64.67.140|:443... connected.\n",
      "HTTP request sent, awaiting response... 301 Moved Permanently\n",
      "Location: http://downloads.cs.stanford.edu/nlp/data/glove.6B.zip [following]\n",
      "--2021-04-23 22:18:53--  http://downloads.cs.stanford.edu/nlp/data/glove.6B.zip\n",
      "Resolving downloads.cs.stanford.edu (downloads.cs.stanford.edu)... 171.64.64.22\n",
      "Connecting to downloads.cs.stanford.edu (downloads.cs.stanford.edu)|171.64.64.22|:80... connected.\n",
      "HTTP request sent, awaiting response... 200 OK\n",
      "Length: 862182613 (822M) [application/zip]\n",
      "Saving to: ‘/tmp/glove.6B.zip’\n",
      "\n",
      "/tmp/glove.6B.zip   100%[===================>] 822.24M  5.20MB/s    in 2m 40s  \n",
      "\n",
      "2021-04-23 22:21:33 (5.13 MB/s) - ‘/tmp/glove.6B.zip’ saved [862182613/862182613]\n",
      "\n"
     ]
    }
   ],
   "source": [
    "!wget http://nlp.stanford.edu/data/glove.6B.zip -O /tmp/glove.6B.zip\n",
    "!unzip -q /tmp/glove.6B.zip"
   ]
  },
  {
   "cell_type": "code",
   "execution_count": 14,
   "metadata": {
    "colab": {
     "base_uri": "https://localhost:8080/"
    },
    "id": "7fn2tW6vdVDr",
    "outputId": "f7f168d6-1d50-4216-8fec-4c029ad7302c"
   },
   "outputs": [
    {
     "name": "stdout",
     "output_type": "stream",
     "text": [
      "Found 400000 word vectors.\n"
     ]
    }
   ],
   "source": [
    "embeddings_index = {}\n",
    "with open(\"/tmp/glove.6B.100d.txt\") as f:\n",
    "    for line in f:\n",
    "        word, coefs = line.split(maxsplit=1)\n",
    "        coefs = np.fromstring(coefs, \"f\", sep=\" \")\n",
    "        embeddings_index[word] = coefs\n",
    "\n",
    "print(\"Found %s word vectors.\" % len(embeddings_index))"
   ]
  },
  {
   "cell_type": "code",
   "execution_count": 16,
   "metadata": {
    "colab": {
     "base_uri": "https://localhost:8080/"
    },
    "id": "yf4-6G4fgBjq",
    "outputId": "296e71db-9c07-4ee5-c062-9b4d25a9f774"
   },
   "outputs": [
    {
     "name": "stdout",
     "output_type": "stream",
     "text": [
      "Converted 16805 words (1162 misses)\n"
     ]
    }
   ],
   "source": [
    "num_tokens = len(tokenizer.word_index) + 2\n",
    "embedding_dim = 100\n",
    "hits = 0\n",
    "misses = 0\n",
    "\n",
    "# Prepare embedding matrix\n",
    "embedding_matrix = np.zeros((num_tokens, embedding_dim))\n",
    "for word, i in tokenizer.word_index.items():\n",
    "    embedding_vector = embeddings_index.get(word)\n",
    "    if embedding_vector is not None:\n",
    "        # Words not found in embedding index will be all-zeros.\n",
    "        # This includes the representation for \"padding\" and \"OOV\"\n",
    "        embedding_matrix[i] = embedding_vector\n",
    "        hits += 1\n",
    "    else:\n",
    "        misses += 1\n",
    "print(\"Converted %d words (%d misses)\" % (hits, misses))"
   ]
  },
  {
   "cell_type": "code",
   "execution_count": 17,
   "metadata": {
    "colab": {
     "base_uri": "https://localhost:8080/"
    },
    "id": "BN93KSCshenS",
    "outputId": "7aed73ae-f9e8-46b3-979a-48acc55b8346"
   },
   "outputs": [
    {
     "name": "stdout",
     "output_type": "stream",
     "text": [
      "Model: \"sequential\"\n",
      "_________________________________________________________________\n",
      "Layer (type)                 Output Shape              Param #   \n",
      "=================================================================\n",
      "embedding (Embedding)        (None, 2681, 100)         1796900   \n",
      "_________________________________________________________________\n",
      "zero_padding1d (ZeroPadding1 (None, 2687, 100)         0         \n",
      "_________________________________________________________________\n",
      "conv1d (Conv1D)              (None, 2684, 128)         51328     \n",
      "_________________________________________________________________\n",
      "global_max_pooling1d (Global (None, 128)               0         \n",
      "_________________________________________________________________\n",
      "dense (Dense)                (None, 64)                8256      \n",
      "_________________________________________________________________\n",
      "dense_1 (Dense)              (None, 3)                 195       \n",
      "=================================================================\n",
      "Total params: 1,856,679\n",
      "Trainable params: 59,779\n",
      "Non-trainable params: 1,796,900\n",
      "_________________________________________________________________\n"
     ]
    }
   ],
   "source": [
    "from keras.layers import Embedding, Conv1D, ZeroPadding1D, Dense, GlobalMaxPooling1D\n",
    "from keras.models import Sequential\n",
    "from keras.initializers import Constant\n",
    "\n",
    "cnn_model = Sequential()\n",
    "cnn_model.add(\n",
    "    Embedding(\n",
    "        num_tokens,\n",
    "        embedding_dim,\n",
    "        embeddings_initializer=Constant(embedding_matrix),\n",
    "        trainable=False,\n",
    "        input_length=max_seq_length\n",
    "    )\n",
    ")\n",
    "cnn_model.add(ZeroPadding1D(3))\n",
    "cnn_model.add(Conv1D(128, 4, activation='relu'))\n",
    "cnn_model.add(GlobalMaxPooling1D())\n",
    "cnn_model.add(Dense(64, activation='relu'))\n",
    "cnn_model.add(Dense(3, activation='softmax'))\n",
    "cnn_model.summary()\n"
   ]
  },
  {
   "cell_type": "code",
   "execution_count": 18,
   "metadata": {
    "colab": {
     "base_uri": "https://localhost:8080/"
    },
    "id": "T44lWP4jwlTb",
    "outputId": "650702af-fd70-47f6-c89b-5fca8b205534"
   },
   "outputs": [
    {
     "name": "stdout",
     "output_type": "stream",
     "text": [
      "Epoch 1/10\n",
      "264/264 [==============================] - 7s 15ms/step - loss: 0.5854 - acc: 0.7635 - precision: 0.7924 - recall: 0.7266 - val_loss: 0.2373 - val_acc: 0.9097 - val_precision: 0.9361 - val_recall: 0.8905\n",
      "Epoch 2/10\n",
      "264/264 [==============================] - 3s 13ms/step - loss: 0.1583 - acc: 0.9436 - precision: 0.9554 - recall: 0.9324 - val_loss: 0.1948 - val_acc: 0.9271 - val_precision: 0.9402 - val_recall: 0.9172\n",
      "Epoch 3/10\n",
      "264/264 [==============================] - 3s 13ms/step - loss: 0.0983 - acc: 0.9687 - precision: 0.9729 - recall: 0.9616 - val_loss: 0.3087 - val_acc: 0.9019 - val_precision: 0.9074 - val_recall: 0.8987\n",
      "Epoch 4/10\n",
      "264/264 [==============================] - 3s 13ms/step - loss: 0.0546 - acc: 0.9835 - precision: 0.9849 - recall: 0.9817 - val_loss: 0.2384 - val_acc: 0.9239 - val_precision: 0.9278 - val_recall: 0.9186\n",
      "Epoch 5/10\n",
      "264/264 [==============================] - 3s 13ms/step - loss: 0.0240 - acc: 0.9957 - precision: 0.9965 - recall: 0.9947 - val_loss: 0.2197 - val_acc: 0.9293 - val_precision: 0.9343 - val_recall: 0.9253\n",
      "Epoch 6/10\n",
      "264/264 [==============================] - 3s 13ms/step - loss: 0.0183 - acc: 0.9968 - precision: 0.9968 - recall: 0.9967 - val_loss: 0.3102 - val_acc: 0.9207 - val_precision: 0.9240 - val_recall: 0.9200\n",
      "Epoch 7/10\n",
      "264/264 [==============================] - 3s 13ms/step - loss: 0.0121 - acc: 0.9979 - precision: 0.9983 - recall: 0.9979 - val_loss: 0.2864 - val_acc: 0.9278 - val_precision: 0.9299 - val_recall: 0.9250\n",
      "Epoch 8/10\n",
      "264/264 [==============================] - 3s 13ms/step - loss: 0.0155 - acc: 0.9974 - precision: 0.9976 - recall: 0.9974 - val_loss: 0.2517 - val_acc: 0.9328 - val_precision: 0.9336 - val_recall: 0.9303\n",
      "Epoch 9/10\n",
      "264/264 [==============================] - 3s 13ms/step - loss: 0.0105 - acc: 0.9978 - precision: 0.9978 - recall: 0.9977 - val_loss: 0.3470 - val_acc: 0.9093 - val_precision: 0.9107 - val_recall: 0.9065\n",
      "Epoch 10/10\n",
      "264/264 [==============================] - 3s 13ms/step - loss: 0.0423 - acc: 0.9836 - precision: 0.9839 - recall: 0.9827 - val_loss: 0.2746 - val_acc: 0.9310 - val_precision: 0.9326 - val_recall: 0.9300\n"
     ]
    }
   ],
   "source": [
    "from keras.metrics import Precision, Recall\n",
    "from keras.optimizers import Adam\n",
    "cnn_model.compile(optimizer=Adam(lr=1E-3), loss='categorical_crossentropy', \n",
    "                  metrics=['acc', Precision(), Recall()])\n",
    "\n",
    "history = cnn_model.fit(X_train_pad, y_train, validation_data=(X_val_pad, y_val),\n",
    "                        batch_size=32, epochs=10)"
   ]
  },
  {
   "cell_type": "code",
   "execution_count": 19,
   "metadata": {
    "colab": {
     "base_uri": "https://localhost:8080/"
    },
    "id": "4_H3mKQDktQG",
    "outputId": "7070d62f-6099-43db-d590-22c1248f925e"
   },
   "outputs": [
    {
     "name": "stdout",
     "output_type": "stream",
     "text": [
      "Model: \"sequential_1\"\n",
      "_________________________________________________________________\n",
      "Layer (type)                 Output Shape              Param #   \n",
      "=================================================================\n",
      "embedding_1 (Embedding)      (None, 2681, 100)         1796900   \n",
      "_________________________________________________________________\n",
      "lstm (LSTM)                  (None, 2681, 256)         365568    \n",
      "_________________________________________________________________\n",
      "global_max_pooling1d_1 (Glob (None, 256)               0         \n",
      "_________________________________________________________________\n",
      "dense_2 (Dense)              (None, 128)               32896     \n",
      "_________________________________________________________________\n",
      "dense_3 (Dense)              (None, 3)                 387       \n",
      "=================================================================\n",
      "Total params: 2,195,751\n",
      "Trainable params: 398,851\n",
      "Non-trainable params: 1,796,900\n",
      "_________________________________________________________________\n"
     ]
    }
   ],
   "source": [
    "from keras.layers import LSTM\n",
    "\n",
    "lstm_model = Sequential()\n",
    "lstm_model.add(Embedding(\n",
    "        num_tokens,\n",
    "        embedding_dim,\n",
    "        embeddings_initializer=Constant(embedding_matrix),\n",
    "        trainable=False,\n",
    "        input_length=max_seq_length\n",
    "))\n",
    "lstm_model.add(LSTM(256, return_sequences=True))\n",
    "lstm_model.add(GlobalMaxPooling1D())\n",
    "lstm_model.add(Dense(128, activation='relu'))\n",
    "lstm_model.add(Dense(3, activation='softmax'))\n",
    "lstm_model.summary()"
   ]
  },
  {
   "cell_type": "code",
   "execution_count": 20,
   "metadata": {
    "colab": {
     "base_uri": "https://localhost:8080/"
    },
    "id": "xD0ruqcM1nh3",
    "outputId": "1bb25fa2-5ec6-448c-bf27-e65d3465189c"
   },
   "outputs": [
    {
     "name": "stdout",
     "output_type": "stream",
     "text": [
      "Epoch 1/10\n",
      "264/264 [==============================] - 27s 99ms/step - loss: 0.6474 - acc: 0.7291 - precision_1: 0.7707 - recall_1: 0.6894 - val_loss: 0.2344 - val_acc: 0.9086 - val_precision_1: 0.9315 - val_recall_1: 0.8891\n",
      "Epoch 2/10\n",
      "264/264 [==============================] - 26s 97ms/step - loss: 0.2054 - acc: 0.9229 - precision_1: 0.9393 - recall_1: 0.9096 - val_loss: 0.1851 - val_acc: 0.9264 - val_precision_1: 0.9397 - val_recall_1: 0.9140\n",
      "Epoch 3/10\n",
      "264/264 [==============================] - 26s 98ms/step - loss: 0.1434 - acc: 0.9466 - precision_1: 0.9559 - recall_1: 0.9375 - val_loss: 0.1682 - val_acc: 0.9353 - val_precision_1: 0.9442 - val_recall_1: 0.9257\n",
      "Epoch 4/10\n",
      "264/264 [==============================] - 26s 97ms/step - loss: 0.0904 - acc: 0.9676 - precision_1: 0.9744 - recall_1: 0.9626 - val_loss: 0.1695 - val_acc: 0.9332 - val_precision_1: 0.9382 - val_recall_1: 0.9289\n",
      "Epoch 5/10\n",
      "264/264 [==============================] - 26s 98ms/step - loss: 0.0494 - acc: 0.9863 - precision_1: 0.9886 - recall_1: 0.9847 - val_loss: 0.2057 - val_acc: 0.9278 - val_precision_1: 0.9336 - val_recall_1: 0.9253\n",
      "Epoch 6/10\n",
      "264/264 [==============================] - 26s 98ms/step - loss: 0.0324 - acc: 0.9910 - precision_1: 0.9913 - recall_1: 0.9898 - val_loss: 0.1774 - val_acc: 0.9389 - val_precision_1: 0.9424 - val_recall_1: 0.9357\n",
      "Epoch 7/10\n",
      "264/264 [==============================] - 26s 97ms/step - loss: 0.0203 - acc: 0.9946 - precision_1: 0.9958 - recall_1: 0.9944 - val_loss: 0.2017 - val_acc: 0.9349 - val_precision_1: 0.9395 - val_recall_1: 0.9328\n",
      "Epoch 8/10\n",
      "264/264 [==============================] - 26s 98ms/step - loss: 0.0104 - acc: 0.9982 - precision_1: 0.9982 - recall_1: 0.9979 - val_loss: 0.2566 - val_acc: 0.9314 - val_precision_1: 0.9323 - val_recall_1: 0.9300\n",
      "Epoch 9/10\n",
      "264/264 [==============================] - 26s 97ms/step - loss: 0.0118 - acc: 0.9974 - precision_1: 0.9974 - recall_1: 0.9973 - val_loss: 0.2790 - val_acc: 0.9303 - val_precision_1: 0.9316 - val_recall_1: 0.9300\n",
      "Epoch 10/10\n",
      "264/264 [==============================] - 26s 99ms/step - loss: 0.0054 - acc: 0.9989 - precision_1: 0.9989 - recall_1: 0.9989 - val_loss: 0.2275 - val_acc: 0.9374 - val_precision_1: 0.9387 - val_recall_1: 0.9360\n"
     ]
    }
   ],
   "source": [
    "lstm_model.compile(optimizer=Adam(lr=1E-3), loss='categorical_crossentropy', \n",
    "                  metrics=['acc', Precision(), Recall()])\n",
    "\n",
    "history = lstm_model.fit(X_train_pad, y_train, validation_data=(X_val_pad, y_val),\n",
    "                         batch_size=32, epochs=10)"
   ]
  },
  {
   "cell_type": "code",
   "execution_count": 21,
   "metadata": {
    "id": "mbk74vnVldsV"
   },
   "outputs": [
    {
     "name": "stdout",
     "output_type": "stream",
     "text": [
      "Model: \"sequential_2\"\n",
      "_________________________________________________________________\n",
      "Layer (type)                 Output Shape              Param #   \n",
      "=================================================================\n",
      "embedding_2 (Embedding)      (None, 2681, 100)         1796900   \n",
      "_________________________________________________________________\n",
      "lstm_1 (LSTM)                (None, 256)               365568    \n",
      "_________________________________________________________________\n",
      "dense_4 (Dense)              (None, 128)               32896     \n",
      "_________________________________________________________________\n",
      "dense_5 (Dense)              (None, 3)                 387       \n",
      "=================================================================\n",
      "Total params: 2,195,751\n",
      "Trainable params: 398,851\n",
      "Non-trainable params: 1,796,900\n",
      "_________________________________________________________________\n"
     ]
    }
   ],
   "source": [
    "lstm_model = Sequential()\n",
    "lstm_model.add(Embedding(\n",
    "        num_tokens,\n",
    "        embedding_dim,\n",
    "        embeddings_initializer=Constant(embedding_matrix),\n",
    "        trainable=False,\n",
    "        input_length=max_seq_length\n",
    "))\n",
    "lstm_model.add(LSTM(256, return_sequences=False))\n",
    "lstm_model.add(Dense(128, activation='relu'))\n",
    "lstm_model.add(Dense(3, activation='softmax'))\n",
    "lstm_model.summary()"
   ]
  },
  {
   "cell_type": "code",
   "execution_count": 22,
   "metadata": {},
   "outputs": [
    {
     "name": "stdout",
     "output_type": "stream",
     "text": [
      "Epoch 1/10\n",
      "264/264 [==============================] - 27s 99ms/step - loss: 1.0677 - acc: 0.6082 - precision_2: 0.0000e+00 - recall_2: 0.0000e+00 - val_loss: 0.9946 - val_acc: 0.6100 - val_precision_2: 0.0000e+00 - val_recall_2: 0.0000e+00\n",
      "Epoch 2/10\n",
      "264/264 [==============================] - 25s 96ms/step - loss: 0.9789 - acc: 0.6096 - precision_2: 0.0000e+00 - recall_2: 0.0000e+00 - val_loss: 0.9413 - val_acc: 0.6100 - val_precision_2: 0.0000e+00 - val_recall_2: 0.0000e+00\n",
      "Epoch 3/10\n",
      "264/264 [==============================] - 26s 97ms/step - loss: 0.9337 - acc: 0.6147 - precision_2: 0.5976 - recall_2: 0.5527 - val_loss: 0.9155 - val_acc: 0.6100 - val_precision_2: 0.6100 - val_recall_2: 0.6100\n",
      "Epoch 4/10\n",
      "264/264 [==============================] - 25s 96ms/step - loss: 0.9144 - acc: 0.6119 - precision_2: 0.6119 - recall_2: 0.6119 - val_loss: 0.9033 - val_acc: 0.6100 - val_precision_2: 0.6100 - val_recall_2: 0.6100\n",
      "Epoch 5/10\n",
      "264/264 [==============================] - 25s 96ms/step - loss: 0.9028 - acc: 0.6134 - precision_2: 0.6134 - recall_2: 0.6134 - val_loss: 0.8974 - val_acc: 0.6100 - val_precision_2: 0.6100 - val_recall_2: 0.6100\n",
      "Epoch 6/10\n",
      "264/264 [==============================] - 25s 96ms/step - loss: 0.9007 - acc: 0.6089 - precision_2: 0.6089 - recall_2: 0.6089 - val_loss: 0.8946 - val_acc: 0.6100 - val_precision_2: 0.6100 - val_recall_2: 0.6100\n",
      "Epoch 7/10\n",
      "264/264 [==============================] - 25s 96ms/step - loss: 0.9002 - acc: 0.6118 - precision_2: 0.6118 - recall_2: 0.6118 - val_loss: 0.8932 - val_acc: 0.6100 - val_precision_2: 0.6100 - val_recall_2: 0.6100\n",
      "Epoch 8/10\n",
      "264/264 [==============================] - 26s 97ms/step - loss: 0.9026 - acc: 0.6085 - precision_2: 0.6085 - recall_2: 0.6085 - val_loss: 0.8924 - val_acc: 0.6100 - val_precision_2: 0.6100 - val_recall_2: 0.6100\n",
      "Epoch 9/10\n",
      "264/264 [==============================] - 26s 97ms/step - loss: 0.9018 - acc: 0.6068 - precision_2: 0.6068 - recall_2: 0.6068 - val_loss: 0.8921 - val_acc: 0.6100 - val_precision_2: 0.6100 - val_recall_2: 0.6100\n",
      "Epoch 10/10\n",
      "264/264 [==============================] - 26s 98ms/step - loss: 0.8958 - acc: 0.6158 - precision_2: 0.6158 - recall_2: 0.6158 - val_loss: 0.8919 - val_acc: 0.6100 - val_precision_2: 0.6100 - val_recall_2: 0.6100\n"
     ]
    }
   ],
   "source": [
    "lstm_model.compile(optimizer=Adam(lr=1E-3), loss='categorical_crossentropy', \n",
    "                  metrics=['acc', Precision(), Recall()])\n",
    "\n",
    "history = lstm_model.fit(X_train_pad, y_train, validation_data=(X_val_pad, y_val),\n",
    "                         batch_size=32, epochs=10)"
   ]
  },
  {
   "cell_type": "markdown",
   "metadata": {},
   "source": [
    "### Logistic Regression"
   ]
  },
  {
   "cell_type": "code",
   "execution_count": 23,
   "metadata": {},
   "outputs": [
    {
     "data": {
      "text/plain": [
       "((8441, 17967), (2813, 17967), (2814, 17967))"
      ]
     },
     "execution_count": 23,
     "metadata": {},
     "output_type": "execute_result"
    }
   ],
   "source": [
    "import scipy.sparse\n",
    "\n",
    "from scipy.sparse import csr_matrix\n",
    "from sklearn.feature_extraction.text import TfidfVectorizer\n",
    "\n",
    "def _insert_bias(X):\n",
    "    \"\"\" Inserts the bias \"\"\"\n",
    "    bias = np.ones((X.shape[0], 1))\n",
    "    if isinstance(X, scipy.sparse.csr.csr_matrix):\n",
    "        X = np.concatenate((X.todense(), bias), axis=1)  # Insert bias into the features\n",
    "        X = csr_matrix(X)\n",
    "    else:\n",
    "        X = np.concatenate((X, bias), axis=1)\n",
    "    return X\n",
    "\n",
    "vectorizer = TfidfVectorizer(vocabulary=tokenizer.word_index.keys())\n",
    "tf_train = vectorizer.fit_transform(X_train)\n",
    "tf_val = vectorizer.transform(X_val)\n",
    "tf_test = vectorizer.transform(X_test)\n",
    "\n",
    "assert tf_train.shape[0] + tf_val.shape[0] + tf_test.shape[0] == n\n",
    "\n",
    "tf_train.shape, tf_val.shape, tf_test.shape"
   ]
  },
  {
   "cell_type": "code",
   "execution_count": 24,
   "metadata": {},
   "outputs": [
    {
     "data": {
      "text/plain": [
       "((8441, 17968), (2813, 17968), (2814, 17968))"
      ]
     },
     "execution_count": 24,
     "metadata": {},
     "output_type": "execute_result"
    }
   ],
   "source": [
    "tf_train = _insert_bias(tf_train)\n",
    "tf_val = _insert_bias(tf_val)\n",
    "tf_test = _insert_bias(tf_test)\n",
    "\n",
    "tf_train.shape, tf_val.shape, tf_test.shape"
   ]
  },
  {
   "cell_type": "code",
   "execution_count": 25,
   "metadata": {},
   "outputs": [],
   "source": [
    "from typing import Tuple\n",
    "import matplotlib.pyplot as plt\n",
    "\n",
    "class LogisticRegression:\n",
    "    \n",
    "    def __init__(self, learning_rate: float, max_epochs: int = 1000, precision: float = 1E-6, \n",
    "                 lam: float = 1E-4, optimizer: str = 'sgd', batch_size: int = None):\n",
    "        \"\"\" Initializes the class \"\"\"\n",
    "        self.rate = learning_rate\n",
    "        self.epochs = max_epochs\n",
    "        self.precision = precision\n",
    "        self.lambda_ = lam\n",
    "        self.b_ = batch_size\n",
    "        self.alg_ = self._set_optimizer(optimizer)\n",
    "        self.loss_ = None\n",
    "        self.val_loss_ = None\n",
    "        self.w_ = None\n",
    "        \n",
    "    def _set_optimizer(self, optimizer: str):\n",
    "        \"\"\" Sets the optimizer to either stochastic or mini-batch stochastic gradient descent \"\"\"\n",
    "        optimizer = optimizer.lower().strip()\n",
    "        if optimizer == 'sgd':\n",
    "            return self._stochastic_descent\n",
    "        elif optimizer == 'mbsgd':\n",
    "            if not self.b_:\n",
    "                raise ValueError(\"You must declare a batch size with 'batch_size' in order to use \" \\\n",
    "                                 \"mini-batch stochastic gradient descent\")\n",
    "            return self._mb_stochastic_descent\n",
    "        else:\n",
    "            raise ValueError(f\"Optimizer must be of value 'sgd' or 'mbsgd'. The value {optimizer} is not valid\")\n",
    "\n",
    "    def predict(self, X: np.ndarray) -> np.ndarray:\n",
    "        \"\"\" Predicts the class of the input array \"\"\"\n",
    "        if len(X.shape) == 1:\n",
    "            X = X.reshape((1, X.shape[0]))\n",
    "        phi = X.dot(self.w_)\n",
    "        return np.argmax(self._softmax_batch(phi), axis=1)\n",
    "    \n",
    "    def score(self, X: np.ndarray, y: np.ndarray) -> float:\n",
    "        \"\"\" Scores how well the Logistic model predicts \"\"\"\n",
    "        labels = self.predict(X)\n",
    "        onehot = np.argmax(y, axis=1)\n",
    "        return sum(labels == onehot) / len(y)\n",
    "    \n",
    "    def plot(self) -> None:\n",
    "        \"\"\" Plots the loss \"\"\"\n",
    "        epochs = len(self.loss_)\n",
    "        fig = plt.figure(figsize=(10, 5))\n",
    "        plt.plot(range(epochs), self.loss_)\n",
    "        if self.val_loss_:\n",
    "            plt.plot(range(epochs), self.val_loss_)\n",
    "        plt.title('Loss per Epoch')\n",
    "        plt.xlabel('Epochs')\n",
    "        plt.ylabel('Loss')\n",
    "        plt.show()\n",
    "    \n",
    "    def fit(self, X: np.ndarray, y: np.ndarray, X_val: np.ndarray = None, y_val: np.ndarray = None,\n",
    "            verbose: bool = True) -> None:\n",
    "        \"\"\" Fits the model to the training data \"\"\"\n",
    "        self.loss_ = list()\n",
    "        self.val_loss_ = list()\n",
    "        for i in range(self.epochs):\n",
    "            n, d = X.shape\n",
    "            rand_indices = np.random.permutation(n)\n",
    "            xi = X[rand_indices, :]\n",
    "            yi = y[rand_indices, :]\n",
    "            \n",
    "            if self.w_ is None:\n",
    "                self.w_ = np.random.normal(scale = 0.1, size = (d, yi.shape[1])) # d x k matrix\n",
    "            \n",
    "            loss = self.alg_(xi, yi)\n",
    "            self.loss_.append(loss)\n",
    "            \n",
    "            val_loss = None\n",
    "            if X_val is not None and y_val is not None:\n",
    "                val_loss = self.loss(X_val, y_val)\n",
    "                self.val_loss_.append(val_loss)\n",
    "            \n",
    "            if verbose:\n",
    "                print(f\"Loss at epoch {i} is {loss}\")\n",
    "                if val_loss:\n",
    "                    print(f\"Val Loss at epoch {i} is {val_loss}\")\n",
    "            \n",
    "            if i > 0 and abs(self.loss_[i-1] - loss) <= self.precision:\n",
    "                print(f\"Precision reached at epoch {i}\")\n",
    "                break\n",
    "                \n",
    "            self.rate *= 0.9  # Decay the learning rate for stability\n",
    "            \n",
    "    def loss(self, X, y) -> float:\n",
    "        \"\"\" Defines the loss for the model \"\"\"\n",
    "        phi = X.dot(self.w_)  # 1 x k vector\n",
    "        softmax = self._softmax_batch(phi)  # 1 x k vector\n",
    "        loss = np.sum(np.multiply(y, np.log(softmax))) \n",
    "        loss += self.lambda_ * np.sum(np.square(self.w_))  # scalar\n",
    "        return -loss / X.shape[0]\n",
    "        \n",
    "    def _stochastic_descent(self, xi: np.ndarray, yi: np.ndarray) -> float:\n",
    "        \"\"\" Implementation of stochastic gradient descent \"\"\"\n",
    "        n, d = xi.shape\n",
    "        epoch_loss = 0.\n",
    "        for k in range(n):\n",
    "            x = xi[k, :]\n",
    "            y = yi[k, :]\n",
    "            loss, g = self._stochastic_gradient(x, y)\n",
    "            epoch_loss += loss\n",
    "            self.w_ -= self.rate * g\n",
    "        return -epoch_loss / n\n",
    "        \n",
    "    def _stochastic_gradient(self, x: np.ndarray, y: np.ndarray) -> Tuple[float, np.ndarray]:\n",
    "        \"\"\" Computes the stochastic gradient and its loss \"\"\"\n",
    "        if len(x.shape) == 1:\n",
    "            x = x.reshape((1, x.shape[0]))  # 1 x d vector\n",
    "        if len(y.shape) == 1:\n",
    "            y = y.reshape((1, y.shape[0]))  # 1 x k vector\n",
    "        \n",
    "        phi = x.dot(self.w_)  # 1 x k vector\n",
    "        softmax = self._softmax(phi)  # 1 x k vector\n",
    "        loss = np.sum(np.multiply(y, np.log(softmax))) + (self.lambda_ * np.sum(np.square(self.w_)))  # scalar     \n",
    "        g = (x.T.dot(softmax - y)) + (2 * self.lambda_ * self.w_) # d x k matrix\n",
    "        return loss, g\n",
    "    \n",
    "    @staticmethod\n",
    "    def _softmax(phi: np.ndarray) -> np.ndarray:\n",
    "        \"\"\" Solves the softmax function \"\"\"\n",
    "        exps = np.exp(phi)\n",
    "        return exps / np.sum(exps)  # k x 1 matrix\n",
    "\n",
    "    def _mb_stochastic_descent(self, xi: np.ndarray, yi: np.ndarray) -> float:\n",
    "        \"\"\" Implementation of stochastic gradient descent \"\"\"\n",
    "        n, d = xi.shape\n",
    "        iters = int(n / self.b_)\n",
    "        epoch_loss = 0.\n",
    "        start = 0\n",
    "        for k in range(iters):\n",
    "            end = start + self.b_\n",
    "            x = xi[start:end, :]\n",
    "            y = yi[start:end, :]\n",
    "            loss, g = self._mb_stochastic_gradient(x, y)\n",
    "            epoch_loss += loss\n",
    "            self.w_ -= self.rate * g\n",
    "            start = end\n",
    "        return -epoch_loss / iters\n",
    "        \n",
    "    def _mb_stochastic_gradient(self, x: np.ndarray, y: np.ndarray) -> Tuple[float, np.ndarray]:\n",
    "        \"\"\" Computes the mini-batch stochastic gradient and its loss \"\"\"\n",
    "        phi = x.dot(self.w_)  # b x k matrix\n",
    "        softmax = self._softmax_batch(phi)  # b x k matrix\n",
    "        \n",
    "        loss = np.sum(np.multiply(y, np.log(softmax))) \n",
    "        loss += self.lambda_ * np.sum(np.square(self.w_))  # scalar\n",
    "        loss /= self.b_\n",
    "        \n",
    "        g = x.T.dot(softmax - y) + (2 * self.lambda_ * self.w_) # d x k matrix\n",
    "        g /= self.b_\n",
    "        return loss, g\n",
    "\n",
    "    @staticmethod\n",
    "    def _softmax_batch(phi: np.ndarray) -> np.ndarray:\n",
    "        \"\"\" Defines row-wise softmax \"\"\"\n",
    "        exps = np.exp(phi)\n",
    "        return exps / np.sum(exps, axis=1, keepdims=True)"
   ]
  },
  {
   "cell_type": "code",
   "execution_count": 26,
   "metadata": {},
   "outputs": [
    {
     "name": "stdout",
     "output_type": "stream",
     "text": [
      "Loss at epoch 0 is 0.536602936237428\n",
      "Val Loss at epoch 0 is 0.450591824035884\n",
      "Loss at epoch 1 is 0.3218058211278821\n",
      "Val Loss at epoch 1 is 0.3790897945018713\n",
      "Loss at epoch 2 is 0.2503220439486167\n",
      "Val Loss at epoch 2 is 0.3416193783457667\n",
      "Loss at epoch 3 is 0.21224904751487908\n",
      "Val Loss at epoch 3 is 0.32243412768507007\n",
      "Loss at epoch 4 is 0.18932884789004903\n",
      "Val Loss at epoch 4 is 0.31236847475850493\n",
      "Loss at epoch 5 is 0.17456071878521004\n",
      "Val Loss at epoch 5 is 0.30564413360740683\n",
      "Loss at epoch 6 is 0.1636535583013369\n",
      "Val Loss at epoch 6 is 0.3030836601393823\n",
      "Loss at epoch 7 is 0.156195549059487\n",
      "Val Loss at epoch 7 is 0.29854410136265613\n",
      "Loss at epoch 8 is 0.15032818516529883\n",
      "Val Loss at epoch 8 is 0.29646735814822056\n",
      "Loss at epoch 9 is 0.14550591119685274\n",
      "Val Loss at epoch 9 is 0.29655564806016316\n"
     ]
    }
   ],
   "source": [
    "sgdlog = LogisticRegression(0.1, max_epochs=10)\n",
    "sgdlog.fit(tf_train, y_train, tf_val, y_val)"
   ]
  },
  {
   "cell_type": "code",
   "execution_count": 27,
   "metadata": {},
   "outputs": [
    {
     "data": {
      "image/png": "[encoded data removed]",
      "text/plain": [
       "<Figure size 720x360 with 1 Axes>"
      ]
     },
     "metadata": {
      "needs_background": "light"
     },
     "output_type": "display_data"
    }
   ],
   "source": [
    "sgdlog.plot()"
   ]
  },
  {
   "cell_type": "markdown",
   "metadata": {},
   "source": [
    "### Neural Network"
   ]
  },
  {
   "cell_type": "code",
   "execution_count": 28,
   "metadata": {},
   "outputs": [],
   "source": [
    "class Neuron:\n",
    "    \n",
    "    def __init__(self):\n",
    "        \"\"\" Initializes the Neuron \"\"\"\n",
    "        pass\n",
    "    \n",
    "    def forward(self, xi):\n",
    "        \"\"\" Defines the foward pass of the neuron \"\"\"\n",
    "        pass\n",
    "    \n",
    "    def backward(self, xi, gradient, rate):\n",
    "        \"\"\" Defines the backward pass for the neuron \"\"\"\n",
    "        pass\n",
    "    \n",
    "\n",
    "class ReLU(Neuron):\n",
    "    \n",
    "    def __init__(self):\n",
    "        \"\"\" Initializes the Neuron \"\"\"\n",
    "        pass\n",
    "    \n",
    "    def forward(self, xi):\n",
    "        \"\"\" Defines the ReLU function \"\"\"\n",
    "        return np.maximum(0, xi)\n",
    "    \n",
    "    def backward(self, xi, gradient, rate):\n",
    "        \"\"\" Defines the gradient for the ReLU function \"\"\"\n",
    "        relu_g = xi > 0\n",
    "        backpass = gradient * relu_g\n",
    "        return backpass\n",
    "        \n",
    "\n",
    "class Tanh(Neuron):\n",
    "    \n",
    "    \"\"\" This was a thought, but it was not actually used \"\"\"\n",
    "    \n",
    "    def __init__(self):\n",
    "        \"\"\" Initializes the Neuron \"\"\"\n",
    "        pass\n",
    "    \n",
    "    def forward(self, xi):\n",
    "        \"\"\" Defines the Tanh function \"\"\"\n",
    "        return np.tanh(xi)\n",
    "    \n",
    "    def backward(self, xi, gradient, rate):\n",
    "        \"\"\" Defines the gradient for the Tanh function \"\"\"\n",
    "        backpass = (1 - np.square(np.tanh(xi))) * gradient\n",
    "        return backpass\n",
    "    \n",
    "\n",
    "class Softmax(Neuron):\n",
    "     \n",
    "    def __init__(self):\n",
    "        \"\"\" Initializes the Neuron \"\"\"\n",
    "        pass\n",
    "\n",
    "    def forward(self, xi):\n",
    "        \"\"\" Defines the Softmax function \"\"\"\n",
    "        exps = np.exp(xi - np.max(xi))  # Adding np.max(xi) for numeric stability\n",
    "        return exps / np.sum(exps, axis=1, keepdims=True)\n",
    "    \n",
    "    def backward(self, xi, gradient, rate):\n",
    "        \"\"\" Defines the gradient for the Softmax function \"\"\"\n",
    "        sm = self.forward(xi) \n",
    "        backpass = (sm - gradient) / xi.shape[0]  # Assume the gradient is one-hot encoded y\n",
    "        return backpass\n",
    "    \n",
    "\n",
    "class Layer(Neuron):\n",
    "    \n",
    "    def __init__(self, xdim: int, ydim: int):\n",
    "        \"\"\" Initializes the class \"\"\"\n",
    "        # Bias is assumed to be a feature for simplification purposes\n",
    "        self._he_init = np.sqrt((2 / (xdim + ydim)))  # Initialize the weights with He initialization scheme\n",
    "        self.w_ = np.random.normal(scale = self._he_init, size = (xdim, ydim))\n",
    "        \n",
    "    def forward(self, xi) -> np.ndarray:\n",
    "        \"\"\" Performs the linear matrix operation for the layer \"\"\"\n",
    "        return xi.dot(self.w_)\n",
    "    \n",
    "    def backward(self, xi, gradient, rate):\n",
    "        \"\"\" Performs the backward pass for the layer \"\"\"\n",
    "        # Mini-batch stochastic descent\n",
    "        cost = xi.T.dot(gradient) / xi.shape[0]  # Assumes mini-batch stochastic gradient-descent \n",
    "        self.w_ -= rate * cost\n",
    "        \n",
    "        # Gradient for Input\n",
    "        xi_gradient = gradient.dot(self.w_.T)\n",
    "        return xi_gradient\n",
    "    \n",
    "\n",
    "class Network:\n",
    "    \n",
    "    def __init__(self, learning_rate: float = 0.1, max_epochs: int = 1000, precision: float = 1E-6, \n",
    "                 batch_size: int = None):\n",
    "        \"\"\" Initializes the Network \"\"\"\n",
    "        self.network = []\n",
    "        self.rate = learning_rate\n",
    "        self.epochs = max_epochs\n",
    "        self.precision = precision\n",
    "        self.b_ = batch_size\n",
    "        self.loss_ = None\n",
    "        self.val_loss_ = None\n",
    "        self.get_loss = None\n",
    "        self.get_gradient = None\n",
    "    \n",
    "    def add_layer(self, layer) -> None:\n",
    "        \"\"\" Adds a layer to the network \"\"\"\n",
    "        self.network.append(layer)\n",
    "    \n",
    "    def loss(self, func, func_prime):\n",
    "        \"\"\" Sets the loss to use for the network \"\"\"\n",
    "        self.get_loss = func\n",
    "        self.get_gradient = func_prime\n",
    "            \n",
    "    def predict(self, X) -> np.ndarray:\n",
    "        \"\"\" Defines the predict function \"\"\"\n",
    "        results = self._feed_forward(X)\n",
    "        return results[-1]\n",
    "    \n",
    "    def score(self, X, y) -> float:\n",
    "        \"\"\" Scores the predictive ability of the Network \"\"\"\n",
    "        results = self.predict(X)\n",
    "        labels = np.argmax(results, axis=1)\n",
    "        y = np.argmax(y, axis=1)\n",
    "        return sum(labels == y) / len(labels)\n",
    "    \n",
    "    def fit(self, X: np.ndarray, y: np.ndarray, X_val: np.ndarray = None, y_val: np.ndarray = None,\n",
    "            verbose: bool = True):\n",
    "        \"\"\" Fits the network to the training vectors \"\"\"\n",
    "        self.loss_ = list()\n",
    "        self.val_loss_ = list()\n",
    "        for i in range(self.epochs):\n",
    "            n, d = X.shape\n",
    "            rand_indices = np.random.permutation(n)\n",
    "            xi = X[rand_indices, :]\n",
    "            yi = y[rand_indices, :]\n",
    "            \n",
    "            loss = self._train(xi, yi)\n",
    "            self.loss_.append(loss)\n",
    "            \n",
    "            val_loss = None\n",
    "            if X_val is not None and y_val is not None:\n",
    "                preds = self.predict(X_val)\n",
    "                val_loss = -self.get_loss(preds, y_val)\n",
    "                self.val_loss_.append(val_loss)\n",
    "            \n",
    "            if verbose:\n",
    "                print(f\"Loss at epoch {i} is {loss}\")\n",
    "                if val_loss:\n",
    "                    print(f\"Val Loss at epoch {i} is {val_loss}\")\n",
    "            \n",
    "            if i > 0 and abs(self.loss_[i-1] - loss) <= self.precision:\n",
    "                print(f\"Precision reached at epoch {i}\")\n",
    "                break\n",
    "    \n",
    "    def plot(self) -> None:\n",
    "        \"\"\" Plots the loss \"\"\"\n",
    "        epochs = len(self.loss_)\n",
    "        fig = plt.figure(figsize=(10, 5))\n",
    "        plt.plot(range(epochs), self.loss_)\n",
    "        if self.val_loss_:\n",
    "            plt.plot(range(epochs), self.val_loss_)\n",
    "        plt.title('Loss per Epoch')\n",
    "        plt.xlabel('Epochs')\n",
    "        plt.ylabel('Loss')\n",
    "        plt.show()\n",
    "    \n",
    "    def _train(self, xi: np.ndarray, yi: np.ndarray) -> float:\n",
    "        \"\"\" Implements mini-batch stochastic gradient descent \"\"\"\n",
    "        n, _ = xi.shape\n",
    "        iters = int(n / self.b_)\n",
    "        epoch_loss = 0.\n",
    "        start = 0\n",
    "        for k in range(iters):\n",
    "            end = start + self.b_\n",
    "            x = xi[start:end, :]\n",
    "            y = yi[start:end, :]\n",
    "            outputs = self._feed_forward(x)\n",
    "            result = outputs[-1]\n",
    "            \n",
    "            loss = self.get_loss(result, y)\n",
    "            epoch_loss += loss\n",
    "            \n",
    "            g = self.get_gradient(result, y)\n",
    "            self._backward_pass(outputs, g)\n",
    "            start = end\n",
    "        return -epoch_loss / iters\n",
    "        \n",
    "    def _feed_forward(self, xi) -> np.ndarray:\n",
    "        \"\"\" Feeds the sample forward through the network \"\"\"\n",
    "        outputs = [None] * (len(self.network) + 1)\n",
    "        outputs[0] = xi\n",
    "        for i, layer in enumerate(self.network):\n",
    "            xi = layer.forward(xi)\n",
    "            outputs[i + 1] = xi\n",
    "        return outputs\n",
    "    \n",
    "    def _backward_pass(self, outputs, gradient) -> None:\n",
    "        \"\"\" Implements a backward pass through the network \"\"\"\n",
    "        for i in range(len(outputs) - 1)[::-1]:\n",
    "            xi = outputs[i]\n",
    "            layer = self.network[i]\n",
    "            gradient = layer.backward(xi, gradient, self.rate)"
   ]
  },
  {
   "cell_type": "code",
   "execution_count": 29,
   "metadata": {},
   "outputs": [],
   "source": [
    "def cross_entropy_loss(x, y) -> float:\n",
    "    \"\"\" Returns the loss of cross entropy logistic regression \"\"\"\n",
    "    loss = np.sum(np.multiply(y, np.log(x))) / x.shape[0]\n",
    "    return loss\n",
    "\n",
    "def cross_entropy_loss_g(x, y) -> np.ndarray:\n",
    "    \"\"\" Returns gradient of loss for network \"\"\"\n",
    "    return y  # Only return y because the output layer has the gradient"
   ]
  },
  {
   "cell_type": "code",
   "execution_count": 30,
   "metadata": {},
   "outputs": [],
   "source": [
    "def build_network(xdim: int, ydim: int, epochs: int = 30, batch_size = 12, neurons: int = 50) -> tuple:\n",
    "    \"\"\" Gets everything ready to start \"\"\"\n",
    "    net = Network(0.1, max_epochs = epochs, batch_size = batch_size)\n",
    "    net.add_layer(Layer(xdim, neurons))\n",
    "    net.add_layer(ReLU())\n",
    "    net.add_layer(Layer(neurons, ydim))\n",
    "    net.add_layer(Softmax())\n",
    "    net.loss(cross_entropy_loss, cross_entropy_loss_g)\n",
    "    return net"
   ]
  },
  {
   "cell_type": "code",
   "execution_count": 31,
   "metadata": {},
   "outputs": [
    {
     "name": "stdout",
     "output_type": "stream",
     "text": [
      "Loss at epoch 0 is 0.9334193230465163\n",
      "Val Loss at epoch 0 is 0.8771864163578239\n",
      "Loss at epoch 1 is 0.8683628656825066\n",
      "Val Loss at epoch 1 is 0.8565615129964343\n",
      "Loss at epoch 2 is 0.847777392702398\n",
      "Val Loss at epoch 2 is 0.834220833062421\n",
      "Loss at epoch 3 is 0.8220085634377051\n",
      "Val Loss at epoch 3 is 0.8059114957205875\n",
      "Loss at epoch 4 is 0.7901032447112497\n",
      "Val Loss at epoch 4 is 0.7726117623764177\n",
      "Loss at epoch 5 is 0.7515885498547554\n",
      "Val Loss at epoch 5 is 0.7300621954387776\n",
      "Loss at epoch 6 is 0.7080881752431525\n",
      "Val Loss at epoch 6 is 0.6846287599651413\n",
      "Loss at epoch 7 is 0.662309170479113\n",
      "Val Loss at epoch 7 is 0.6405366960295249\n",
      "Loss at epoch 8 is 0.6177167652624634\n",
      "Val Loss at epoch 8 is 0.5983260169287447\n",
      "Loss at epoch 9 is 0.5769404054540711\n",
      "Val Loss at epoch 9 is 0.5593158403350472\n"
     ]
    }
   ],
   "source": [
    "net = build_network(tf_train.shape[1], y_train.shape[1], epochs = 10, neurons = 50)\n",
    "net.fit(tf_train, y_train, tf_val, y_val)"
   ]
  },
  {
   "cell_type": "code",
   "execution_count": 32,
   "metadata": {},
   "outputs": [
    {
     "data": {
      "image/png": "[encoded data removed]",
      "text/plain": [
       "<Figure size 720x360 with 1 Axes>"
      ]
     },
     "metadata": {
      "needs_background": "light"
     },
     "output_type": "display_data"
    }
   ],
   "source": [
    "net.plot()"
   ]
  },
  {
   "cell_type": "markdown",
   "metadata": {},
   "source": [
    "# Sentiment Analysis"
   ]
  },
  {
   "cell_type": "code",
   "execution_count": 33,
   "metadata": {},
   "outputs": [],
   "source": [
    "def load_file(path: str):\n",
    "    \"\"\" Loads the file into memory \"\"\"\n",
    "    with open(path, 'r', encoding='ISO-8859-1') as fo:\n",
    "        content = fo.read()\n",
    "    return content\n",
    "\n",
    "def clean_data(lines: list):\n",
    "    \"\"\" Cleans the data for tokenization \"\"\"\n",
    "    cleaned = list()\n",
    "    for line in lines:\n",
    "        # Lowercase text and remove leading and ending newlines\n",
    "        line = line.lower().strip('\\n')\n",
    "        # Fix any encoding issues\n",
    "        line = normalize('NFD', line).encode('utf8')\n",
    "        line = line.decode('utf8')\n",
    "        # Remove new line symbols\n",
    "        line = line.replace('\\n', ' ')\n",
    "        # Remove special characters and numbers\n",
    "        line = re.sub(\"[^a-z\\s\\']+\", \" \", line).replace(\"'\", \"\")\n",
    "        # Remove whitespace\n",
    "        line = ' '.join(line.split())\n",
    "        cleaned.append(line)\n",
    "    return np.array(cleaned)"
   ]
  },
  {
   "cell_type": "code",
   "execution_count": 34,
   "metadata": {},
   "outputs": [],
   "source": [
    "review_match = re.compile(r\"((?:\\<review_text\\>)([\\s\\w\\S]+?)(?:\\<\\/review_text\\>))\")\n",
    "\n",
    "pos = load_file('q2/positive.review')\n",
    "neg = load_file('q2/negative.review')\n",
    "pos_reviews = [r.group(2) for r in review_match.finditer(pos)]\n",
    "neg_reviews = [r.group(2) for r in review_match.finditer(neg)]"
   ]
  },
  {
   "cell_type": "code",
   "execution_count": 35,
   "metadata": {},
   "outputs": [
    {
     "data": {
      "text/plain": [
       "(1000,\n",
       " 1000,\n",
       " [\"\\nBridget Jones, modern day woman, brillant and doesn't know it, prone to accidents and mess ups but manages to come out of them.  \\n\\nThis is the book that started it all with the chick lit fever.  Bridget Jones is my hero! \\n\",\n",
       "  \"\\nI am ordering copies for all 23 middle school principals and the two assistant principals leading two middle school programs in the Milwaukee Public Schools system. We will use Wheatley's book as the primary resource  for our professional growth at our MPS Middle School Principals  Collaborative institute August 9-11, 1999. We are not just concerned with  reform; we seek renewal as well. Wheatley provides the basis. She notes  that Einstein said that  a problem cannot be solved from the same  consciousness that created it. The entire book is a marvelous exploration  of this philosophy\\n\",\n",
       "  '\\nAs a casual piano player and a Broadway fanatic, I was so jazzed to play some of the songs from Avenue Q. The book contains everything you find on the CD and includes a few production photos.\\nOf course the little details are fun, using terms like \"manilowesque\" \"Huey-Lewis shuffle\" \"prissy sonata\" and \"funky a** groove\" to describe some of the songs. Fun fun fu\\n',\n",
       "  '\\nThis is one of the best biographies I have ever read. You can tell the authors put a lot of time and effort into this work - it\\'s a true labor of love. Filled with beautiful photos and extensive bibliographical notes, this one is a keeper. Who knew Miss Francis was such a \"wild child\"? Whether you\\'re a film scholar or a movie buff, Lynn Kear\\'s book deserves a special spot in your bookcase.\\n',\n",
       "  \"\\nI read this book many, many years ago on a very long flight.  I couldn't put it down.  The philosophy is simple; live frugally, save/invest money every month, and you too can be a millionaire.  It's great advice, especially in this day and age when the younger generation wants the big house, expensive car, and everything else right NOW, with no regard to the future.  Although some of the info is dated (Enron being named as a great company to invest), and some other advice (putting new soles on old shoes) is a bit much, the general message makes plenty of sense.\\n\"])"
      ]
     },
     "execution_count": 35,
     "metadata": {},
     "output_type": "execute_result"
    }
   ],
   "source": [
    "len(pos_reviews), len(neg_reviews), pos_reviews[0:5]"
   ]
  },
  {
   "cell_type": "code",
   "execution_count": 36,
   "metadata": {},
   "outputs": [
    {
     "data": {
      "text/plain": [
       "((1000,), (1000,))"
      ]
     },
     "execution_count": 36,
     "metadata": {},
     "output_type": "execute_result"
    }
   ],
   "source": [
    "pos_cleaned = clean_data(pos_reviews)\n",
    "neg_cleaned = clean_data(neg_reviews)\n",
    "\n",
    "pos_labels = np.ones(len(pos_cleaned))\n",
    "neg_labels = np.zeros(len(neg_cleaned))\n",
    "\n",
    "pos_cleaned.shape, neg_cleaned.shape"
   ]
  },
  {
   "cell_type": "code",
   "execution_count": 37,
   "metadata": {},
   "outputs": [
    {
     "data": {
      "text/plain": [
       "array(['close to you murmured mitya kissing her dress her bosom her hands and suddenly he had a strange fancy it seemed to him that she was looking straight before her not at him not into his face but over his head with an intent almost uncanny fixity an expression of wonder almost of alarm came suddenly into her face',\n",
       "       'an hours complete leisure for such reflections as these on a dark november day a small thick rain almost blotting out the very few objects ever to be discerned from the windows was enough to make the sound of lady russells carriage exceedingly welcome and yet though desirous to be gone she could not quit the mansion house or look an adieu to the cottage with its black dripping and comfortless veranda or even notice through the misty glasses the last humble tenements of the village without a saddened heart scenes had passed in uppercross which made it precious it stood the record of many sensations of pain once severe but now softened and of some instances of relenting feeling some breathings of friendship and reconciliation which could never be looked for again and which could never cease to be dear she left it all behind her all but the recollection that such things had been',\n",
       "       'all the agreeable of her speculation was over for that hour it was time to have done with cards if sermons prevailed and she was glad to find it necessary to come to a conclusion and be able to refresh her spirits by a change of place and neighbour',\n",
       "       'here a d tremendous rap interrupted my father in his speech and somewhat alarmed my mother and me',\n",
       "       'no i dare say nor if he were to be gone a twelvemonth would you ever write to him nor he to you if it could be helped the occasion would never be foreseen what strange creatures brothers are you would not write to each other but upon the most urgent necessity in the world and when obliged to take up the pen to say that such a horse is ill or such a relation dead it is done in the fewest possible words you have but one style among you i know it perfectly henry who is in every other respect exactly what a brother should be who loves me consults me confides in me and will talk to me by the hour together has never yet turned the page in a letter and very often it is nothing more than dear mary i am just arrived bath seems full and everything as usual yours sincerely that is the true manly style that is a complete brothers letter'],\n",
       "      dtype='<U14176')"
      ]
     },
     "execution_count": 37,
     "metadata": {},
     "output_type": "execute_result"
    }
   ],
   "source": [
    "n_train = int(pos_cleaned.shape[0] * .8)\n",
    "n_val = int(pos_cleaned.shape[0] * .2)\n",
    "\n",
    "indices = np.random.permutation(range(pos_cleaned.shape[0]))\n",
    "train_indices = indices[:n_train-n_val]\n",
    "val_indices = indices[n_train-n_val:n_train]\n",
    "test_indices = indices[n_train:]\n",
    "\n",
    "assert train_indices.shape[0] + val_indices.shape[0] + test_indices.shape[0] == 1000\n",
    "\n",
    "pos_train, y_pos_train = pos_cleaned[train_indices], pos_labels[train_indices]\n",
    "neg_train, y_neg_train = neg_cleaned[train_indices], neg_labels[train_indices]\n",
    "\n",
    "pos_val, y_pos_val = pos_cleaned[val_indices], pos_labels[val_indices]\n",
    "neg_val, y_neg_val = neg_cleaned[val_indices], neg_labels[val_indices]\n",
    "\n",
    "\n",
    "pos_test, y_pos_test = pos_cleaned[test_indices], pos_labels[test_indices]\n",
    "neg_test, y_neg_test = neg_cleaned[test_indices], neg_labels[test_indices]\n",
    "\n",
    "X_train[20:25]"
   ]
  },
  {
   "cell_type": "code",
   "execution_count": 38,
   "metadata": {},
   "outputs": [
    {
     "name": "stdout",
     "output_type": "stream",
     "text": [
      "2000\n"
     ]
    },
    {
     "data": {
      "text/plain": [
       "(array(['what can i say more spidey than you can shake a stick at for peanuts if you ever wished you had the patience to cut out and neatly collect all the sunday paper comics in a nice neat scrap book then this is the book for you im planning on buying the lot and thoroughly enjoying my strolls down memory lane',\n",
       "        'if your looking to increase your personal level of joy and harmony in life implement the teachings of the frames in this book manny padro salt lake city uta',\n",
       "        'i have read this book daily for almost years the original book given to me in is somewhat worn and now i require a replacement it has been and will remain my first reading each day',\n",
       "        'i have been planting flowers from seed in my home for almost years now last year i had over seedlings on multi level shelves under flourescent and natural light in my dining room boy do i need a greenhouse so this book was not a lot of new information to me a lot of what is listed can be found on the back of a seed packet but its not practical to sit on the floor of my favorite garden supply store and read every seed package for suggestions before i buy it this is important because im not interested in refrigerating my seeds weeks before i plant them or doing other such preparations required for some seeds one major thing missing from this book was photography there were drawings but im sorry to say that they were mostly a way of breaking up the monotony of the text rather than a reference tool on the good side this book did an excellent job of providing the proper germination environment and each plant had a quick reference in a shaded box that listed the type of plant annual perennial etc its hardiness zone and its flowering season this allowed me to quickly eliminate the plants that were inappropriate for my zone the regular index wasnt very useful but one wonderful addition was an index of the common amp latin names i refer to this when looking at some of my books that include the full color photography i was missing almost makes up for it almost of course there is the standard hardiness zone map but they also added a map each for the probable first and last frost dates nice also included was a directory of seed companies and their addresses all in all this book does a good job of covering the seed part but a poor job of covering the bloom part',\n",
       "        'theres no much to say about this book everything is already said and it is still the best book in the field well done nancy sead malicevic m'],\n",
       "       dtype='<U30325'),\n",
       " array([1., 1., 1., 1., 1.]))"
      ]
     },
     "execution_count": 38,
     "metadata": {},
     "output_type": "execute_result"
    }
   ],
   "source": [
    "X_train, y_train = np.hstack((pos_train, neg_train)), np.hstack((y_pos_train, y_neg_train))\n",
    "X_val, y_val = np.hstack((pos_val, neg_val)), np.hstack((y_pos_val, y_neg_val))\n",
    "X_test, y_test = np.hstack((pos_test, neg_test)), np.hstack((y_pos_test, y_neg_test))\n",
    "\n",
    "n = len(pos_cleaned) + len(neg_cleaned)\n",
    "print(X_train.shape[0] + X_val.shape[0] + X_test.shape[0])\n",
    "assert X_train.shape[0] + X_val.shape[0] + X_test.shape[0] == n\n",
    "assert y_train.shape[0] + y_val.shape[0] + y_test.shape[0] == n\n",
    "X_train[0:5], y_train[0:5]"
   ]
  },
  {
   "cell_type": "code",
   "execution_count": 39,
   "metadata": {},
   "outputs": [
    {
     "data": {
      "text/plain": [
       "2681"
      ]
     },
     "execution_count": 39,
     "metadata": {},
     "output_type": "execute_result"
    }
   ],
   "source": [
    "max_seq_length = max(len(line.split()) for line in data)\n",
    "max_seq_length"
   ]
  },
  {
   "cell_type": "code",
   "execution_count": 40,
   "metadata": {},
   "outputs": [],
   "source": [
    "tokenizer = Tokenizer()\n",
    "tokenizer.fit_on_texts(X_train)\n",
    "seqs = tokenizer.texts_to_sequences(X_train)\n",
    "X_train_pad = pad_sequences(seqs, maxlen=max_seq_length, padding='post')"
   ]
  },
  {
   "cell_type": "code",
   "execution_count": 41,
   "metadata": {},
   "outputs": [
    {
     "data": {
      "text/plain": [
       "((400, 2681), (400, 2681))"
      ]
     },
     "execution_count": 41,
     "metadata": {},
     "output_type": "execute_result"
    }
   ],
   "source": [
    "seqs = tokenizer.texts_to_sequences(X_val)\n",
    "X_val_pad = pad_sequences(seqs, maxlen=max_seq_length, padding='post')\n",
    "\n",
    "seqs = tokenizer.texts_to_sequences(X_val)\n",
    "X_test_pad = pad_sequences(seqs, maxlen=max_seq_length, padding='post')\n",
    "\n",
    "X_val_pad.shape, X_test_pad.shape"
   ]
  },
  {
   "cell_type": "code",
   "execution_count": 42,
   "metadata": {},
   "outputs": [
    {
     "name": "stdout",
     "output_type": "stream",
     "text": [
      "Found 400000 word vectors.\n"
     ]
    }
   ],
   "source": [
    "embeddings_index = {}\n",
    "with open(\"/tmp/glove.6B.100d.txt\") as f:\n",
    "    for line in f:\n",
    "        word, coefs = line.split(maxsplit=1)\n",
    "        coefs = np.fromstring(coefs, \"f\", sep=\" \")\n",
    "        embeddings_index[word] = coefs\n",
    "\n",
    "print(\"Found %s word vectors.\" % len(embeddings_index))"
   ]
  },
  {
   "cell_type": "code",
   "execution_count": 43,
   "metadata": {},
   "outputs": [
    {
     "name": "stdout",
     "output_type": "stream",
     "text": [
      "Converted 15460 words (1113 misses)\n"
     ]
    }
   ],
   "source": [
    "num_tokens = len(tokenizer.word_index) + 2\n",
    "embedding_dim = 100\n",
    "hits = 0\n",
    "misses = 0\n",
    "\n",
    "# Prepare embedding matrix\n",
    "embedding_matrix = np.zeros((num_tokens, embedding_dim))\n",
    "for word, i in tokenizer.word_index.items():\n",
    "    embedding_vector = embeddings_index.get(word)\n",
    "    if embedding_vector is not None:\n",
    "        # Words not found in embedding index will be all-zeros.\n",
    "        # This includes the representation for \"padding\" and \"OOV\"\n",
    "        embedding_matrix[i] = embedding_vector\n",
    "        hits += 1\n",
    "    else:\n",
    "        misses += 1\n",
    "print(\"Converted %d words (%d misses)\" % (hits, misses))"
   ]
  },
  {
   "cell_type": "code",
   "execution_count": 46,
   "metadata": {},
   "outputs": [
    {
     "name": "stdout",
     "output_type": "stream",
     "text": [
      "Model: \"sequential_4\"\n",
      "_________________________________________________________________\n",
      "Layer (type)                 Output Shape              Param #   \n",
      "=================================================================\n",
      "embedding_4 (Embedding)      (None, 2681, 100)         1657500   \n",
      "_________________________________________________________________\n",
      "zero_padding1d_2 (ZeroPaddin (None, 2687, 100)         0         \n",
      "_________________________________________________________________\n",
      "conv1d_2 (Conv1D)            (None, 2684, 128)         51328     \n",
      "_________________________________________________________________\n",
      "global_max_pooling1d_3 (Glob (None, 128)               0         \n",
      "_________________________________________________________________\n",
      "dense_8 (Dense)              (None, 64)                8256      \n",
      "_________________________________________________________________\n",
      "dense_9 (Dense)              (None, 1)                 65        \n",
      "=================================================================\n",
      "Total params: 1,717,149\n",
      "Trainable params: 59,649\n",
      "Non-trainable params: 1,657,500\n",
      "_________________________________________________________________\n"
     ]
    }
   ],
   "source": [
    "cnn_model = Sequential()\n",
    "cnn_model.add(\n",
    "    Embedding(\n",
    "        num_tokens,\n",
    "        embedding_dim,\n",
    "        embeddings_initializer=Constant(embedding_matrix),\n",
    "        trainable=False,\n",
    "        input_length=max_seq_length\n",
    "    )\n",
    ")\n",
    "cnn_model.add(ZeroPadding1D(3))\n",
    "cnn_model.add(Conv1D(128, 4, activation='relu'))\n",
    "cnn_model.add(GlobalMaxPooling1D())\n",
    "cnn_model.add(Dense(64, activation='relu'))\n",
    "cnn_model.add(Dense(1, activation='sigmoid'))\n",
    "cnn_model.summary()"
   ]
  },
  {
   "cell_type": "code",
   "execution_count": 47,
   "metadata": {},
   "outputs": [
    {
     "name": "stdout",
     "output_type": "stream",
     "text": [
      "Epoch 1/10\n",
      "38/38 [==============================] - 1s 16ms/step - loss: 0.7251 - acc: 0.4944 - val_loss: 0.6511 - val_acc: 0.6200\n",
      "Epoch 2/10\n",
      "38/38 [==============================] - 0s 13ms/step - loss: 0.5813 - acc: 0.7484 - val_loss: 0.6081 - val_acc: 0.6875\n",
      "Epoch 3/10\n",
      "38/38 [==============================] - 0s 13ms/step - loss: 0.4714 - acc: 0.8294 - val_loss: 0.5644 - val_acc: 0.7175\n",
      "Epoch 4/10\n",
      "38/38 [==============================] - 0s 13ms/step - loss: 0.3471 - acc: 0.8964 - val_loss: 0.5463 - val_acc: 0.7100\n",
      "Epoch 5/10\n",
      "38/38 [==============================] - 0s 13ms/step - loss: 0.2542 - acc: 0.9374 - val_loss: 0.5184 - val_acc: 0.7200\n",
      "Epoch 6/10\n",
      "38/38 [==============================] - 0s 13ms/step - loss: 0.1693 - acc: 0.9783 - val_loss: 0.4949 - val_acc: 0.7725\n",
      "Epoch 7/10\n",
      "38/38 [==============================] - 1s 14ms/step - loss: 0.0826 - acc: 0.9939 - val_loss: 0.5040 - val_acc: 0.7850\n",
      "Epoch 8/10\n",
      "38/38 [==============================] - 1s 13ms/step - loss: 0.0460 - acc: 1.0000 - val_loss: 0.5124 - val_acc: 0.7875\n",
      "Epoch 9/10\n",
      "38/38 [==============================] - 1s 13ms/step - loss: 0.0242 - acc: 1.0000 - val_loss: 0.5165 - val_acc: 0.7900\n",
      "Epoch 10/10\n",
      "38/38 [==============================] - 0s 13ms/step - loss: 0.0148 - acc: 1.0000 - val_loss: 0.5421 - val_acc: 0.7925\n"
     ]
    }
   ],
   "source": [
    "cnn_model.compile(optimizer=Adam(lr=1E-3), loss='binary_crossentropy', \n",
    "                  metrics=['acc'])\n",
    "\n",
    "history = cnn_model.fit(X_train_pad, y_train, validation_data=(X_val_pad, y_val),\n",
    "                        batch_size=32, epochs=10)"
   ]
  },
  {
   "cell_type": "code",
   "execution_count": 48,
   "metadata": {},
   "outputs": [
    {
     "name": "stdout",
     "output_type": "stream",
     "text": [
      "Model: \"sequential_5\"\n",
      "_________________________________________________________________\n",
      "Layer (type)                 Output Shape              Param #   \n",
      "=================================================================\n",
      "embedding_5 (Embedding)      (None, 2681, 100)         1657500   \n",
      "_________________________________________________________________\n",
      "lstm_2 (LSTM)                (None, 2681, 256)         365568    \n",
      "_________________________________________________________________\n",
      "global_max_pooling1d_4 (Glob (None, 256)               0         \n",
      "_________________________________________________________________\n",
      "dense_10 (Dense)             (None, 128)               32896     \n",
      "_________________________________________________________________\n",
      "dense_11 (Dense)             (None, 1)                 129       \n",
      "=================================================================\n",
      "Total params: 2,056,093\n",
      "Trainable params: 398,593\n",
      "Non-trainable params: 1,657,500\n",
      "_________________________________________________________________\n"
     ]
    }
   ],
   "source": [
    "lstm_model = Sequential()\n",
    "lstm_model.add(Embedding(\n",
    "        num_tokens,\n",
    "        embedding_dim,\n",
    "        embeddings_initializer=Constant(embedding_matrix),\n",
    "        trainable=False,\n",
    "        input_length=max_seq_length\n",
    "))\n",
    "lstm_model.add(LSTM(256, return_sequences=True))\n",
    "lstm_model.add(GlobalMaxPooling1D())\n",
    "lstm_model.add(Dense(128, activation='relu'))\n",
    "lstm_model.add(Dense(1, activation='sigmoid'))\n",
    "lstm_model.summary()"
   ]
  },
  {
   "cell_type": "code",
   "execution_count": 49,
   "metadata": {},
   "outputs": [
    {
     "name": "stdout",
     "output_type": "stream",
     "text": [
      "Epoch 1/10\n",
      "38/38 [==============================] - 5s 104ms/step - loss: 0.6859 - acc: 0.5623 - val_loss: 0.6633 - val_acc: 0.5950\n",
      "Epoch 2/10\n",
      "38/38 [==============================] - 4s 103ms/step - loss: 0.6437 - acc: 0.6179 - val_loss: 0.5730 - val_acc: 0.7275\n",
      "Epoch 3/10\n",
      "38/38 [==============================] - 4s 98ms/step - loss: 0.5107 - acc: 0.7684 - val_loss: 0.5028 - val_acc: 0.7775\n",
      "Epoch 4/10\n",
      "38/38 [==============================] - 4s 98ms/step - loss: 0.4422 - acc: 0.7890 - val_loss: 0.4908 - val_acc: 0.7700\n",
      "Epoch 5/10\n",
      "38/38 [==============================] - 4s 98ms/step - loss: 0.3053 - acc: 0.8843 - val_loss: 0.4824 - val_acc: 0.7775\n",
      "Epoch 6/10\n",
      "38/38 [==============================] - 4s 99ms/step - loss: 0.2333 - acc: 0.9214 - val_loss: 0.4381 - val_acc: 0.8150\n",
      "Epoch 7/10\n",
      "38/38 [==============================] - 4s 98ms/step - loss: 0.1561 - acc: 0.9667 - val_loss: 0.4707 - val_acc: 0.8125\n",
      "Epoch 8/10\n",
      "38/38 [==============================] - 4s 98ms/step - loss: 0.0991 - acc: 0.9862 - val_loss: 0.5057 - val_acc: 0.7825\n",
      "Epoch 9/10\n",
      "38/38 [==============================] - 4s 98ms/step - loss: 0.0769 - acc: 0.9880 - val_loss: 0.5056 - val_acc: 0.8075\n",
      "Epoch 10/10\n",
      "38/38 [==============================] - 4s 98ms/step - loss: 0.0491 - acc: 0.9937 - val_loss: 0.5190 - val_acc: 0.8100\n"
     ]
    }
   ],
   "source": [
    "lstm_model.compile(optimizer=Adam(lr=1E-3), loss='binary_crossentropy', \n",
    "                  metrics=['acc'])\n",
    "\n",
    "history = lstm_model.fit(X_train_pad, y_train, validation_data=(X_val_pad, y_val),\n",
    "                         batch_size=32, epochs=10)"
   ]
  },
  {
   "cell_type": "code",
   "execution_count": 50,
   "metadata": {},
   "outputs": [
    {
     "name": "stdout",
     "output_type": "stream",
     "text": [
      "Model: \"sequential_6\"\n",
      "_________________________________________________________________\n",
      "Layer (type)                 Output Shape              Param #   \n",
      "=================================================================\n",
      "embedding_6 (Embedding)      (None, 2681, 100)         1657500   \n",
      "_________________________________________________________________\n",
      "lstm_3 (LSTM)                (None, 256)               365568    \n",
      "_________________________________________________________________\n",
      "dense_12 (Dense)             (None, 128)               32896     \n",
      "_________________________________________________________________\n",
      "dense_13 (Dense)             (None, 1)                 129       \n",
      "=================================================================\n",
      "Total params: 2,056,093\n",
      "Trainable params: 398,593\n",
      "Non-trainable params: 1,657,500\n",
      "_________________________________________________________________\n"
     ]
    }
   ],
   "source": [
    "lstm_model = Sequential()\n",
    "lstm_model.add(Embedding(\n",
    "        num_tokens,\n",
    "        embedding_dim,\n",
    "        embeddings_initializer=Constant(embedding_matrix),\n",
    "        trainable=False,\n",
    "        input_length=max_seq_length\n",
    "))\n",
    "lstm_model.add(LSTM(256, return_sequences=False))\n",
    "lstm_model.add(Dense(128, activation='relu'))\n",
    "lstm_model.add(Dense(1, activation='sigmoid'))\n",
    "lstm_model.summary()"
   ]
  },
  {
   "cell_type": "code",
   "execution_count": 51,
   "metadata": {},
   "outputs": [
    {
     "name": "stdout",
     "output_type": "stream",
     "text": [
      "Epoch 1/10\n",
      "38/38 [==============================] - 5s 104ms/step - loss: 0.6931 - acc: 0.5290 - val_loss: 0.6932 - val_acc: 0.5000\n",
      "Epoch 2/10\n",
      "38/38 [==============================] - 4s 97ms/step - loss: 0.6929 - acc: 0.5131 - val_loss: 0.6932 - val_acc: 0.5000\n",
      "Epoch 3/10\n",
      "38/38 [==============================] - 4s 97ms/step - loss: 0.6932 - acc: 0.5086 - val_loss: 0.6932 - val_acc: 0.5000\n",
      "Epoch 4/10\n",
      "38/38 [==============================] - 4s 97ms/step - loss: 0.6909 - acc: 0.5025 - val_loss: 0.6931 - val_acc: 0.5000\n",
      "Epoch 5/10\n",
      "38/38 [==============================] - 4s 96ms/step - loss: 0.6918 - acc: 0.5190 - val_loss: 0.6937 - val_acc: 0.5000\n",
      "Epoch 6/10\n",
      "38/38 [==============================] - 4s 97ms/step - loss: 0.6905 - acc: 0.5230 - val_loss: 0.6932 - val_acc: 0.5000\n",
      "Epoch 7/10\n",
      "38/38 [==============================] - 4s 97ms/step - loss: 0.6925 - acc: 0.4930 - val_loss: 0.6932 - val_acc: 0.5000\n",
      "Epoch 8/10\n",
      "38/38 [==============================] - 4s 97ms/step - loss: 0.6931 - acc: 0.5024 - val_loss: 0.6931 - val_acc: 0.5000\n",
      "Epoch 9/10\n",
      "38/38 [==============================] - 4s 97ms/step - loss: 0.6927 - acc: 0.4899 - val_loss: 0.6931 - val_acc: 0.5000\n",
      "Epoch 10/10\n",
      "38/38 [==============================] - 4s 97ms/step - loss: 0.6929 - acc: 0.4863 - val_loss: 0.6931 - val_acc: 0.5000\n"
     ]
    }
   ],
   "source": [
    "lstm_model.compile(optimizer=Adam(lr=1E-3), loss='binary_crossentropy', \n",
    "                  metrics=['acc'])\n",
    "\n",
    "history = lstm_model.fit(X_train_pad, y_train, validation_data=(X_val_pad, y_val),\n",
    "                         batch_size=32, epochs=10)"
   ]
  },
  {
   "cell_type": "code",
   "execution_count": null,
   "metadata": {},
   "outputs": [],
   "source": []
  }
 ],
 "metadata": {
  "accelerator": "GPU",
  "colab": {
   "collapsed_sections": [],
   "name": "HW4.ipynb",
   "provenance": []
  },
  "kernelspec": {
   "display_name": "Python 3",
   "language": "python",
   "name": "python3"
  },
  "language_info": {
   "codemirror_mode": {
    "name": "ipython",
    "version": 3
   },
   "file_extension": ".py",
   "mimetype": "text/x-python",
   "name": "python",
   "nbconvert_exporter": "python",
   "pygments_lexer": "ipython3",
   "version": "3.8.5"
  }
 },
 "nbformat": 4,
 "nbformat_minor": 1
}
