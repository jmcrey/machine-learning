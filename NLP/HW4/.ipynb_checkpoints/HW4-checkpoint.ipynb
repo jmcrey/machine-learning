{
 "cells": [
  {
   "cell_type": "code",
   "execution_count": null,
   "metadata": {
    "id": "A3Q4odUxG6yl"
   },
   "outputs": [],
   "source": [
    "import re\n",
    "import string\n",
    "import numpy as np\n",
    "from unicodedata import normalize\n",
    "from nltk import word_tokenize\n",
    "\n",
    "def load_file(path: str):\n",
    "  \"\"\" Loads the file into memory \"\"\"\n",
    "  with open(path, 'r', encoding='utf8') as fo:\n",
    "    content = fo.read()\n",
    "  return content\n",
    "\n",
    "def clean_data(content: str):\n",
    "    \"\"\" Cleans the data for tokenization \"\"\"\n",
    "    # Lowercase text and remove leading and ending newlines\n",
    "    text = content.lower().strip('\\n')\n",
    "    # Fix any encoding issues\n",
    "    text = normalize('NFD', text).encode('utf8')\n",
    "    text = text.decode('utf8')\n",
    "    # Match by paragraphs (at least two new lines)\n",
    "    par_match = re.compile(r'\\n{2,}')\n",
    "    lines = par_match.split(text)\n",
    "    cleaned = list()\n",
    "    for line in lines:\n",
    "        # Remove new line symbols\n",
    "        line = line.replace('\\n', ' ')\n",
    "        # Remove special characters and numbers\n",
    "        line = re.sub(\"[^a-z\\s\\']+\", \" \", line).replace(\"'\", \"\")\n",
    "        # Remove line with < 15 words\n",
    "        line = line.split()\n",
    "        if len(line) > 15:\n",
    "          # Remove whitespace\n",
    "          line = ' '.join(line)\n",
    "          cleaned.append(line)\n",
    "    return np.array(cleaned)"
   ]
  },
  {
   "cell_type": "code",
   "execution_count": null,
   "metadata": {
    "colab": {
     "base_uri": "https://localhost:8080/"
    },
    "id": "VjxnAM4cMBd3",
    "outputId": "4dd27535-8273-48c4-b885-ad6a58259c3e"
   },
   "outputs": [
    {
     "data": {
      "text/plain": [
       "(array(['this ebook is for the use of anyone anywhere in the united states and most other parts of the world at no cost and with almost no restrictions whatsoever you may copy it give it away or re use it under the terms of the project gutenberg license included with this ebook or online at http www gutenberg org license if you are not located in the united states you ll have to check the laws of the country where you are located before using this ebook',\n",
       "        'part i book i the history of a family chapter i fyodor pavlovitch karamazov chapter ii he gets rid of his eldest son chapter iii the second marriage and the second family chapter iv the third son alyosha chapter v elders book ii an unfortunate gathering chapter i they arrive at the monastery chapter ii the old buffoon chapter iii peasant women who have faith chapter iv a lady of little faith chapter v so be it so be it chapter vi why is such a man alive chapter vii a young man bent on a career chapter viii the scandalous scene book iii the sensualists chapter i in the servants quarters chapter ii lizaveta chapter iii the confession of a passionate heart in verse chapter iv the confession of a passionate heart in anecdote chapter v the confession of a passionate heart heels up chapter vi smerdyakov chapter vii the controversy chapter viii over the brandy chapter ix the sensualists chapter x both together chapter xi another reputation ruined part ii book iv lacerations chapter i father ferapont chapter ii at his father s chapter iii a meeting with the schoolboys chapter iv at the hohlakovs chapter v a laceration in the drawing room chapter vi a laceration in the cottage chapter vii and in the open air book v pro and contra chapter i the engagement chapter ii smerdyakov with a guitar chapter iii the brothers make friends chapter iv rebellion chapter v the grand inquisitor chapter vi for awhile a very obscure one chapter vii it s always worth while speaking to a clever man book vi the russian monk chapter i father zossima and his visitors chapter ii the duel chapter iii conversations and exhortations of father zossima part iii book vii alyosha chapter i the breath of corruption chapter ii a critical moment chapter iii an onion chapter iv cana of galilee book viii mitya chapter i kuzma samsonov chapter ii lyagavy chapter iii gold mines chapter iv in the dark chapter v a sudden resolution chapter vi i am coming too chapter vii the first and rightful lover chapter viii delirium book ix the preliminary investigation chapter i the beginning of perhotin s official career chapter ii the alarm chapter iii the sufferings of a soul the first ordeal chapter iv the second ordeal chapter v the third ordeal chapter vi the prosecutor catches mitya chapter vii mitya s great secret received with hisses chapter viii the evidence of the witnesses the babe chapter ix they carry mitya away part iv book x the boys chapter i kolya krassotkin chapter ii children chapter iii the schoolboy chapter iv the lost dog chapter v by ilusha s bedside chapter vi precocity chapter vii ilusha book xi ivan chapter i at grushenka s chapter ii the injured foot chapter iii a little demon chapter iv a hymn and a secret chapter v not you not you chapter vi the first interview with smerdyakov chapter vii the second visit to smerdyakov chapter viii the third and last interview with smerdyakov chapter ix the devil ivan s nightmare chapter x it was he who said that book xii a judicial error chapter i the fatal day chapter ii dangerous witnesses chapter iii the medical experts and a pound of nuts chapter iv fortune smiles on mitya chapter v a sudden catastrophe chapter vi the prosecutor s speech sketches of character chapter vii an historical survey chapter viii a treatise on smerdyakov chapter ix the galloping troika the end of the prosecutor s speech chapter x the speech for the defense an argument that cuts both ways chapter xi there was no money there was no robbery chapter xii and there was no murder either chapter xiii a corrupter of thought chapter xiv the peasants stand firm epilogue chapter i plans for mitya s escape chapter ii for a moment the lie becomes truth chapter iii ilusha s funeral the speech at the stone footnotes',\n",
       "        'alexey fyodorovitch karamazov was the third son of fyodor pavlovitch karamazov a land owner well known in our district in his own day and still remembered among us owing to his gloomy and tragic death which happened thirteen years ago and which i shall describe in its proper place for the present i will only say that this landowner for so we used to call him although he hardly spent a day of his life on his own estate was a strange type yet one pretty frequently to be met with a type abject and vicious and at the same time senseless but he was one of those senseless persons who are very well capable of looking after their worldly affairs and apparently after nothing else fyodor pavlovitch for instance began with next to nothing his estate was of the smallest he ran to dine at other men s tables and fastened on them as a toady yet at his death it appeared that he had a hundred thousand roubles in hard cash at the same time he was all his life one of the most senseless fantastical fellows in the whole district i repeat it was not stupidity the majority of these fantastical fellows are shrewd and intelligent enough but just senselessness and a peculiar national form of it',\n",
       "        'he was married twice and had three sons the eldest dmitri by his first wife and two ivan and alexey by his second fyodor pavlovitch s first wife adelai da ivanovna belonged to a fairly rich and distinguished noble family also landowners in our district the miu sovs how it came to pass that an heiress who was also a beauty and moreover one of those vigorous intelligent girls so common in this generation but sometimes also to be found in the last could have married such a worthless puny weakling as we all called him i won t attempt to explain i knew a young lady of the last romantic generation who after some years of an enigmatic passion for a gentleman whom she might quite easily have married at any moment invented insuperable obstacles to their union and ended by throwing herself one stormy night into a rather deep and rapid river from a high bank almost a precipice and so perished entirely to satisfy her own caprice and to be like shakespeare s ophelia indeed if this precipice a chosen and favorite spot of hers had been less picturesque if there had been a prosaic flat bank in its place most likely the suicide would never have taken place this is a fact and probably there have been not a few similar instances in the last two or three generations adelai da ivanovna miu sov s action was similarly no doubt an echo of other people s ideas and was due to the irritation caused by lack of mental freedom she wanted perhaps to show her feminine independence to override class distinctions and the despotism of her family and a pliable imagination persuaded her we must suppose for a brief moment that fyodor pavlovitch in spite of his parasitic position was one of the bold and ironical spirits of that progressive epoch though he was in fact an ill natured buffoon and nothing more what gave the marriage piquancy was that it was preceded by an elopement and this greatly captivated adelai da ivanovna s fancy fyodor pavlovitch s position at the time made him specially eager for any such enterprise for he was passionately anxious to make a career in one way or another to attach himself to a good family and obtain a dowry was an alluring prospect as for mutual love it did not exist apparently either in the bride or in him in spite of adelai da ivanovna s beauty this was perhaps a unique case of the kind in the life of fyodor pavlovitch who was always of a voluptuous temper and ready to run after any petticoat on the slightest encouragement she seems to have been the only woman who made no particular appeal to his senses',\n",
       "        'immediately after the elopement adelai da ivanovna discerned in a flash that she had no feeling for her husband but contempt the marriage accordingly showed itself in its true colors with extraordinary rapidity although the family accepted the event pretty quickly and apportioned the runaway bride her dowry the husband and wife began to lead a most disorderly life and there were everlasting scenes between them it was said that the young wife showed incomparably more generosity and dignity than fyodor pavlovitch who as is now known got hold of all her money up to twenty five thousand roubles as soon as she received it so that those thousands were lost to her for ever the little village and the rather fine town house which formed part of her dowry he did his utmost for a long time to transfer to his name by means of some deed of conveyance he would probably have succeeded merely from her moral fatigue and desire to get rid of him and from the contempt and loathing he aroused by his persistent and shameless importunity but fortunately adelai da ivanovna s family intervened and circumvented his greediness it is known for a fact that frequent fights took place between the husband and wife but rumor had it that fyodor pavlovitch did not beat his wife but was beaten by her for she was a hot tempered bold dark browed impatient woman possessed of remarkable physical strength finally she left the house and ran away from fyodor pavlovitch with a destitute divinity student leaving mitya a child of three years old in her husband s hands immediately fyodor pavlovitch introduced a regular harem into the house and abandoned himself to orgies of drunkenness in the intervals he used to drive all over the province complaining tearfully to each and all of adelai da ivanovna s having left him going into details too disgraceful for a husband to mention in regard to his own married life what seemed to gratify him and flatter his self love most was to play the ridiculous part of the injured husband and to parade his woes with embellishments',\n",
       "        'one would think that you d got a promotion fyodor pavlovitch you seem so pleased in spite of your sorrow scoffers said to him many even added that he was glad of a new comic part in which to play the buffoon and that it was simply to make it funnier that he pretended to be unaware of his ludicrous position but who knows it may have been simplicity at last he succeeded in getting on the track of his runaway wife the poor woman turned out to be in petersburg where she had gone with her divinity student and where she had thrown herself into a life of complete emancipation fyodor pavlovitch at once began bustling about making preparations to go to petersburg with what object he could not himself have said he would perhaps have really gone but having determined to do so he felt at once entitled to fortify himself for the journey by another bout of reckless drinking and just at that time his wife s family received the news of her death in petersburg she had died quite suddenly in a garret according to one story of typhus or as another version had it of starvation fyodor pavlovitch was drunk when he heard of his wife s death and the story is that he ran out into the street and began shouting with joy raising his hands to heaven lord now lettest thou thy servant depart in peace but others say he wept without restraint like a little child so much so that people were sorry for him in spite of the repulsion he inspired it is quite possible that both versions were true that he rejoiced at his release and at the same time wept for her who released him as a general rule people even the wicked are much more nai ve and simple hearted than we suppose and we ourselves are too',\n",
       "        'you can easily imagine what a father such a man could be and how he would bring up his children his behavior as a father was exactly what might be expected he completely abandoned the child of his marriage with adelai da ivanovna not from malice nor because of his matrimonial grievances but simply because he forgot him while he was wearying every one with his tears and complaints and turning his house into a sink of debauchery a faithful servant of the family grigory took the three year old mitya into his care if he hadn t looked after him there would have been no one even to change the baby s little shirt',\n",
       "        'it happened moreover that the child s relations on his mother s side forgot him too at first his grandfather was no longer living his widow mitya s grandmother had moved to moscow and was seriously ill while his daughters were married so that mitya remained for almost a whole year in old grigory s charge and lived with him in the servant s cottage but if his father had remembered him he could not indeed have been altogether unaware of his existence he would have sent him back to the cottage as the child would only have been in the way of his debaucheries but a cousin of mitya s mother pyotr alexandrovitch miu sov happened to return from paris he lived for many years afterwards abroad but was at that time quite a young man and distinguished among the miu sovs as a man of enlightened ideas and of european culture who had been in the capitals and abroad towards the end of his life he became a liberal of the type common in the forties and fifties in the course of his career he had come into contact with many of the most liberal men of his epoch both in russia and abroad he had known proudhon and bakunin personally and in his declining years was very fond of describing the three days of the paris revolution of february hinting that he himself had almost taken part in the fighting on the barricades this was one of the most grateful recollections of his youth he had an independent property of about a thousand souls to reckon in the old style his splendid estate lay on the outskirts of our little town and bordered on the lands of our famous monastery with which pyotr alexandrovitch began an endless lawsuit almost as soon as he came into the estate concerning the rights of fishing in the river or wood cutting in the forest i don t know exactly which he regarded it as his duty as a citizen and a man of culture to open an attack upon the clericals hearing all about adelai da ivanovna whom he of course remembered and in whom he had at one time been interested and learning of the existence of mitya he intervened in spite of all his youthful indignation and contempt for fyodor pavlovitch he made the latter s acquaintance for the first time and told him directly that he wished to undertake the child s education he used long afterwards to tell as a characteristic touch that when he began to speak of mitya fyodor pavlovitch looked for some time as though he did not understand what child he was talking about and even as though he was surprised to hear that he had a little son in the house the story may have been exaggerated yet it must have been something like the truth',\n",
       "        'fyodor pavlovitch was all his life fond of acting of suddenly playing an unexpected part sometimes without any motive for doing so and even to his own direct disadvantage as for instance in the present case this habit however is characteristic of a very great number of people some of them very clever ones not like fyodor pavlovitch pyotr alexandrovitch carried the business through vigorously and was appointed with fyodor pavlovitch joint guardian of the child who had a small property a house and land left him by his mother mitya did in fact pass into this cousin s keeping but as the latter had no family of his own and after securing the revenues of his estates was in haste to return at once to paris he left the boy in charge of one of his cousins a lady living in moscow it came to pass that settling permanently in paris he too forgot the child especially when the revolution of february broke out making an impression on his mind that he remembered all the rest of his life the moscow lady died and mitya passed into the care of one of her married daughters i believe he changed his home a fourth time later on i won t enlarge upon that now as i shall have much to tell later of fyodor pavlovitch s firstborn and must confine myself now to the most essential facts about him without which i could not begin my story',\n",
       "        'in the first place this mitya or rather dmitri fyodorovitch was the only one of fyodor pavlovitch s three sons who grew up in the belief that he had property and that he would be independent on coming of age he spent an irregular boyhood and youth he did not finish his studies at the gymnasium he got into a military school then went to the caucasus was promoted fought a duel and was degraded to the ranks earned promotion again led a wild life and spent a good deal of money he did not begin to receive any income from fyodor pavlovitch until he came of age and until then got into debt he saw and knew his father fyodor pavlovitch for the first time on coming of age when he visited our neighborhood on purpose to settle with him about his property he seems not to have liked his father he did not stay long with him and made haste to get away having only succeeded in obtaining a sum of money and entering into an agreement for future payments from the estate of the revenues and value of which he was unable a fact worthy of note upon this occasion to get a statement from his father fyodor pavlovitch remarked for the first time then this too should be noted that mitya had a vague and exaggerated idea of his property fyodor pavlovitch was very well satisfied with this as it fell in with his own designs he gathered only that the young man was frivolous unruly of violent passions impatient and dissipated and that if he could only obtain ready money he would be satisfied although only of course for a short time so fyodor pavlovitch began to take advantage of this fact sending him from time to time small doles installments in the end when four years later mitya losing patience came a second time to our little town to settle up once for all with his father it turned out to his amazement that he had nothing that it was difficult to get an account even that he had received the whole value of his property in sums of money from fyodor pavlovitch and was perhaps even in debt to him that by various agreements into which he had of his own desire entered at various previous dates he had no right to expect anything more and so on and so on the young man was overwhelmed suspected deceit and cheating and was almost beside himself and indeed this circumstance led to the catastrophe the account of which forms the subject of my first introductory story or rather the external side of it but before i pass to that story i must say a little of fyodor pavlovitch s other two sons and of their origin',\n",
       "        'very shortly after getting his four year old mitya off his hands fyodor pavlovitch married a second time his second marriage lasted eight years he took this second wife sofya ivanovna also a very young girl from another province where he had gone upon some small piece of business in company with a jew though fyodor pavlovitch was a drunkard and a vicious debauchee he never neglected investing his capital and managed his business affairs very successfully though no doubt not over scrupulously sofya ivanovna was the daughter of an obscure deacon and was left from childhood an orphan without relations she grew up in the house of a general s widow a wealthy old lady of good position who was at once her benefactress and tormentor i do not know the details but i have only heard that the orphan girl a meek and gentle creature was once cut down from a halter in which she was hanging from a nail in the loft so terrible were her sufferings from the caprice and everlasting nagging of this old woman who was apparently not bad hearted but had become an insufferable tyrant through idleness',\n",
       "        'fyodor pavlovitch made her an offer inquiries were made about him and he was refused but again as in his first marriage he proposed an elopement to the orphan girl there is very little doubt that she would not on any account have married him if she had known a little more about him in time but she lived in another province besides what could a little girl of sixteen know about it except that she would be better at the bottom of the river than remaining with her benefactress so the poor child exchanged a benefactress for a benefactor fyodor pavlovitch did not get a penny this time for the general s widow was furious she gave them nothing and cursed them both but he had not reckoned on a dowry what allured him was the remarkable beauty of the innocent girl above all her innocent appearance which had a peculiar attraction for a vicious profligate who had hitherto admired only the coarser types of feminine beauty',\n",
       "        'those innocent eyes slit my soul up like a razor he used to say afterwards with his loathsome snigger in a man so depraved this might of course mean no more than sensual attraction as he had received no dowry with his wife and had so to speak taken her from the halter he did not stand on ceremony with her making her feel that she had wronged him he took advantage of her phenomenal meekness and submissiveness to trample on the elementary decencies of marriage he gathered loose women into his house and carried on orgies of debauchery in his wife s presence to show what a pass things had come to i may mention that grigory the gloomy stupid obstinate argumentative servant who had always hated his first mistress adelai da ivanovna took the side of his new mistress he championed her cause abusing fyodor pavlovitch in a manner little befitting a servant and on one occasion broke up the revels and drove all the disorderly women out of the house in the end this unhappy young woman kept in terror from her childhood fell into that kind of nervous disease which is most frequently found in peasant women who are said to be possessed by devils at times after terrible fits of hysterics she even lost her reason yet she bore fyodor pavlovitch two sons ivan and alexey the eldest in the first year of marriage and the second three years later when she died little alexey was in his fourth year and strange as it seems i know that he remembered his mother all his life like a dream of course at her death almost exactly the same thing happened to the two little boys as to their elder brother mitya they were completely forgotten and abandoned by their father they were looked after by the same grigory and lived in his cottage where they were found by the tyrannical old lady who had brought up their mother she was still alive and had not all those eight years forgotten the insult done her all that time she was obtaining exact information as to her sofya s manner of life and hearing of her illness and hideous surroundings she declared aloud two or three times to her retainers',\n",
       "        'exactly three months after sofya ivanovna s death the general s widow suddenly appeared in our town and went straight to fyodor pavlovitch s house she spent only half an hour in the town but she did a great deal it was evening fyodor pavlovitch whom she had not seen for those eight years came in to her drunk the story is that instantly upon seeing him without any sort of explanation she gave him two good resounding slaps on the face seized him by a tuft of hair and shook him three times up and down then without a word she went straight to the cottage to the two boys seeing at the first glance that they were unwashed and in dirty linen she promptly gave grigory too a box on the ear and announcing that she would carry off both the children she wrapped them just as they were in a rug put them in the carriage and drove off to her own town grigory accepted the blow like a devoted slave without a word and when he escorted the old lady to her carriage he made her a low bow and pronounced impressively that god would repay her for the orphans you are a blockhead all the same the old lady shouted to him as she drove away',\n",
       "        'fyodor pavlovitch thinking it over decided that it was a good thing and did not refuse the general s widow his formal consent to any proposition in regard to his children s education as for the slaps she had given him he drove all over the town telling the story',\n",
       "        'it happened that the old lady died soon after this but she left the boys in her will a thousand roubles each for their instruction and so that all be spent on them exclusively with the condition that it be so portioned out as to last till they are twenty one for it is more than adequate provision for such children if other people think fit to throw away their money let them i have not read the will myself but i heard there was something queer of the sort very whimsically expressed the principal heir yefim petrovitch polenov the marshal of nobility of the province turned out however to be an honest man writing to fyodor pavlovitch and discerning at once that he could extract nothing from him for his children s education though the latter never directly refused but only procrastinated as he always did in such cases and was indeed at times effusively sentimental yefim petrovitch took a personal interest in the orphans he became especially fond of the younger alexey who lived for a long while as one of his family i beg the reader to note this from the beginning and to yefim petrovitch a man of a generosity and humanity rarely to be met with the young people were more indebted for their education and bringing up than to any one he kept the two thousand roubles left to them by the general s widow intact so that by the time they came of age their portions had been doubled by the accumulation of interest he educated them both at his own expense and certainly spent far more than a thousand roubles upon each of them i won t enter into a detailed account of their boyhood and youth but will only mention a few of the most important events of the elder ivan i will only say that he grew into a somewhat morose and reserved though far from timid boy at ten years old he had realized that they were living not in their own home but on other people s charity and that their father was a man of whom it was disgraceful to speak this boy began very early almost in his infancy so they say at least to show a brilliant and unusual aptitude for learning i don t know precisely why but he left the family of yefim petrovitch when he was hardly thirteen entering a moscow gymnasium and boarding with an experienced and celebrated teacher an old friend of yefim petrovitch ivan used to declare afterwards that this was all due to the ardor for good works of yefim petrovitch who was captivated by the idea that the boy s genius should be trained by a teacher of genius but neither yefim petrovitch nor this teacher was living when the young man finished at the gymnasium and entered the university as yefim petrovitch had made no provision for the payment of the tyrannical old lady s legacy which had grown from one thousand to two it was delayed owing to formalities inevitable in russia and the young man was in great straits for the first two years at the university as he was forced to keep himself all the time he was studying it must be noted that he did not even attempt to communicate with his father perhaps from pride from contempt for him or perhaps from his cool common sense which told him that from such a father he would get no real assistance however that may have been the young man was by no means despondent and succeeded in getting work at first giving sixpenny lessons and afterwards getting paragraphs on street incidents into the newspapers under the signature of eye witness these paragraphs it was said were so interesting and piquant that they were soon taken this alone showed the young man s practical and intellectual superiority over the masses of needy and unfortunate students of both sexes who hang about the offices of the newspapers and journals unable to think of anything better than everlasting entreaties for copying and translations from the french having once got into touch with the editors ivan fyodorovitch always kept up his connection with them and in his latter years at the university he published brilliant reviews of books upon various special subjects so that he became well known in literary circles but only in his last year he suddenly succeeded in attracting the attention of a far wider circle of readers so that a great many people noticed and remembered him it was rather a curious incident when he had just left the university and was preparing to go abroad upon his two thousand roubles ivan fyodorovitch published in one of the more important journals a strange article which attracted general notice on a subject of which he might have been supposed to know nothing as he was a student of natural science the article dealt with a subject which was being debated everywhere at the time the position of the ecclesiastical courts after discussing several opinions on the subject he went on to explain his own view what was most striking about the article was its tone and its unexpected conclusion many of the church party regarded him unquestioningly as on their side and yet not only the secularists but even atheists joined them in their applause finally some sagacious persons opined that the article was nothing but an impudent satirical burlesque i mention this incident particularly because this article penetrated into the famous monastery in our neighborhood where the inmates being particularly interested in the question of the ecclesiastical courts were completely bewildered by it learning the author s name they were interested in his being a native of the town and the son of that fyodor pavlovitch and just then it was that the author himself made his appearance among us',\n",
       "        'why ivan fyodorovitch had come amongst us i remember asking myself at the time with a certain uneasiness this fateful visit which was the first step leading to so many consequences i never fully explained to myself it seemed strange on the face of it that a young man so learned so proud and apparently so cautious should suddenly visit such an infamous house and a father who had ignored him all his life hardly knew him never thought of him and would not under any circumstances have given him money though he was always afraid that his sons ivan and alexey would also come to ask him for it and here the young man was staying in the house of such a father had been living with him for two months and they were on the best possible terms this last fact was a special cause of wonder to many others as well as to me pyotr alexandrovitch miu sov of whom we have spoken already the cousin of fyodor pavlovitch s first wife happened to be in the neighborhood again on a visit to his estate he had come from paris which was his permanent home i remember that he was more surprised than any one when he made the acquaintance of the young man who interested him extremely and with whom he sometimes argued and not without an inner pang compared himself in acquirements',\n",
       "        'he is proud he used to say he will never be in want of pence he has got money enough to go abroad now what does he want here every one can see that he hasn t come for money for his father would never give him any he has no taste for drink and dissipation and yet his father can t do without him they get on so well together',\n",
       "        'that was the truth the young man had an unmistakable influence over his father who positively appeared to be behaving more decently and even seemed at times ready to obey his son though often extremely and even spitefully perverse',\n",
       "        'it was only later that we learned that ivan had come partly at the request of and in the interests of his elder brother dmitri whom he saw for the first time on this very visit though he had before leaving moscow been in correspondence with him about an important matter of more concern to dmitri than himself what that business was the reader will learn fully in due time yet even when i did know of this special circumstance i still felt ivan fyodorovitch to be an enigmatic figure and thought his visit rather mysterious'],\n",
       "       dtype='<U9487'),\n",
       " array([0., 0., 0., 0., 0., 0., 0., 0., 0., 0., 0., 0., 0., 0., 0., 0., 0.,\n",
       "        0., 0., 0.]))"
      ]
     },
     "execution_count": 2,
     "metadata": {
      "tags": []
     },
     "output_type": "execute_result"
    }
   ],
   "source": [
    "fyodor = load_file('/content/28054-0.txt')\n",
    "f_data = clean_data(fyodor)\n",
    "f_labels = np.zeros(f_data.shape[0])\n",
    "f_data[0:20], f_labels[0:20]"
   ]
  },
  {
   "cell_type": "code",
   "execution_count": null,
   "metadata": {
    "colab": {
     "base_uri": "https://localhost:8080/"
    },
    "id": "hWYyykKGjNQi",
    "outputId": "b761e5e2-f3d7-4125-891f-f9ffdec25152"
   },
   "outputs": [
    {
     "data": {
      "text/plain": [
       "(array(['this ebook is for the use of anyone anywhere at no cost and with almost no restrictions whatsoever you may copy it give it away or re use it under the terms of the project gutenberg license included with this ebook or online at www gutenberg net',\n",
       "        'i a scandal in bohemia ii the red headed league iii a case of identity iv the boscombe valley mystery v the five orange pips vi the man with the twisted lip vii the adventure of the blue carbuncle viii the adventure of the speckled band ix the adventure of the engineers thumb x the adventure of the noble bachelor xi the adventure of the beryl coronet xii the adventure of the copper beeches',\n",
       "        'to sherlock holmes she is always the woman i have seldom heard him mention her under any other name in his eyes she eclipses and predominates the whole of her sex it was not that he felt any emotion akin to love for irene adler all emotions and that one particularly were abhorrent to his cold precise but admirably balanced mind he was i take it the most perfect reasoning and observing machine that the world has seen but as a lover he would have placed himself in a false position he never spoke of the softer passions save with a gibe and a sneer they were admirable things for the observer excellent for drawing the veil from mens motives and actions but for the trained reasoner to admit such intrusions into his own delicate and finely adjusted temperament was to introduce a distracting factor which might throw a doubt upon all his mental results grit in a sensitive instrument or a crack in one of his own high power lenses would not be more disturbing than a strong emotion in a nature such as his and yet there was but one woman to him and that woman was the late irene adler of dubious and questionable memory',\n",
       "        'i had seen little of holmes lately my marriage had drifted us away from each other my own complete happiness and the home centred interests which rise up around the man who first finds himself master of his own establishment were sufficient to absorb all my attention while holmes who loathed every form of society with his whole bohemian soul remained in our lodgings in baker street buried among his old books and alternating from week to week between cocaine and ambition the drowsiness of the drug and the fierce energy of his own keen nature he was still as ever deeply attracted by the study of crime and occupied his immense faculties and extraordinary powers of observation in following out those clues and clearing up those mysteries which had been abandoned as hopeless by the official police from time to time i heard some vague account of his doings of his summons to odessa in the case of the trepoff murder of his clearing up of the singular tragedy of the atkinson brothers at trincomalee and finally of the mission which he had accomplished so delicately and successfully for the reigning family of holland beyond these signs of his activity however which i merely shared with all the readers of the daily press i knew little of my former friend and companion',\n",
       "        'one night it was on the twentieth of march i was returning from a journey to a patient for i had now returned to civil practice when my way led me through baker street as i passed the well remembered door which must always be associated in my mind with my wooing and with the dark incidents of the study in scarlet i was seized with a keen desire to see holmes again and to know how he was employing his extraordinary powers his rooms were brilliantly lit and even as i looked up i saw his tall spare figure pass twice in a dark silhouette against the blind he was pacing the room swiftly eagerly with his head sunk upon his chest and his hands clasped behind him to me who knew his every mood and habit his attitude and manner told their own story he was at work again he had risen out of his drug created dreams and was hot upon the scent of some new problem i rang the bell and was shown up to the chamber which had formerly been in part my own',\n",
       "        'his manner was not effusive it seldom was but he was glad i think to see me with hardly a word spoken but with a kindly eye he waved me to an armchair threw across his case of cigars and indicated a spirit case and a gasogene in the corner then he stood before the fire and looked me over in his singular introspective fashion',\n",
       "        'wedlock suits you he remarked i think watson that you have put on seven and a half pounds since i saw you',\n",
       "        'indeed i should have thought a little more just a trifle more i fancy watson and in practice again i observe you did not tell me that you intended to go into harness',\n",
       "        'i see it i deduce it how do i know that you have been getting yourself very wet lately and that you have a most clumsy and careless servant girl',\n",
       "        'my dear holmes said i this is too much you would certainly have been burned had you lived a few centuries ago it is true that i had a country walk on thursday and came home in a dreadful mess but as i have changed my clothes i cant imagine how you deduce it as to mary jane she is incorrigible and my wife has given her notice but there again i fail to see how you work it out',\n",
       "        'it is simplicity itself said he my eyes tell me that on the inside of your left shoe just where the firelight strikes it the leather is scored by six almost parallel cuts obviously they have been caused by someone who has very carelessly scraped round the edges of the sole in order to remove crusted mud from it hence you see my double deduction that you had been out in vile weather and that you had a particularly malignant boot slitting specimen of the london slavey as to your practice if a gentleman walks into my rooms smelling of iodoform with a black mark of nitrate of silver upon his right forefinger and a bulge on the right side of his top hat to show where he has secreted his stethoscope i must be dull indeed if i do not pronounce him to be an active member of the medical profession',\n",
       "        'i could not help laughing at the ease with which he explained his process of deduction when i hear you give your reasons i remarked the thing always appears to me to be so ridiculously simple that i could easily do it myself though at each successive instance of your reasoning i am baffled until you explain your process and yet i believe that my eyes are as good as yours',\n",
       "        'quite so he answered lighting a cigarette and throwing himself down into an armchair you see but you do not observe the distinction is clear for example you have frequently seen the steps which lead up from the hall to this room',\n",
       "        'quite so you have not observed and yet you have seen that is just my point now i know that there are seventeen steps because i have both seen and observed by the way since you are interested in these little problems and since you are good enough to chronicle one or two of my trifling experiences you may be interested in this he threw over a sheet of thick pink tinted note paper which had been lying open upon the table it came by the last post said he read it aloud',\n",
       "        'there will call upon you to night at a quarter to eight oclock it said a gentleman who desires to consult you upon a matter of the very deepest moment your recent services to one of the royal houses of europe have shown that you are one who may safely be trusted with matters which are of an importance which can hardly be exaggerated this account of you we have from all quarters received be in your chamber then at that hour and do not take it amiss if your visitor wear a mask',\n",
       "        'i have no data yet it is a capital mistake to theorize before one has data insensibly one begins to twist facts to suit theories instead of theories to suit facts but the note itself what do you deduce from it',\n",
       "        'the man who wrote it was presumably well to do i remarked endeavouring to imitate my companions processes such paper could not be bought under half a crown a packet it is peculiarly strong and stiff',\n",
       "        'peculiar that is the very word said holmes it is not an english paper at all hold it up to the light',\n",
       "        'i did so and saw a large e with a small g a p and a large g with a small t woven into the texture of the paper',\n",
       "        'not at all the g with the small t stands for gesellschaft which is the german for company it is a customary contraction like our co p of course stands for papier now for the eg let us glance at our continental gazetteer he took down a heavy brown volume from his shelves eglow eglonitz here we are egria it is in a german speaking country in bohemia not far from carlsbad remarkable as being the scene of the death of wallenstein and for its numerous glass factories and paper mills ha ha my boy what do you make of that his eyes sparkled and he sent up a great blue triumphant cloud from his cigarette'],\n",
       "       dtype='<U2489'),\n",
       " array([1., 1., 1., 1., 1., 1., 1., 1., 1., 1., 1., 1., 1., 1., 1., 1., 1.,\n",
       "        1., 1., 1.]))"
      ]
     },
     "execution_count": 3,
     "metadata": {
      "tags": []
     },
     "output_type": "execute_result"
    }
   ],
   "source": [
    "doyle = load_file('/content/pg1661.txt')\n",
    "d_data = clean_data(doyle)\n",
    "d_labels = np.ones(d_data.shape[0])\n",
    "d_data[0:20], d_labels[0:20]"
   ]
  },
  {
   "cell_type": "code",
   "execution_count": null,
   "metadata": {
    "colab": {
     "base_uri": "https://localhost:8080/"
    },
    "id": "Nrn59VrnjrW3",
    "outputId": "8e6fd3f3-a805-4347-d939-cbcd1d760dc1"
   },
   "outputs": [
    {
     "data": {
      "text/plain": [
       "(array(['this ebook is for the use of anyone anywhere at no cost and with almost no restrictions whatsoever you may copy it give it away or re use it under the terms of the project gutenberg license included with this ebook or online at www gutenberg org',\n",
       "        'note the accompanying html file has active links to all the volumes and chapters in this set',\n",
       "        'sir walter elliot of kellynch hall in somersetshire was a man who for his own amusement never took up any book but the baronetage there he found occupation for an idle hour and consolation in a distressed one there his faculties were roused into admiration and respect by contemplating the limited remnant of the earliest patents there any unwelcome sensations arising from domestic affairs changed naturally into pity and contempt as he turned over the almost endless creations of the last century and there if every other leaf were powerless he could read his own history with an interest which never failed this was the page at which the favourite volume always opened',\n",
       "        'walter elliot born march married july elizabeth daughter of james stevenson esq of south park in the county of gloucester by which lady who died he has issue elizabeth born june anne born august a still born son november mary born november',\n",
       "        'precisely such had the paragraph originally stood from the printers hands but sir walter had improved it by adding for the information of himself and his family these words after the date of marys birth married december charles son and heir of charles musgrove esq of uppercross in the county of somerset and by inserting most accurately the day of the month on which he had lost his wife',\n",
       "        'then followed the history and rise of the ancient and respectable family in the usual terms how it had been first settled in cheshire how mentioned in dugdale serving the office of high sheriff representing a borough in three successive parliaments exertions of loyalty and dignity of baronet in the first year of charles ii with all the marys and elizabeths they had married forming altogether two handsome duodecimo pages and concluding with the arms and motto principal seat kellynch hall in the county of somerset and sir walters handwriting again in this finale',\n",
       "        'vanity was the beginning and the end of sir walter elliots character vanity of person and of situation he had been remarkably handsome in his youth and at fifty four was still a very fine man few women could think more of their personal appearance than he did nor could the valet of any new made lord be more delighted with the place he held in society he considered the blessing of beauty as inferior only to the blessing of a baronetcy and the sir walter elliot who united these gifts was the constant object of his warmest respect and devotion',\n",
       "        'his good looks and his rank had one fair claim on his attachment since to them he must have owed a wife of very superior character to any thing deserved by his own lady elliot had been an excellent woman sensible and amiable whose judgement and conduct if they might be pardoned the youthful infatuation which made her lady elliot had never required indulgence afterwards she had humoured or softened or concealed his failings and promoted his real respectability for seventeen years and though not the very happiest being in the world herself had found enough in her duties her friends and her children to attach her to life and make it no matter of indifference to her when she was called on to quit them three girls the two eldest sixteen and fourteen was an awful legacy for a mother to bequeath an awful charge rather to confide to the authority and guidance of a conceited silly father she had however one very intimate friend a sensible deserving woman who had been brought by strong attachment to herself to settle close by her in the village of kellynch and on her kindness and advice lady elliot mainly relied for the best help and maintenance of the good principles and instruction which she had been anxiously giving her daughters',\n",
       "        'this friend and sir walter did not marry whatever might have been anticipated on that head by their acquaintance thirteen years had passed away since lady elliots death and they were still near neighbours and intimate friends and one remained a widower the other a widow',\n",
       "        'that lady russell of steady age and character and extremely well provided for should have no thought of a second marriage needs no apology to the public which is rather apt to be unreasonably discontented when a woman does marry again than when she does not but sir walters continuing in singleness requires explanation be it known then that sir walter like a good father having met with one or two private disappointments in very unreasonable applications prided himself on remaining single for his dear daughters sake for one daughter his eldest he would really have given up any thing which he had not been very much tempted to do elizabeth had succeeded at sixteen to all that was possible of her mothers rights and consequence and being very handsome and very like himself her influence had always been great and they had gone on together most happily his two other children were of very inferior value mary had acquired a little artificial importance by becoming mrs charles musgrove but anne with an elegance of mind and sweetness of character which must have placed her high with any people of real understanding was nobody with either father or sister her word had no weight her convenience was always to give way she was only anne',\n",
       "        'to lady russell indeed she was a most dear and highly valued god daughter favourite and friend lady russell loved them all but it was only in anne that she could fancy the mother to revive again',\n",
       "        'a few years before anne elliot had been a very pretty girl but her bloom had vanished early and as even in its height her father had found little to admire in her so totally different were her delicate features and mild dark eyes from his own there could be nothing in them now that she was faded and thin to excite his esteem he had never indulged much hope he had now none of ever reading her name in any other page of his favourite work all equality of alliance must rest with elizabeth for mary had merely connected herself with an old country family of respectability and large fortune and had therefore given all the honour and received none elizabeth would one day or other marry suitably',\n",
       "        'it sometimes happens that a woman is handsomer at twenty nine than she was ten years before and generally speaking if there has been neither ill health nor anxiety it is a time of life at which scarcely any charm is lost it was so with elizabeth still the same handsome miss elliot that she had begun to be thirteen years ago and sir walter might be excused therefore in forgetting her age or at least be deemed only half a fool for thinking himself and elizabeth as blooming as ever amidst the wreck of the good looks of everybody else for he could plainly see how old all the rest of his family and acquaintance were growing anne haggard mary coarse every face in the neighbourhood worsting and the rapid increase of the crows foot about lady russells temples had long been a distress to him',\n",
       "        'elizabeth did not quite equal her father in personal contentment thirteen years had seen her mistress of kellynch hall presiding and directing with a self possession and decision which could never have given the idea of her being younger than she was for thirteen years had she been doing the honours and laying down the domestic law at home and leading the way to the chaise and four and walking immediately after lady russell out of all the drawing rooms and dining rooms in the country thirteen winters revolving frosts had seen her opening every ball of credit which a scanty neighbourhood afforded and thirteen springs shewn their blossoms as she travelled up to london with her father for a few weeks annual enjoyment of the great world she had the remembrance of all this she had the consciousness of being nine and twenty to give her some regrets and some apprehensions she was fully satisfied of being still quite as handsome as ever but she felt her approach to the years of danger and would have rejoiced to be certain of being properly solicited by baronet blood within the next twelvemonth or two then might she again take up the book of books with as much enjoyment as in her early youth but now she liked it not always to be presented with the date of her own birth and see no marriage follow but that of a youngest sister made the book an evil and more than once when her father had left it open on the table near her had she closed it with averted eyes and pushed it away',\n",
       "        'she had had a disappointment moreover which that book and especially the history of her own family must ever present the remembrance of the heir presumptive the very william walter elliot esq whose rights had been so generously supported by her father had disappointed her',\n",
       "        'she had while a very young girl as soon as she had known him to be in the event of her having no brother the future baronet meant to marry him and her father had always meant that she should he had not been known to them as a boy but soon after lady elliots death sir walter had sought the acquaintance and though his overtures had not been met with any warmth he had persevered in seeking it making allowance for the modest drawing back of youth and in one of their spring excursions to london when elizabeth was in her first bloom mr elliot had been forced into the introduction',\n",
       "        'he was at that time a very young man just engaged in the study of the law and elizabeth found him extremely agreeable and every plan in his favour was confirmed he was invited to kellynch hall he was talked of and expected all the rest of the year but he never came the following spring he was seen again in town found equally agreeable again encouraged invited and expected and again he did not come and the next tidings were that he was married instead of pushing his fortune in the line marked out for the heir of the house of elliot he had purchased independence by uniting himself to a rich woman of inferior birth',\n",
       "        'sir walter has resented it as the head of the house he felt that he ought to have been consulted especially after taking the young man so publicly by the hand for they must have been seen together he observed once at tattersalls and twice in the lobby of the house of commons his disapprobation was expressed but apparently very little regarded mr elliot had attempted no apology and shewn himself as unsolicitous of being longer noticed by the family as sir walter considered him unworthy of it all acquaintance between them had ceased',\n",
       "        'this very awkward history of mr elliot was still after an interval of several years felt with anger by elizabeth who had liked the man for himself and still more for being her fathers heir and whose strong family pride could see only in him a proper match for sir walter elliots eldest daughter there was not a baronet from a to z whom her feelings could have so willingly acknowledged as an equal yet so miserably had he conducted himself that though she was at this present time the summer of wearing black ribbons for his wife she could not admit him to be worth thinking of again the disgrace of his first marriage might perhaps as there was no reason to suppose it perpetuated by offspring have been got over had he not done worse but he had as by the accustomary intervention of kind friends they had been informed spoken most disrespectfully of them all most slightingly and contemptuously of the very blood he belonged to and the honours which were hereafter to be his own this could not be pardoned',\n",
       "        'such were elizabeth elliots sentiments and sensations such the cares to alloy the agitations to vary the sameness and the elegance the prosperity and the nothingness of her scene of life such the feelings to give interest to a long uneventful residence in one country circle to fill the vacancies which there were no habits of utility abroad no talents or accomplishments for home to occupy'],\n",
       "       dtype='<U14176'),\n",
       " array([2., 2., 2., 2., 2., 2., 2., 2., 2., 2., 2., 2., 2., 2., 2., 2., 2.,\n",
       "        2., 2., 2.]))"
      ]
     },
     "execution_count": 4,
     "metadata": {
      "tags": []
     },
     "output_type": "execute_result"
    }
   ],
   "source": [
    "austen = load_file('/content/pg31100.txt')\n",
    "a_data = clean_data(austen)\n",
    "a_labels = np.ones(a_data.shape[0]) + 1\n",
    "a_data[0:20], a_labels[0:20]"
   ]
  },
  {
   "cell_type": "code",
   "execution_count": null,
   "metadata": {
    "colab": {
     "base_uri": "https://localhost:8080/"
    },
    "id": "8j0fIJ6-kOOu",
    "outputId": "e2e7ed3c-def9-48a2-a29d-160688a50dd8"
   },
   "outputs": [
    {
     "data": {
      "text/plain": [
       "(array(['this ebook is for the use of anyone anywhere in the united states and most other parts of the world at no cost and with almost no restrictions whatsoever you may copy it give it away or re use it under the terms of the project gutenberg license included with this ebook or online at http www gutenberg org license if you are not located in the united states you ll have to check the laws of the country where you are located before using this ebook',\n",
       "        'part i book i the history of a family chapter i fyodor pavlovitch karamazov chapter ii he gets rid of his eldest son chapter iii the second marriage and the second family chapter iv the third son alyosha chapter v elders book ii an unfortunate gathering chapter i they arrive at the monastery chapter ii the old buffoon chapter iii peasant women who have faith chapter iv a lady of little faith chapter v so be it so be it chapter vi why is such a man alive chapter vii a young man bent on a career chapter viii the scandalous scene book iii the sensualists chapter i in the servants quarters chapter ii lizaveta chapter iii the confession of a passionate heart in verse chapter iv the confession of a passionate heart in anecdote chapter v the confession of a passionate heart heels up chapter vi smerdyakov chapter vii the controversy chapter viii over the brandy chapter ix the sensualists chapter x both together chapter xi another reputation ruined part ii book iv lacerations chapter i father ferapont chapter ii at his father s chapter iii a meeting with the schoolboys chapter iv at the hohlakovs chapter v a laceration in the drawing room chapter vi a laceration in the cottage chapter vii and in the open air book v pro and contra chapter i the engagement chapter ii smerdyakov with a guitar chapter iii the brothers make friends chapter iv rebellion chapter v the grand inquisitor chapter vi for awhile a very obscure one chapter vii it s always worth while speaking to a clever man book vi the russian monk chapter i father zossima and his visitors chapter ii the duel chapter iii conversations and exhortations of father zossima part iii book vii alyosha chapter i the breath of corruption chapter ii a critical moment chapter iii an onion chapter iv cana of galilee book viii mitya chapter i kuzma samsonov chapter ii lyagavy chapter iii gold mines chapter iv in the dark chapter v a sudden resolution chapter vi i am coming too chapter vii the first and rightful lover chapter viii delirium book ix the preliminary investigation chapter i the beginning of perhotin s official career chapter ii the alarm chapter iii the sufferings of a soul the first ordeal chapter iv the second ordeal chapter v the third ordeal chapter vi the prosecutor catches mitya chapter vii mitya s great secret received with hisses chapter viii the evidence of the witnesses the babe chapter ix they carry mitya away part iv book x the boys chapter i kolya krassotkin chapter ii children chapter iii the schoolboy chapter iv the lost dog chapter v by ilusha s bedside chapter vi precocity chapter vii ilusha book xi ivan chapter i at grushenka s chapter ii the injured foot chapter iii a little demon chapter iv a hymn and a secret chapter v not you not you chapter vi the first interview with smerdyakov chapter vii the second visit to smerdyakov chapter viii the third and last interview with smerdyakov chapter ix the devil ivan s nightmare chapter x it was he who said that book xii a judicial error chapter i the fatal day chapter ii dangerous witnesses chapter iii the medical experts and a pound of nuts chapter iv fortune smiles on mitya chapter v a sudden catastrophe chapter vi the prosecutor s speech sketches of character chapter vii an historical survey chapter viii a treatise on smerdyakov chapter ix the galloping troika the end of the prosecutor s speech chapter x the speech for the defense an argument that cuts both ways chapter xi there was no money there was no robbery chapter xii and there was no murder either chapter xiii a corrupter of thought chapter xiv the peasants stand firm epilogue chapter i plans for mitya s escape chapter ii for a moment the lie becomes truth chapter iii ilusha s funeral the speech at the stone footnotes',\n",
       "        'alexey fyodorovitch karamazov was the third son of fyodor pavlovitch karamazov a land owner well known in our district in his own day and still remembered among us owing to his gloomy and tragic death which happened thirteen years ago and which i shall describe in its proper place for the present i will only say that this landowner for so we used to call him although he hardly spent a day of his life on his own estate was a strange type yet one pretty frequently to be met with a type abject and vicious and at the same time senseless but he was one of those senseless persons who are very well capable of looking after their worldly affairs and apparently after nothing else fyodor pavlovitch for instance began with next to nothing his estate was of the smallest he ran to dine at other men s tables and fastened on them as a toady yet at his death it appeared that he had a hundred thousand roubles in hard cash at the same time he was all his life one of the most senseless fantastical fellows in the whole district i repeat it was not stupidity the majority of these fantastical fellows are shrewd and intelligent enough but just senselessness and a peculiar national form of it',\n",
       "        'he was married twice and had three sons the eldest dmitri by his first wife and two ivan and alexey by his second fyodor pavlovitch s first wife adelai da ivanovna belonged to a fairly rich and distinguished noble family also landowners in our district the miu sovs how it came to pass that an heiress who was also a beauty and moreover one of those vigorous intelligent girls so common in this generation but sometimes also to be found in the last could have married such a worthless puny weakling as we all called him i won t attempt to explain i knew a young lady of the last romantic generation who after some years of an enigmatic passion for a gentleman whom she might quite easily have married at any moment invented insuperable obstacles to their union and ended by throwing herself one stormy night into a rather deep and rapid river from a high bank almost a precipice and so perished entirely to satisfy her own caprice and to be like shakespeare s ophelia indeed if this precipice a chosen and favorite spot of hers had been less picturesque if there had been a prosaic flat bank in its place most likely the suicide would never have taken place this is a fact and probably there have been not a few similar instances in the last two or three generations adelai da ivanovna miu sov s action was similarly no doubt an echo of other people s ideas and was due to the irritation caused by lack of mental freedom she wanted perhaps to show her feminine independence to override class distinctions and the despotism of her family and a pliable imagination persuaded her we must suppose for a brief moment that fyodor pavlovitch in spite of his parasitic position was one of the bold and ironical spirits of that progressive epoch though he was in fact an ill natured buffoon and nothing more what gave the marriage piquancy was that it was preceded by an elopement and this greatly captivated adelai da ivanovna s fancy fyodor pavlovitch s position at the time made him specially eager for any such enterprise for he was passionately anxious to make a career in one way or another to attach himself to a good family and obtain a dowry was an alluring prospect as for mutual love it did not exist apparently either in the bride or in him in spite of adelai da ivanovna s beauty this was perhaps a unique case of the kind in the life of fyodor pavlovitch who was always of a voluptuous temper and ready to run after any petticoat on the slightest encouragement she seems to have been the only woman who made no particular appeal to his senses',\n",
       "        'immediately after the elopement adelai da ivanovna discerned in a flash that she had no feeling for her husband but contempt the marriage accordingly showed itself in its true colors with extraordinary rapidity although the family accepted the event pretty quickly and apportioned the runaway bride her dowry the husband and wife began to lead a most disorderly life and there were everlasting scenes between them it was said that the young wife showed incomparably more generosity and dignity than fyodor pavlovitch who as is now known got hold of all her money up to twenty five thousand roubles as soon as she received it so that those thousands were lost to her for ever the little village and the rather fine town house which formed part of her dowry he did his utmost for a long time to transfer to his name by means of some deed of conveyance he would probably have succeeded merely from her moral fatigue and desire to get rid of him and from the contempt and loathing he aroused by his persistent and shameless importunity but fortunately adelai da ivanovna s family intervened and circumvented his greediness it is known for a fact that frequent fights took place between the husband and wife but rumor had it that fyodor pavlovitch did not beat his wife but was beaten by her for she was a hot tempered bold dark browed impatient woman possessed of remarkable physical strength finally she left the house and ran away from fyodor pavlovitch with a destitute divinity student leaving mitya a child of three years old in her husband s hands immediately fyodor pavlovitch introduced a regular harem into the house and abandoned himself to orgies of drunkenness in the intervals he used to drive all over the province complaining tearfully to each and all of adelai da ivanovna s having left him going into details too disgraceful for a husband to mention in regard to his own married life what seemed to gratify him and flatter his self love most was to play the ridiculous part of the injured husband and to parade his woes with embellishments',\n",
       "        'one would think that you d got a promotion fyodor pavlovitch you seem so pleased in spite of your sorrow scoffers said to him many even added that he was glad of a new comic part in which to play the buffoon and that it was simply to make it funnier that he pretended to be unaware of his ludicrous position but who knows it may have been simplicity at last he succeeded in getting on the track of his runaway wife the poor woman turned out to be in petersburg where she had gone with her divinity student and where she had thrown herself into a life of complete emancipation fyodor pavlovitch at once began bustling about making preparations to go to petersburg with what object he could not himself have said he would perhaps have really gone but having determined to do so he felt at once entitled to fortify himself for the journey by another bout of reckless drinking and just at that time his wife s family received the news of her death in petersburg she had died quite suddenly in a garret according to one story of typhus or as another version had it of starvation fyodor pavlovitch was drunk when he heard of his wife s death and the story is that he ran out into the street and began shouting with joy raising his hands to heaven lord now lettest thou thy servant depart in peace but others say he wept without restraint like a little child so much so that people were sorry for him in spite of the repulsion he inspired it is quite possible that both versions were true that he rejoiced at his release and at the same time wept for her who released him as a general rule people even the wicked are much more nai ve and simple hearted than we suppose and we ourselves are too',\n",
       "        'you can easily imagine what a father such a man could be and how he would bring up his children his behavior as a father was exactly what might be expected he completely abandoned the child of his marriage with adelai da ivanovna not from malice nor because of his matrimonial grievances but simply because he forgot him while he was wearying every one with his tears and complaints and turning his house into a sink of debauchery a faithful servant of the family grigory took the three year old mitya into his care if he hadn t looked after him there would have been no one even to change the baby s little shirt',\n",
       "        'it happened moreover that the child s relations on his mother s side forgot him too at first his grandfather was no longer living his widow mitya s grandmother had moved to moscow and was seriously ill while his daughters were married so that mitya remained for almost a whole year in old grigory s charge and lived with him in the servant s cottage but if his father had remembered him he could not indeed have been altogether unaware of his existence he would have sent him back to the cottage as the child would only have been in the way of his debaucheries but a cousin of mitya s mother pyotr alexandrovitch miu sov happened to return from paris he lived for many years afterwards abroad but was at that time quite a young man and distinguished among the miu sovs as a man of enlightened ideas and of european culture who had been in the capitals and abroad towards the end of his life he became a liberal of the type common in the forties and fifties in the course of his career he had come into contact with many of the most liberal men of his epoch both in russia and abroad he had known proudhon and bakunin personally and in his declining years was very fond of describing the three days of the paris revolution of february hinting that he himself had almost taken part in the fighting on the barricades this was one of the most grateful recollections of his youth he had an independent property of about a thousand souls to reckon in the old style his splendid estate lay on the outskirts of our little town and bordered on the lands of our famous monastery with which pyotr alexandrovitch began an endless lawsuit almost as soon as he came into the estate concerning the rights of fishing in the river or wood cutting in the forest i don t know exactly which he regarded it as his duty as a citizen and a man of culture to open an attack upon the clericals hearing all about adelai da ivanovna whom he of course remembered and in whom he had at one time been interested and learning of the existence of mitya he intervened in spite of all his youthful indignation and contempt for fyodor pavlovitch he made the latter s acquaintance for the first time and told him directly that he wished to undertake the child s education he used long afterwards to tell as a characteristic touch that when he began to speak of mitya fyodor pavlovitch looked for some time as though he did not understand what child he was talking about and even as though he was surprised to hear that he had a little son in the house the story may have been exaggerated yet it must have been something like the truth',\n",
       "        'fyodor pavlovitch was all his life fond of acting of suddenly playing an unexpected part sometimes without any motive for doing so and even to his own direct disadvantage as for instance in the present case this habit however is characteristic of a very great number of people some of them very clever ones not like fyodor pavlovitch pyotr alexandrovitch carried the business through vigorously and was appointed with fyodor pavlovitch joint guardian of the child who had a small property a house and land left him by his mother mitya did in fact pass into this cousin s keeping but as the latter had no family of his own and after securing the revenues of his estates was in haste to return at once to paris he left the boy in charge of one of his cousins a lady living in moscow it came to pass that settling permanently in paris he too forgot the child especially when the revolution of february broke out making an impression on his mind that he remembered all the rest of his life the moscow lady died and mitya passed into the care of one of her married daughters i believe he changed his home a fourth time later on i won t enlarge upon that now as i shall have much to tell later of fyodor pavlovitch s firstborn and must confine myself now to the most essential facts about him without which i could not begin my story',\n",
       "        'in the first place this mitya or rather dmitri fyodorovitch was the only one of fyodor pavlovitch s three sons who grew up in the belief that he had property and that he would be independent on coming of age he spent an irregular boyhood and youth he did not finish his studies at the gymnasium he got into a military school then went to the caucasus was promoted fought a duel and was degraded to the ranks earned promotion again led a wild life and spent a good deal of money he did not begin to receive any income from fyodor pavlovitch until he came of age and until then got into debt he saw and knew his father fyodor pavlovitch for the first time on coming of age when he visited our neighborhood on purpose to settle with him about his property he seems not to have liked his father he did not stay long with him and made haste to get away having only succeeded in obtaining a sum of money and entering into an agreement for future payments from the estate of the revenues and value of which he was unable a fact worthy of note upon this occasion to get a statement from his father fyodor pavlovitch remarked for the first time then this too should be noted that mitya had a vague and exaggerated idea of his property fyodor pavlovitch was very well satisfied with this as it fell in with his own designs he gathered only that the young man was frivolous unruly of violent passions impatient and dissipated and that if he could only obtain ready money he would be satisfied although only of course for a short time so fyodor pavlovitch began to take advantage of this fact sending him from time to time small doles installments in the end when four years later mitya losing patience came a second time to our little town to settle up once for all with his father it turned out to his amazement that he had nothing that it was difficult to get an account even that he had received the whole value of his property in sums of money from fyodor pavlovitch and was perhaps even in debt to him that by various agreements into which he had of his own desire entered at various previous dates he had no right to expect anything more and so on and so on the young man was overwhelmed suspected deceit and cheating and was almost beside himself and indeed this circumstance led to the catastrophe the account of which forms the subject of my first introductory story or rather the external side of it but before i pass to that story i must say a little of fyodor pavlovitch s other two sons and of their origin'],\n",
       "       dtype='<U14176'), array([0., 0., 0., 0., 0., 0., 0., 0., 0., 0.]))"
      ]
     },
     "execution_count": 5,
     "metadata": {
      "tags": []
     },
     "output_type": "execute_result"
    }
   ],
   "source": [
    "data = np.hstack((f_data, d_data))\n",
    "data = np.hstack((data, a_data))\n",
    "\n",
    "n = f_data.shape[0] + d_data.shape[0] + a_data.shape[0]\n",
    "assert data.shape[0] == n\n",
    "\n",
    "labels = np.hstack((f_labels, d_labels))\n",
    "labels = np.hstack((labels, a_labels))\n",
    "\n",
    "assert labels.shape[0] == n\n",
    "data[0:10], labels[0:10]"
   ]
  },
  {
   "cell_type": "code",
   "execution_count": null,
   "metadata": {
    "colab": {
     "base_uri": "https://localhost:8080/"
    },
    "id": "ehDSGzojw_p7",
    "outputId": "0e33c46a-e21b-47dd-8b2e-aa7a6204cf73"
   },
   "outputs": [
    {
     "data": {
      "text/plain": [
       "(14068, 3)"
      ]
     },
     "execution_count": 6,
     "metadata": {
      "tags": []
     },
     "output_type": "execute_result"
    }
   ],
   "source": [
    "from keras.utils import to_categorical\n",
    "\n",
    "labels = to_categorical(labels)\n",
    "\n",
    "assert labels.shape[0] == n\n",
    "labels.shape"
   ]
  },
  {
   "cell_type": "code",
   "execution_count": null,
   "metadata": {
    "id": "xaKekjHplYgw"
   },
   "outputs": [],
   "source": [
    "n_train = int(data.shape[0] * .8)\n",
    "n_val = int(data.shape[0] * .2)\n",
    "\n",
    "indices = np.random.permutation(range(data.shape[0]))\n",
    "train_indices = indices[:n_train-n_val]\n",
    "val_indices = indices[n_train-n_val:n_train]\n",
    "test_indices = indices[n_train:]\n",
    "\n",
    "X_train, y_train = data[train_indices], labels[train_indices]\n",
    "X_val, y_val = data[val_indices], labels[val_indices]\n",
    "X_test, y_test = data[test_indices], labels[test_indices]\n",
    "\n",
    "assert X_train.shape[0] + X_val.shape[0] + X_test.shape[0] == n\n",
    "assert y_train.shape[0] + y_val.shape[0] + y_test.shape[0] == n"
   ]
  },
  {
   "cell_type": "code",
   "execution_count": null,
   "metadata": {
    "colab": {
     "base_uri": "https://localhost:8080/"
    },
    "id": "gZls58QkMHq9",
    "outputId": "5fcab5d0-27a2-4d27-fe01-60f22a81ee71"
   },
   "outputs": [
    {
     "data": {
      "text/plain": [
       "2681"
      ]
     },
     "execution_count": 8,
     "metadata": {
      "tags": []
     },
     "output_type": "execute_result"
    }
   ],
   "source": [
    "max_seq_length = max(len(line.split()) for line in data)\n",
    "max_seq_length"
   ]
  },
  {
   "cell_type": "code",
   "execution_count": null,
   "metadata": {
    "id": "DPL-yoZnMkr2"
   },
   "outputs": [],
   "source": [
    "from keras.preprocessing.text import Tokenizer\n",
    "from keras.preprocessing.sequence import pad_sequences\n",
    "\n",
    "tokenizer = Tokenizer()\n",
    "tokenizer.fit_on_texts(X_train)\n",
    "seqs = tokenizer.texts_to_sequences(X_train)\n",
    "X_train_pad = pad_sequences(seqs, maxlen=max_seq_length, padding='post')"
   ]
  },
  {
   "cell_type": "code",
   "execution_count": null,
   "metadata": {
    "colab": {
     "base_uri": "https://localhost:8080/"
    },
    "id": "vEaX3lqdb0NT",
    "outputId": "0a0de639-907f-433c-c16a-79f83ed3fcf9"
   },
   "outputs": [
    {
     "data": {
      "text/plain": [
       "((8441, 2681), array([[ 481,    6,   83, ...,    0,    0,    0],\n",
       "        [ 580, 1470,   22, ...,    0,    0,    0],\n",
       "        [  48, 2291,   24, ...,    0,    0,    0],\n",
       "        ...,\n",
       "        [  27, 5226,  625, ...,    0,    0,    0],\n",
       "        [  22,   42,    8, ...,    0,    0,    0],\n",
       "        [  27,  139,   52, ...,    0,    0,    0]], dtype=int32))"
      ]
     },
     "execution_count": 10,
     "metadata": {
      "tags": []
     },
     "output_type": "execute_result"
    }
   ],
   "source": [
    "X_train_pad.shape, X_train_pad[0:10]"
   ]
  },
  {
   "cell_type": "code",
   "execution_count": null,
   "metadata": {
    "colab": {
     "base_uri": "https://localhost:8080/"
    },
    "id": "J980IHl_aosP",
    "outputId": "404e0f34-938c-4fb5-c0ae-c18c83d86fe9"
   },
   "outputs": [
    {
     "data": {
      "text/plain": [
       "((2813, 2681), (2813, 2681))"
      ]
     },
     "execution_count": 11,
     "metadata": {
      "tags": []
     },
     "output_type": "execute_result"
    }
   ],
   "source": [
    "seqs = tokenizer.texts_to_sequences(X_val)\n",
    "X_val_pad = pad_sequences(seqs, maxlen=max_seq_length, padding='post')\n",
    "\n",
    "seqs = tokenizer.texts_to_sequences(X_val)\n",
    "X_test_pad = pad_sequences(seqs, maxlen=max_seq_length, padding='post')\n",
    "\n",
    "X_val_pad.shape, X_test_pad.shape"
   ]
  },
  {
   "cell_type": "code",
   "execution_count": null,
   "metadata": {
    "colab": {
     "base_uri": "https://localhost:8080/"
    },
    "id": "2FmLT2TKcBYU",
    "outputId": "2b160fb9-fa54-4e9f-9040-67dbe71c1311"
   },
   "outputs": [
    {
     "name": "stdout",
     "output_type": "stream",
     "text": [
      "--2021-04-23 03:38:11--  http://nlp.stanford.edu/data/glove.6B.zip\n",
      "Resolving nlp.stanford.edu (nlp.stanford.edu)... 171.64.67.140\n",
      "Connecting to nlp.stanford.edu (nlp.stanford.edu)|171.64.67.140|:80... connected.\n",
      "HTTP request sent, awaiting response... 302 Found\n",
      "Location: https://nlp.stanford.edu/data/glove.6B.zip [following]\n",
      "--2021-04-23 03:38:11--  https://nlp.stanford.edu/data/glove.6B.zip\n",
      "Connecting to nlp.stanford.edu (nlp.stanford.edu)|171.64.67.140|:443... connected.\n",
      "HTTP request sent, awaiting response... 301 Moved Permanently\n",
      "Location: http://downloads.cs.stanford.edu/nlp/data/glove.6B.zip [following]\n",
      "--2021-04-23 03:38:11--  http://downloads.cs.stanford.edu/nlp/data/glove.6B.zip\n",
      "Resolving downloads.cs.stanford.edu (downloads.cs.stanford.edu)... 171.64.64.22\n",
      "Connecting to downloads.cs.stanford.edu (downloads.cs.stanford.edu)|171.64.64.22|:80... connected.\n",
      "HTTP request sent, awaiting response... 200 OK\n",
      "Length: 862182613 (822M) [application/zip]\n",
      "Saving to: ‘glove.6B.zip.1’\n",
      "\n",
      "glove.6B.zip.1      100%[===================>] 822.24M  5.06MB/s    in 2m 41s  \n",
      "\n",
      "2021-04-23 03:40:52 (5.11 MB/s) - ‘glove.6B.zip.1’ saved [862182613/862182613]\n",
      "\n",
      "replace glove.6B.50d.txt? [y]es, [n]o, [A]ll, [N]one, [r]ename: n\n",
      "replace glove.6B.100d.txt? [y]es, [n]o, [A]ll, [N]one, [r]ename: N\n"
     ]
    }
   ],
   "source": [
    "# !wget http://nlp.stanford.edu/data/glove.6B.zip\n",
    "# !unzip -q glove.6B.zip\n"
   ]
  },
  {
   "cell_type": "code",
   "execution_count": null,
   "metadata": {
    "colab": {
     "base_uri": "https://localhost:8080/"
    },
    "id": "7fn2tW6vdVDr",
    "outputId": "f7f168d6-1d50-4216-8fec-4c029ad7302c"
   },
   "outputs": [
    {
     "name": "stdout",
     "output_type": "stream",
     "text": [
      "Found 400000 word vectors.\n"
     ]
    }
   ],
   "source": [
    "embeddings_index = {}\n",
    "with open(\"glove.6B.100d.txt\") as f:\n",
    "    for line in f:\n",
    "        word, coefs = line.split(maxsplit=1)\n",
    "        coefs = np.fromstring(coefs, \"f\", sep=\" \")\n",
    "        embeddings_index[word] = coefs\n",
    "\n",
    "print(\"Found %s word vectors.\" % len(embeddings_index))"
   ]
  },
  {
   "cell_type": "code",
   "execution_count": null,
   "metadata": {
    "colab": {
     "base_uri": "https://localhost:8080/"
    },
    "id": "yf4-6G4fgBjq",
    "outputId": "296e71db-9c07-4ee5-c062-9b4d25a9f774"
   },
   "outputs": [
    {
     "name": "stdout",
     "output_type": "stream",
     "text": [
      "Converted 16631 words (1185 misses)\n"
     ]
    }
   ],
   "source": [
    "num_tokens = len(tokenizer.word_index) + 2\n",
    "embedding_dim = 100\n",
    "hits = 0\n",
    "misses = 0\n",
    "\n",
    "# Prepare embedding matrix\n",
    "embedding_matrix = np.zeros((num_tokens, embedding_dim))\n",
    "for word, i in tokenizer.word_index.items():\n",
    "    embedding_vector = embeddings_index.get(word)\n",
    "    if embedding_vector is not None:\n",
    "        # Words not found in embedding index will be all-zeros.\n",
    "        # This includes the representation for \"padding\" and \"OOV\"\n",
    "        embedding_matrix[i] = embedding_vector\n",
    "        hits += 1\n",
    "    else:\n",
    "        misses += 1\n",
    "print(\"Converted %d words (%d misses)\" % (hits, misses))"
   ]
  },
  {
   "cell_type": "code",
   "execution_count": null,
   "metadata": {
    "colab": {
     "base_uri": "https://localhost:8080/"
    },
    "id": "BN93KSCshenS",
    "outputId": "7aed73ae-f9e8-46b3-979a-48acc55b8346"
   },
   "outputs": [
    {
     "name": "stdout",
     "output_type": "stream",
     "text": [
      "Model: \"sequential_1\"\n",
      "_________________________________________________________________\n",
      "Layer (type)                 Output Shape              Param #   \n",
      "=================================================================\n",
      "embedding_1 (Embedding)      (None, 2681, 100)         1781800   \n",
      "_________________________________________________________________\n",
      "zero_padding1d_1 (ZeroPaddin (None, 2687, 100)         0         \n",
      "_________________________________________________________________\n",
      "conv1d_1 (Conv1D)            (None, 2684, 128)         51328     \n",
      "_________________________________________________________________\n",
      "global_max_pooling1d (Global (None, 128)               0         \n",
      "_________________________________________________________________\n",
      "dense (Dense)                (None, 64)                8256      \n",
      "_________________________________________________________________\n",
      "dense_1 (Dense)              (None, 3)                 195       \n",
      "=================================================================\n",
      "Total params: 1,841,579\n",
      "Trainable params: 59,779\n",
      "Non-trainable params: 1,781,800\n",
      "_________________________________________________________________\n"
     ]
    }
   ],
   "source": [
    "from keras.layers import Embedding, Conv1D, ZeroPadding1D, Dense, GlobalMaxPooling1D\n",
    "from keras.models import Sequential\n",
    "from keras.initializers import Constant\n",
    "\n",
    "cnn_model = Sequential()\n",
    "cnn_model.add(\n",
    "    Embedding(\n",
    "        num_tokens,\n",
    "        embedding_dim,\n",
    "        embeddings_initializer=Constant(embedding_matrix),\n",
    "        trainable=False,\n",
    "        input_length=max_seq_length\n",
    "    )\n",
    ")\n",
    "cnn_model.add(ZeroPadding1D(3))\n",
    "cnn_model.add(Conv1D(128, 4, activation='relu'))\n",
    "cnn_model.add(GlobalMaxPooling1D())\n",
    "cnn_model.add(Dense(64, activation='relu'))\n",
    "cnn_model.add(Dense(3, activation='softmax'))\n",
    "cnn_model.summary()\n"
   ]
  },
  {
   "cell_type": "code",
   "execution_count": null,
   "metadata": {
    "colab": {
     "base_uri": "https://localhost:8080/"
    },
    "id": "T44lWP4jwlTb",
    "outputId": "650702af-fd70-47f6-c89b-5fca8b205534"
   },
   "outputs": [
    {
     "name": "stdout",
     "output_type": "stream",
     "text": [
      "Epoch 1/10\n",
      "264/264 [==============================] - 8s 26ms/step - loss: 0.0265 - acc: 0.9942 - precision_1: 0.9944 - recall_1: 0.9941 - val_loss: 0.4345 - val_acc: 0.9033 - val_precision_1: 0.9042 - val_recall_1: 0.9030\n",
      "Epoch 2/10\n",
      "264/264 [==============================] - 6s 24ms/step - loss: 0.0284 - acc: 0.9902 - precision_1: 0.9913 - recall_1: 0.9901 - val_loss: 0.2721 - val_acc: 0.9307 - val_precision_1: 0.9332 - val_recall_1: 0.9293\n",
      "Epoch 3/10\n",
      "264/264 [==============================] - 6s 24ms/step - loss: 0.0143 - acc: 0.9974 - precision_1: 0.9978 - recall_1: 0.9974 - val_loss: 0.2539 - val_acc: 0.9253 - val_precision_1: 0.9285 - val_recall_1: 0.9232\n",
      "Epoch 4/10\n",
      "264/264 [==============================] - 6s 24ms/step - loss: 0.0100 - acc: 0.9974 - precision_1: 0.9975 - recall_1: 0.9974 - val_loss: 0.2871 - val_acc: 0.9200 - val_precision_1: 0.9221 - val_recall_1: 0.9179\n",
      "Epoch 5/10\n",
      "264/264 [==============================] - 6s 24ms/step - loss: 0.0066 - acc: 0.9981 - precision_1: 0.9981 - recall_1: 0.9981 - val_loss: 0.2689 - val_acc: 0.9293 - val_precision_1: 0.9322 - val_recall_1: 0.9289\n",
      "Epoch 6/10\n",
      "264/264 [==============================] - 6s 24ms/step - loss: 0.0085 - acc: 0.9971 - precision_1: 0.9971 - recall_1: 0.9971 - val_loss: 0.3653 - val_acc: 0.9026 - val_precision_1: 0.9061 - val_recall_1: 0.8983\n",
      "Epoch 7/10\n",
      "264/264 [==============================] - 6s 24ms/step - loss: 0.0347 - acc: 0.9863 - precision_1: 0.9866 - recall_1: 0.9860 - val_loss: 0.3046 - val_acc: 0.9154 - val_precision_1: 0.9193 - val_recall_1: 0.9150\n",
      "Epoch 8/10\n",
      "264/264 [==============================] - 6s 24ms/step - loss: 0.0198 - acc: 0.9930 - precision_1: 0.9932 - recall_1: 0.9925 - val_loss: 0.3193 - val_acc: 0.9179 - val_precision_1: 0.9197 - val_recall_1: 0.9165\n",
      "Epoch 9/10\n",
      "264/264 [==============================] - 6s 24ms/step - loss: 0.0102 - acc: 0.9961 - precision_1: 0.9961 - recall_1: 0.9961 - val_loss: 0.3587 - val_acc: 0.9179 - val_precision_1: 0.9185 - val_recall_1: 0.9172\n",
      "Epoch 10/10\n",
      "264/264 [==============================] - 6s 24ms/step - loss: 0.0099 - acc: 0.9954 - precision_1: 0.9954 - recall_1: 0.9954 - val_loss: 0.3866 - val_acc: 0.9047 - val_precision_1: 0.9076 - val_recall_1: 0.9047\n"
     ]
    }
   ],
   "source": [
    "from keras.metrics import Precision, Recall\n",
    "from keras.optimizers import Adam\n",
    "cnn_model.compile(optimizer=Adam(lr=1E-3), loss='categorical_crossentropy', \n",
    "                  metrics=['acc', Precision(), Recall()])\n",
    "\n",
    "history = cnn_model.fit(X_train_pad, y_train, validation_data=(X_val_pad, y_val),\n",
    "                        batch_size=32, epochs=10)"
   ]
  },
  {
   "cell_type": "code",
   "execution_count": null,
   "metadata": {
    "colab": {
     "base_uri": "https://localhost:8080/"
    },
    "id": "4_H3mKQDktQG",
    "outputId": "7070d62f-6099-43db-d590-22c1248f925e"
   },
   "outputs": [
    {
     "name": "stdout",
     "output_type": "stream",
     "text": [
      "Model: \"sequential_2\"\n",
      "_________________________________________________________________\n",
      "Layer (type)                 Output Shape              Param #   \n",
      "=================================================================\n",
      "embedding_2 (Embedding)      (None, 2681, 100)         1781800   \n",
      "_________________________________________________________________\n",
      "lstm (LSTM)                  (None, 2681, 256)         365568    \n",
      "_________________________________________________________________\n",
      "global_max_pooling1d_1 (Glob (None, 256)               0         \n",
      "_________________________________________________________________\n",
      "dense_2 (Dense)              (None, 128)               32896     \n",
      "_________________________________________________________________\n",
      "dense_3 (Dense)              (None, 3)                 387       \n",
      "=================================================================\n",
      "Total params: 2,180,651\n",
      "Trainable params: 398,851\n",
      "Non-trainable params: 1,781,800\n",
      "_________________________________________________________________\n"
     ]
    }
   ],
   "source": [
    "from keras.layers import LSTM\n",
    "\n",
    "lstm_model = Sequential()\n",
    "lstm_model.add(Embedding(\n",
    "        num_tokens,\n",
    "        embedding_dim,\n",
    "        embeddings_initializer=Constant(embedding_matrix),\n",
    "        trainable=False,\n",
    "        input_length=max_seq_length\n",
    "))\n",
    "lstm_model.add(LSTM(256, return_sequences=True))\n",
    "lstm_model.add(GlobalMaxPooling1D())\n",
    "lstm_model.add(Dense(128, activation='relu'))\n",
    "lstm_model.add(Dense(3, activation='softmax'))\n",
    "lstm_model.summary()"
   ]
  },
  {
   "cell_type": "code",
   "execution_count": null,
   "metadata": {
    "colab": {
     "base_uri": "https://localhost:8080/"
    },
    "id": "xD0ruqcM1nh3",
    "outputId": "1bb25fa2-5ec6-448c-bf27-e65d3465189c"
   },
   "outputs": [
    {
     "name": "stdout",
     "output_type": "stream",
     "text": [
      "Epoch 1/10\n",
      "264/264 [==============================] - 46s 165ms/step - loss: 0.5868 - acc: 0.7620 - precision_2: 0.7940 - recall_2: 0.7112 - val_loss: 0.2354 - val_acc: 0.9062 - val_precision_2: 0.9284 - val_recall_2: 0.8891\n",
      "Epoch 2/10\n",
      "264/264 [==============================] - 42s 161ms/step - loss: 0.2025 - acc: 0.9233 - precision_2: 0.9395 - recall_2: 0.9098 - val_loss: 0.1883 - val_acc: 0.9239 - val_precision_2: 0.9366 - val_recall_2: 0.9133\n",
      "Epoch 3/10\n",
      "264/264 [==============================] - 43s 161ms/step - loss: 0.1400 - acc: 0.9474 - precision_2: 0.9570 - recall_2: 0.9397 - val_loss: 0.1719 - val_acc: 0.9328 - val_precision_2: 0.9403 - val_recall_2: 0.9243\n",
      "Epoch 4/10\n",
      "264/264 [==============================] - 42s 160ms/step - loss: 0.0902 - acc: 0.9675 - precision_2: 0.9728 - recall_2: 0.9627 - val_loss: 0.1890 - val_acc: 0.9307 - val_precision_2: 0.9346 - val_recall_2: 0.9250\n",
      "Epoch 5/10\n",
      "264/264 [==============================] - 42s 161ms/step - loss: 0.0570 - acc: 0.9814 - precision_2: 0.9836 - recall_2: 0.9798 - val_loss: 0.1826 - val_acc: 0.9339 - val_precision_2: 0.9384 - val_recall_2: 0.9307\n",
      "Epoch 6/10\n",
      "264/264 [==============================] - 42s 160ms/step - loss: 0.0296 - acc: 0.9925 - precision_2: 0.9929 - recall_2: 0.9916 - val_loss: 0.1720 - val_acc: 0.9325 - val_precision_2: 0.9365 - val_recall_2: 0.9285\n",
      "Epoch 7/10\n",
      "264/264 [==============================] - 42s 160ms/step - loss: 0.0198 - acc: 0.9961 - precision_2: 0.9961 - recall_2: 0.9957 - val_loss: 0.1898 - val_acc: 0.9385 - val_precision_2: 0.9400 - val_recall_2: 0.9360\n",
      "Epoch 8/10\n",
      "264/264 [==============================] - 42s 161ms/step - loss: 0.0185 - acc: 0.9960 - precision_2: 0.9965 - recall_2: 0.9953 - val_loss: 0.2089 - val_acc: 0.9371 - val_precision_2: 0.9398 - val_recall_2: 0.9328\n",
      "Epoch 9/10\n",
      "264/264 [==============================] - 42s 160ms/step - loss: 0.0161 - acc: 0.9967 - precision_2: 0.9967 - recall_2: 0.9967 - val_loss: 0.2131 - val_acc: 0.9399 - val_precision_2: 0.9411 - val_recall_2: 0.9378\n",
      "Epoch 10/10\n",
      "264/264 [==============================] - 42s 160ms/step - loss: 0.0127 - acc: 0.9968 - precision_2: 0.9968 - recall_2: 0.9968 - val_loss: 0.2009 - val_acc: 0.9396 - val_precision_2: 0.9425 - val_recall_2: 0.9381\n"
     ]
    }
   ],
   "source": [
    "lstm_model.compile(optimizer=Adam(lr=1E-3), loss='categorical_crossentropy', \n",
    "                  metrics=['acc', Precision(), Recall()])\n",
    "\n",
    "history = lstm_model.fit(X_train_pad, y_train, validation_data=(X_val_pad, y_val),\n",
    "                         batch_size=32, epochs=10)"
   ]
  },
  {
   "cell_type": "code",
   "execution_count": null,
   "metadata": {
    "id": "mbk74vnVldsV"
   },
   "outputs": [],
   "source": [
    "lstm_model = Sequential()\n",
    "lstm_model.add(Embedding(\n",
    "        num_tokens,\n",
    "        embedding_dim,\n",
    "        embeddings_initializer=Constant(embedding_matrix),\n",
    "        trainable=False,\n",
    "        input_length=max_seq_length\n",
    "))\n",
    "lstm_model.add(LSTM(256, return_sequences=False))\n",
    "lstm_model.add(Dense(128, activation='relu'))\n",
    "lstm_model.add(Dense(3, activation='softmax'))\n",
    "lstm_model.summary()"
   ]
  },
  {
   "cell_type": "code",
   "execution_count": null,
   "metadata": {
    "id": "fGSCpov6sKBo"
   },
   "outputs": [],
   "source": []
  }
 ],
 "metadata": {
  "accelerator": "GPU",
  "colab": {
   "collapsed_sections": [],
   "name": "HW4.ipynb",
   "provenance": []
  },
  "kernelspec": {
   "display_name": "Python 3",
   "language": "python",
   "name": "python3"
  },
  "language_info": {
   "codemirror_mode": {
    "name": "ipython",
    "version": 3
   },
   "file_extension": ".py",
   "mimetype": "text/x-python",
   "name": "python",
   "nbconvert_exporter": "python",
   "pygments_lexer": "ipython3",
   "version": "3.8.5"
  }
 },
 "nbformat": 4,
 "nbformat_minor": 1
}
