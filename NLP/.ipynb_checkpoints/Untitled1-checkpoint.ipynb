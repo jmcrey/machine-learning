{
 "cells": [
  {
   "cell_type": "markdown",
   "metadata": {},
   "source": [
    "\n",
    "Objective Function: $J (w; X, y) = -\\frac{1}{N} \\sum_{i=1}^n \\sum_{k=1}^k y_{ik} \\log \\Big( \\frac{\\exp(f_k)}{\\sum_c \\exp( f_c)} \\Big) + \\lambda \\| w \\|_2^2 $.\n",
    "\n",
    "Gradient: $\\frac{\\delta J}{\\delta w_k} = \\frac{1}{N} \\sum_{i=1}^n x_i \\Big(\\frac{\\exp(f_k)}{\\sum_c \\exp( f_c)} - y_i \\Big) + 2 \\lambda w_k $"
   ]
  },
  {
   "cell_type": "markdown",
   "metadata": {},
   "source": [
    "# Softmax Derivative\n"
   ]
  },
  {
   "cell_type": "markdown",
   "metadata": {},
   "source": [
    "$\\sigma_k = \\frac{\\exp(f_k)}{\\sum_c \\exp( f_c)}, f_k = w_k^Tx_i$\n",
    "\n",
    "$\\frac{\\delta \\sigma_k}{\\delta w_k}, i == k$\n",
    "\n",
    "$\\frac{\\delta \\sigma_k}{\\delta w_k} =  \\frac{\\exp(f_k) \\sum_c \\exp(f_c) - \\exp(f_k) \\exp(f_k) }{[\\sum_c \\exp(f_c)]^2}$\n",
    "\n",
    "$= \\frac{\\exp(f_k) (\\sum_c \\exp(f_c) - \\exp(f_k))}{[\\sum_c \\exp(f_c)]^2}$\n",
    "\n",
    "$= \\frac{\\exp(f_k)}{\\sum_c \\exp(f_c)} \\frac{\\sum_c \\exp(f_c) - \\exp(f_k)}{\\sum_c \\exp(f_c)}$\n",
    "\n",
    "$= \\sigma_k (\\frac{\\sum_c \\exp(f_c)}{\\sum_c \\exp(f_c)} - \\frac{\\exp(f_k)}{\\sum_c \\exp(f_c)})$\n",
    "\n",
    "$= \\sigma_k (1 - \\sigma_k)$\n"
   ]
  },
  {
   "cell_type": "markdown",
   "metadata": {},
   "source": [
    "\n",
    "$\\frac{\\delta \\sigma_k}{\\delta w_k}$, i != k\n",
    "\n",
    "$\\frac{\\delta \\sigma_k}{\\delta w_k} =  \\frac{0 - \\exp(f_i) \\exp(f_k) }{[\\sum_c \\exp(f_c)]^2}$\n",
    "\n",
    "$= \\frac{- \\exp(f_i) \\exp(f_k)}{[\\sum_c \\exp(f_c)]^2}$\n",
    "\n",
    "$= \\frac{\\exp(f_i)}{\\sum_c \\exp(f_c)} \\frac{\\exp(f_k)}{\\sum_c \\exp(f_c)}$\n",
    "\n",
    "$= -\\sigma_i \\sigma_k$\n"
   ]
  },
  {
   "cell_type": "markdown",
   "metadata": {},
   "source": [
    "Objective Function: $J (w; X, y) = -\\frac{1}{N} \\sum_{i=1}^n \\sum_{k=1}^k y_{ik} \\log \\Big( \\frac{\\exp(f_k)}{\\sum_c \\exp( f_c)} \\Big) + \\lambda \\| w \\|_2^2 $."
   ]
  },
  {
   "cell_type": "markdown",
   "metadata": {},
   "source": [
    "$L(w; X, y) = - \\sum^k_{k=1} y_{ik} log(\\sigma_k) + \\lambda ||w||^2_2$"
   ]
  },
  {
   "cell_type": "code",
   "execution_count": null,
   "metadata": {},
   "outputs": [],
   "source": []
  }
 ],
 "metadata": {
  "kernelspec": {
   "display_name": "Python 3",
   "language": "python",
   "name": "python3"
  },
  "language_info": {
   "codemirror_mode": {
    "name": "ipython",
    "version": 3
   },
   "file_extension": ".py",
   "mimetype": "text/x-python",
   "name": "python",
   "nbconvert_exporter": "python",
   "pygments_lexer": "ipython3",
   "version": "3.8.5"
  }
 },
 "nbformat": 4,
 "nbformat_minor": 4
}
