{
 "cells": [
  {
   "cell_type": "markdown",
   "metadata": {},
   "source": [
    "# Loading the Data"
   ]
  },
  {
   "cell_type": "code",
   "execution_count": 63,
   "metadata": {},
   "outputs": [],
   "source": [
    "import matplotlib.pyplot as plt\n",
    "import scipy.sparse\n",
    "import pandas as pd\n",
    "import numpy as np\n",
    "import string\n",
    "import re\n",
    "\n",
    "from typing import Tuple\n",
    "from collections import Counter\n",
    "from nltk.corpus import stopwords\n",
    "from nltk.tokenize import word_tokenize\n",
    "from nltk.probability import FreqDist\n",
    "from scipy.sparse import csr_matrix\n",
    "from sklearn.metrics import precision_score, recall_score\n",
    "from sklearn.feature_extraction.text import TfidfVectorizer"
   ]
  },
  {
   "cell_type": "code",
   "execution_count": 2,
   "metadata": {},
   "outputs": [],
   "source": [
    "# You may have to do this to get this project to run\n",
    "# import nltk\n",
    "# nltk.download()"
   ]
  },
  {
   "cell_type": "code",
   "execution_count": 3,
   "metadata": {},
   "outputs": [
    {
     "data": {
      "text/html": [
       "<div>\n",
       "<style scoped>\n",
       "    .dataframe tbody tr th:only-of-type {\n",
       "        vertical-align: middle;\n",
       "    }\n",
       "\n",
       "    .dataframe tbody tr th {\n",
       "        vertical-align: top;\n",
       "    }\n",
       "\n",
       "    .dataframe thead th {\n",
       "        text-align: right;\n",
       "    }\n",
       "</style>\n",
       "<table border=\"1\" class=\"dataframe\">\n",
       "  <thead>\n",
       "    <tr style=\"text-align: right;\">\n",
       "      <th></th>\n",
       "      <th>target</th>\n",
       "      <th>text</th>\n",
       "      <th>description</th>\n",
       "    </tr>\n",
       "  </thead>\n",
       "  <tbody>\n",
       "    <tr>\n",
       "      <th>0</th>\n",
       "      <td>3</td>\n",
       "      <td>Wall St. Bears Claw Back Into the Black (Reuters)</td>\n",
       "      <td>Reuters - Short-sellers, Wall Street's dwindli...</td>\n",
       "    </tr>\n",
       "    <tr>\n",
       "      <th>1</th>\n",
       "      <td>3</td>\n",
       "      <td>Carlyle Looks Toward Commercial Aerospace (Reu...</td>\n",
       "      <td>Reuters - Private investment firm Carlyle Grou...</td>\n",
       "    </tr>\n",
       "    <tr>\n",
       "      <th>2</th>\n",
       "      <td>3</td>\n",
       "      <td>Oil and Economy Cloud Stocks' Outlook (Reuters)</td>\n",
       "      <td>Reuters - Soaring crude prices plus worries\\ab...</td>\n",
       "    </tr>\n",
       "    <tr>\n",
       "      <th>3</th>\n",
       "      <td>3</td>\n",
       "      <td>Iraq Halts Oil Exports from Main Southern Pipe...</td>\n",
       "      <td>Reuters - Authorities have halted oil export\\f...</td>\n",
       "    </tr>\n",
       "    <tr>\n",
       "      <th>4</th>\n",
       "      <td>3</td>\n",
       "      <td>Oil prices soar to all-time record, posing new...</td>\n",
       "      <td>AFP - Tearaway world oil prices, toppling reco...</td>\n",
       "    </tr>\n",
       "  </tbody>\n",
       "</table>\n",
       "</div>"
      ],
      "text/plain": [
       "   target                                               text  \\\n",
       "0       3  Wall St. Bears Claw Back Into the Black (Reuters)   \n",
       "1       3  Carlyle Looks Toward Commercial Aerospace (Reu...   \n",
       "2       3    Oil and Economy Cloud Stocks' Outlook (Reuters)   \n",
       "3       3  Iraq Halts Oil Exports from Main Southern Pipe...   \n",
       "4       3  Oil prices soar to all-time record, posing new...   \n",
       "\n",
       "                                         description  \n",
       "0  Reuters - Short-sellers, Wall Street's dwindli...  \n",
       "1  Reuters - Private investment firm Carlyle Grou...  \n",
       "2  Reuters - Soaring crude prices plus worries\\ab...  \n",
       "3  Reuters - Authorities have halted oil export\\f...  \n",
       "4  AFP - Tearaway world oil prices, toppling reco...  "
      ]
     },
     "execution_count": 3,
     "metadata": {},
     "output_type": "execute_result"
    }
   ],
   "source": [
    "train = pd.read_csv('train.csv', names=['target', 'text', 'description'])\n",
    "test = pd.read_csv('test.csv', names=['target', 'text', 'description'])\n",
    "\n",
    "train.head()"
   ]
  },
  {
   "cell_type": "code",
   "execution_count": 4,
   "metadata": {},
   "outputs": [],
   "source": [
    "def preprocess(data: pd.Series) -> pd.Series:\n",
    "    \"\"\" Performs the following actions:\n",
    "            1. Removes all punctionation\n",
    "            2. Removes stop words and common words\n",
    "            3. Removes symbols\n",
    "            4. Removes URLs\n",
    "            5. Remove numbers\n",
    "    \"\"\"\n",
    "    text = data\n",
    "    text = _remove_url(text)\n",
    "    text = _remove_non_chars(text)\n",
    "    text = _remove_stopwords(text)\n",
    "    return text\n",
    "    \n",
    "def _remove_url(column: pd.Series) -> pd.Series:\n",
    "    \"\"\" Removes all URLs from the data \"\"\"\n",
    "    url_match = re.compile(\"https?:\\/\\/\\S+\")\n",
    "    return column.apply(lambda x: re.sub(url_match, \" \", x))\n",
    "    \n",
    "def _remove_non_chars(column: pd.Series) -> pd.Series:\n",
    "    \"\"\" Removes all non-characters from the string, including punctionation and numbers \"\"\"\n",
    "    char_match = re.compile(\"[^a-z\\s\\']+\")\n",
    "    return column.apply(lambda x: re.sub(char_match, \" \", x.lower()).replace(\"'\", \"\"))\n",
    "\n",
    "def _remove_stopwords(column: pd.Series) -> pd.Series:\n",
    "    \"\"\" Removes stopwords \"\"\"\n",
    "    words = set(stopwords.words('english'))    \n",
    "    return column.apply(lambda x: ' '.join([word for word in word_tokenize(x) if word not in words]))"
   ]
  },
  {
   "cell_type": "code",
   "execution_count": 5,
   "metadata": {},
   "outputs": [
    {
     "data": {
      "text/html": [
       "<div>\n",
       "<style scoped>\n",
       "    .dataframe tbody tr th:only-of-type {\n",
       "        vertical-align: middle;\n",
       "    }\n",
       "\n",
       "    .dataframe tbody tr th {\n",
       "        vertical-align: top;\n",
       "    }\n",
       "\n",
       "    .dataframe thead th {\n",
       "        text-align: right;\n",
       "    }\n",
       "</style>\n",
       "<table border=\"1\" class=\"dataframe\">\n",
       "  <thead>\n",
       "    <tr style=\"text-align: right;\">\n",
       "      <th></th>\n",
       "      <th>target</th>\n",
       "      <th>text</th>\n",
       "      <th>description</th>\n",
       "    </tr>\n",
       "  </thead>\n",
       "  <tbody>\n",
       "    <tr>\n",
       "      <th>0</th>\n",
       "      <td>3</td>\n",
       "      <td>wall st bears claw back black reuters</td>\n",
       "      <td>Reuters - Short-sellers, Wall Street's dwindli...</td>\n",
       "    </tr>\n",
       "    <tr>\n",
       "      <th>1</th>\n",
       "      <td>3</td>\n",
       "      <td>carlyle looks toward commercial aerospace reuters</td>\n",
       "      <td>Reuters - Private investment firm Carlyle Grou...</td>\n",
       "    </tr>\n",
       "    <tr>\n",
       "      <th>2</th>\n",
       "      <td>3</td>\n",
       "      <td>oil economy cloud stocks outlook reuters</td>\n",
       "      <td>Reuters - Soaring crude prices plus worries\\ab...</td>\n",
       "    </tr>\n",
       "    <tr>\n",
       "      <th>3</th>\n",
       "      <td>3</td>\n",
       "      <td>iraq halts oil exports main southern pipeline ...</td>\n",
       "      <td>Reuters - Authorities have halted oil export\\f...</td>\n",
       "    </tr>\n",
       "    <tr>\n",
       "      <th>4</th>\n",
       "      <td>3</td>\n",
       "      <td>oil prices soar time record posing new menace ...</td>\n",
       "      <td>AFP - Tearaway world oil prices, toppling reco...</td>\n",
       "    </tr>\n",
       "  </tbody>\n",
       "</table>\n",
       "</div>"
      ],
      "text/plain": [
       "   target                                               text  \\\n",
       "0       3              wall st bears claw back black reuters   \n",
       "1       3  carlyle looks toward commercial aerospace reuters   \n",
       "2       3           oil economy cloud stocks outlook reuters   \n",
       "3       3  iraq halts oil exports main southern pipeline ...   \n",
       "4       3  oil prices soar time record posing new menace ...   \n",
       "\n",
       "                                         description  \n",
       "0  Reuters - Short-sellers, Wall Street's dwindli...  \n",
       "1  Reuters - Private investment firm Carlyle Grou...  \n",
       "2  Reuters - Soaring crude prices plus worries\\ab...  \n",
       "3  Reuters - Authorities have halted oil export\\f...  \n",
       "4  AFP - Tearaway world oil prices, toppling reco...  "
      ]
     },
     "execution_count": 5,
     "metadata": {},
     "output_type": "execute_result"
    }
   ],
   "source": [
    "train['text'] = preprocess(train['text'])\n",
    "train.head()"
   ]
  },
  {
   "cell_type": "code",
   "execution_count": 6,
   "metadata": {},
   "outputs": [
    {
     "data": {
      "text/html": [
       "<div>\n",
       "<style scoped>\n",
       "    .dataframe tbody tr th:only-of-type {\n",
       "        vertical-align: middle;\n",
       "    }\n",
       "\n",
       "    .dataframe tbody tr th {\n",
       "        vertical-align: top;\n",
       "    }\n",
       "\n",
       "    .dataframe thead th {\n",
       "        text-align: right;\n",
       "    }\n",
       "</style>\n",
       "<table border=\"1\" class=\"dataframe\">\n",
       "  <thead>\n",
       "    <tr style=\"text-align: right;\">\n",
       "      <th></th>\n",
       "      <th>target</th>\n",
       "      <th>text</th>\n",
       "      <th>description</th>\n",
       "    </tr>\n",
       "  </thead>\n",
       "  <tbody>\n",
       "    <tr>\n",
       "      <th>0</th>\n",
       "      <td>3</td>\n",
       "      <td>fears n pension talks</td>\n",
       "      <td>Unions representing workers at Turner   Newall...</td>\n",
       "    </tr>\n",
       "    <tr>\n",
       "      <th>1</th>\n",
       "      <td>4</td>\n",
       "      <td>race second private team sets launch date huma...</td>\n",
       "      <td>SPACE.com - TORONTO, Canada -- A second\\team o...</td>\n",
       "    </tr>\n",
       "    <tr>\n",
       "      <th>2</th>\n",
       "      <td>4</td>\n",
       "      <td>ky company wins grant study peptides ap</td>\n",
       "      <td>AP - A company founded by a chemistry research...</td>\n",
       "    </tr>\n",
       "    <tr>\n",
       "      <th>3</th>\n",
       "      <td>4</td>\n",
       "      <td>prediction unit helps forecast wildfires ap</td>\n",
       "      <td>AP - It's barely dawn when Mike Fitzpatrick st...</td>\n",
       "    </tr>\n",
       "    <tr>\n",
       "      <th>4</th>\n",
       "      <td>4</td>\n",
       "      <td>calif aims limit farm related smog ap</td>\n",
       "      <td>AP - Southern California's smog-fighting agenc...</td>\n",
       "    </tr>\n",
       "  </tbody>\n",
       "</table>\n",
       "</div>"
      ],
      "text/plain": [
       "   target                                               text  \\\n",
       "0       3                              fears n pension talks   \n",
       "1       4  race second private team sets launch date huma...   \n",
       "2       4            ky company wins grant study peptides ap   \n",
       "3       4        prediction unit helps forecast wildfires ap   \n",
       "4       4              calif aims limit farm related smog ap   \n",
       "\n",
       "                                         description  \n",
       "0  Unions representing workers at Turner   Newall...  \n",
       "1  SPACE.com - TORONTO, Canada -- A second\\team o...  \n",
       "2  AP - A company founded by a chemistry research...  \n",
       "3  AP - It's barely dawn when Mike Fitzpatrick st...  \n",
       "4  AP - Southern California's smog-fighting agenc...  "
      ]
     },
     "execution_count": 6,
     "metadata": {},
     "output_type": "execute_result"
    }
   ],
   "source": [
    "test['text'] = preprocess(test['text'])\n",
    "test.head()"
   ]
  },
  {
   "cell_type": "code",
   "execution_count": 7,
   "metadata": {},
   "outputs": [],
   "source": [
    "def get_top_per_class(data: pd.DataFrame, group: str, col: str, per: int = 2000) -> set:\n",
    "    \"\"\" Gets the top per words from each class and returns the total vocab, in no particular order \"\"\"\n",
    "    vocab = set()\n",
    "    for group, frame in train.groupby(group):\n",
    "        class_vocab = []\n",
    "        [class_vocab.extend(word_tokenize(x)) for x in frame[col]]\n",
    "        freq = FreqDist(class_vocab)\n",
    "        vocab.update(sorted(freq, key=freq.get, reverse=True)[:per])\n",
    "    return vocab"
   ]
  },
  {
   "cell_type": "code",
   "execution_count": 8,
   "metadata": {},
   "outputs": [
    {
     "data": {
      "text/plain": [
       "3676"
      ]
     },
     "execution_count": 8,
     "metadata": {},
     "output_type": "execute_result"
    }
   ],
   "source": [
    "top = get_top_per_class(train, 'target', 'text', per=1500)\n",
    "len(top)"
   ]
  },
  {
   "cell_type": "code",
   "execution_count": 9,
   "metadata": {},
   "outputs": [
    {
     "data": {
      "text/plain": [
       "((120000, 3676), (120000,))"
      ]
     },
     "execution_count": 9,
     "metadata": {},
     "output_type": "execute_result"
    }
   ],
   "source": [
    "vectorizer = TfidfVectorizer(vocabulary=top)\n",
    "x_train = vectorizer.fit_transform(train['text'])\n",
    "y_train = np.array(train['target'])\n",
    "x_train.shape, y_train.shape"
   ]
  },
  {
   "cell_type": "code",
   "execution_count": 10,
   "metadata": {},
   "outputs": [
    {
     "data": {
      "text/plain": [
       "((7600, 3676), (7600,))"
      ]
     },
     "execution_count": 10,
     "metadata": {},
     "output_type": "execute_result"
    }
   ],
   "source": [
    "x_test = vectorizer.transform(test['text'])\n",
    "y_test = np.array(test['target'])\n",
    "x_test.shape, y_test.shape"
   ]
  },
  {
   "cell_type": "code",
   "execution_count": 11,
   "metadata": {},
   "outputs": [],
   "source": [
    "features = set(vectorizer.get_feature_names())\n",
    "assert len(features - top) == 0  # No features outside the vocabulary"
   ]
  },
  {
   "cell_type": "code",
   "execution_count": 12,
   "metadata": {},
   "outputs": [],
   "source": [
    "def bootstrap(X, y) -> None:\n",
    "    \"\"\" Initializes a random weight and bias for the input data \"\"\"\n",
    "    X = _insert_bias(X)  # Inserts the bias\n",
    "    y = _one_hot(y)  # one hot encode the classes\n",
    "    return X, y\n",
    "    \n",
    "def _insert_bias(X):\n",
    "    \"\"\" Inserts the bias \"\"\"\n",
    "    bias = np.ones((X.shape[0], 1))\n",
    "    if isinstance(X, scipy.sparse.csr.csr_matrix):\n",
    "        X = np.concatenate((X.todense(), bias), axis=1)  # Insert bias into the features\n",
    "        X = csr_matrix(X)\n",
    "    else:\n",
    "        X = np.concatenate((X, bias), axis=1)\n",
    "    return X\n",
    "\n",
    "def _one_hot(y: np.ndarray)-> np.ndarray:\n",
    "    \"\"\" One hot encodes the targets \"\"\"\n",
    "    unique = sorted(np.unique(y))\n",
    "    onehot = np.zeros((y.shape[0], len(unique)))\n",
    "    for idx, val in enumerate(y):\n",
    "        cls_idx = unique.index(val)\n",
    "        onehot[idx][cls_idx] = 1\n",
    "    return onehot"
   ]
  },
  {
   "cell_type": "code",
   "execution_count": 13,
   "metadata": {},
   "outputs": [
    {
     "data": {
      "text/plain": [
       "((120000, 3677), (120000, 4), (7600, 3677), (7600, 4))"
      ]
     },
     "execution_count": 13,
     "metadata": {},
     "output_type": "execute_result"
    }
   ],
   "source": [
    "X_train, y_train = bootstrap(x_train, y_train)\n",
    "X_test, y_test = bootstrap(x_test, y_test)\n",
    "X_train.shape, y_train.shape, X_test.shape, y_test.shape"
   ]
  },
  {
   "cell_type": "markdown",
   "metadata": {},
   "source": [
    "## Logistic Regression\n",
    "\n",
    "Objective Function: $J (w; X, y) = -\\frac{1}{N} \\sum_{i=1}^n \\sum_{k=1}^k y_{ik} \\log \\Big( \\frac{\\exp(f_k)}{\\sum_c \\exp( f_c)} \\Big) + \\lambda \\| w \\|_2^2 $.\n",
    "\n",
    "Gradient: $\\frac{\\delta J}{\\delta w_k} = \\frac{1}{N} \\sum_{i=1}^n x_i \\Big(\\frac{\\exp(f_k)}{\\sum_c \\exp( f_c)} - y_i \\Big) + 2 \\lambda w_k $"
   ]
  },
  {
   "cell_type": "code",
   "execution_count": 60,
   "metadata": {},
   "outputs": [],
   "source": [
    "class LogisticRegression:\n",
    "    \n",
    "    def __init__(self, learning_rate: float, max_epochs: int = 1000, precision: float = 1E-6, \n",
    "                 lam: float = 1E-4, optimizer: str = 'sgd', batch_size: int = None):\n",
    "        \"\"\" Initializes the class \"\"\"\n",
    "        self.rate = learning_rate\n",
    "        self.epochs = max_epochs\n",
    "        self.precision = precision\n",
    "        self.lambda_ = lam\n",
    "        self.b_ = batch_size\n",
    "        self.alg_ = self._set_optimizer(optimizer)\n",
    "        self.loss_ = None\n",
    "        self.w_ = None\n",
    "        \n",
    "    def _set_optimizer(self, optimizer: str):\n",
    "        \"\"\" Sets the optimizer \"\"\"\n",
    "        optimizer = optimizer.lower().strip()\n",
    "        if optimizer == 'sgd':\n",
    "            return self._stochastic_descent\n",
    "        elif optimizer == 'mbsgd':\n",
    "            if not self.b_:\n",
    "                raise ValueError(\"You must declare a batch size with 'batch_size' in order to use \" \\\n",
    "                                 \"mini-batch stochastic gradient descent\")\n",
    "            return self._mb_stochastic_descent\n",
    "        else:\n",
    "            raise ValueError(f\"Optimizer must be of value 'sgd' or 'mbsgd'. The value {optimizer} is not valid\")\n",
    "\n",
    "    def predict(self, X: np.ndarray) -> np.ndarray:\n",
    "        \"\"\" Predicts the class of the input array \"\"\"\n",
    "        if len(X.shape) == 1:\n",
    "            X = X.reshape((1, X.shape[0]))\n",
    "        phi = X.dot(self.w_)\n",
    "        return np.argmax(self._softmax_batch(phi), axis=1)\n",
    "    \n",
    "    def score(self, X: np.ndarray, y: np.ndarray) -> float:\n",
    "        \"\"\" Scores how well the Logistic model predicts \"\"\"\n",
    "        labels = self.predict(X)\n",
    "        onehot = np.argmax(y, axis=1)\n",
    "        return sum(labels == onehot) / len(y)\n",
    "    \n",
    "    def plot(self) -> None:\n",
    "        \"\"\" Plots the loss \"\"\"\n",
    "        epochs = len(self.loss_)\n",
    "        fig = plt.figure(figsize=(10, 5))\n",
    "        plt.plot(range(epochs), self.loss_)\n",
    "        plt.title('Loss per Epoch')\n",
    "        plt.xlabel('Epochs')\n",
    "        plt.ylabel('Loss')\n",
    "        plt.show()\n",
    "    \n",
    "    def fit(self, X: np.ndarray, y: np.ndarray, verbose: bool = True) -> None:\n",
    "        \"\"\" Fits the model to the training data \"\"\"\n",
    "        self.loss_ = list()\n",
    "        for i in range(self.epochs):\n",
    "            n, d = X.shape\n",
    "            rand_indices = np.random.permutation(n)\n",
    "            xi = X[rand_indices, :]\n",
    "            yi = y[rand_indices, :]\n",
    "            \n",
    "            if self.w_ is None:\n",
    "                self.w_ = np.random.normal(scale = 0.1, size = (d, yi.shape[1])) # d x k matrix\n",
    "            \n",
    "            loss = self.alg_(xi, yi)\n",
    "            self.loss_.append(loss)\n",
    "            \n",
    "            if verbose:\n",
    "                print(f\"Loss at epoch {i} is {loss}\")\n",
    "            \n",
    "            if i > 0 and abs(self.loss_[i-1] - loss) <= self.precision:\n",
    "                print(f\"Precision reached at epoch {i}\")\n",
    "                break\n",
    "                \n",
    "            self.rate *= 0.9\n",
    "            \n",
    "    def loss(self, X, y) -> float:\n",
    "        \"\"\" Defines the loss for the model \"\"\"\n",
    "        phi = X.dot(self.w_)  # 1 x k vector\n",
    "        softmax = self._softmax_batch(phi)  # 1 x k vector\n",
    "        loss = np.sum(np.multiply(y, np.log(softmax))) \n",
    "        loss += self.lambda_ * np.sum(np.square(self.w_))  # scalar\n",
    "        return loss / xi.shape[0]\n",
    "        \n",
    "    def _stochastic_descent(self, xi: np.ndarray, yi: np.ndarray) -> float:\n",
    "        \"\"\" Implementation of stochastic gradient descent \"\"\"\n",
    "        n, d = xi.shape\n",
    "        epoch_loss = 0.\n",
    "        for k in range(n):\n",
    "            x = xi[k, :]\n",
    "            y = yi[k, :]\n",
    "            loss, g = self._stochastic_gradient(x, y)\n",
    "            epoch_loss += loss\n",
    "            self.w_ -= self.rate * g\n",
    "        return -epoch_loss / n\n",
    "        \n",
    "    def _stochastic_gradient(self, x: np.ndarray, y: np.ndarray) -> Tuple[float, np.ndarray]:\n",
    "        \"\"\" Computes the stochastic gradient and its loss \"\"\"\n",
    "        if len(x.shape) == 1:\n",
    "            x = x.reshape((1, x.shape[0]))  # 1 x d vector\n",
    "        if len(y.shape) == 1:\n",
    "            y = y.reshape((1, y.shape[0]))  # 1 x k vector\n",
    "        \n",
    "        phi = x.dot(self.w_)  # 1 x k vector\n",
    "        softmax = self._softmax(phi)  # 1 x k vector\n",
    "        loss = np.sum(np.multiply(y, np.log(softmax))) + (self.lambda_ * np.sum(np.square(self.w_)))  # scalar     \n",
    "        g = (x.T.dot(softmax - y)) + (2 * self.lambda_ * self.w_) # d x k matrix\n",
    "        return loss, g\n",
    "    \n",
    "    @staticmethod\n",
    "    def _softmax(phi: np.ndarray) -> np.ndarray:\n",
    "        \"\"\" Solves the softmax function \"\"\"\n",
    "        exps = np.exp(phi)\n",
    "        return exps / np.sum(exps)  # k x 1 matrix\n",
    "\n",
    "    def _mb_stochastic_descent(self, xi: np.ndarray, yi: np.ndarray) -> float:\n",
    "        \"\"\" Implementation of stochastic gradient descent \"\"\"\n",
    "        n, d = xi.shape\n",
    "        iters = int(n / self.b_)\n",
    "        epoch_loss = 0.\n",
    "        start = 0\n",
    "        for k in range(iters):\n",
    "            end = start + self.b_\n",
    "            x = xi[start:end, :]\n",
    "            y = yi[start:end, :]\n",
    "            loss, g = self._mb_stochastic_gradient(x, y)\n",
    "            epoch_loss += loss\n",
    "            self.w_ -= self.rate * g\n",
    "            start = end\n",
    "        return -epoch_loss / iters\n",
    "        \n",
    "    def _mb_stochastic_gradient(self, x: np.ndarray, y: np.ndarray) -> Tuple[float, np.ndarray]:\n",
    "        \"\"\" Computes the mini-batch stochastic gradient and its loss \"\"\"\n",
    "        phi = x.dot(self.w_)  # b x k matrix\n",
    "        softmax = self._softmax_batch(phi)  # b x k matrix\n",
    "        \n",
    "        loss = np.sum(np.multiply(y, np.log(softmax))) \n",
    "        loss += self.lambda_ * np.sum(np.square(self.w_))  # scalar\n",
    "        loss /= self.b_\n",
    "        \n",
    "        g = x.T.dot(softmax - y) + (2 * self.lambda_ * self.w_)\n",
    "        g /= self.b_\n",
    "        return loss, g\n",
    "\n",
    "    @staticmethod\n",
    "    def _softmax_batch(phi: np.ndarray) -> np.ndarray:\n",
    "        \"\"\" Defines row-wise softmax \"\"\"\n",
    "        exps = np.exp(phi)\n",
    "        return exps / np.sum(exps, axis=1, keepdims=True)"
   ]
  },
  {
   "cell_type": "code",
   "execution_count": 15,
   "metadata": {},
   "outputs": [],
   "source": [
    "mblog = LogisticRegression(0.1, optimizer='mbsgd', batch_size=32, max_epochs=30)\n",
    "mblog.fit(X_train, y_train)"
   ]
  },
  {
   "cell_type": "code",
   "execution_count": 16,
   "metadata": {},
   "outputs": [
    {
     "data": {
      "image/png": "[encoded data removed]",
      "text/plain": [
       "<Figure size 720x360 with 1 Axes>"
      ]
     },
     "metadata": {
      "needs_background": "light"
     },
     "output_type": "display_data"
    },
    {
     "data": {
      "text/plain": [
       "(0.8155333333333333, None)"
      ]
     },
     "execution_count": 16,
     "metadata": {},
     "output_type": "execute_result"
    }
   ],
   "source": [
    "mblog.score(X_train, y_train), mblog.plot()"
   ]
  },
  {
   "cell_type": "code",
   "execution_count": 17,
   "metadata": {},
   "outputs": [
    {
     "data": {
      "text/plain": [
       "0.8114473684210526"
      ]
     },
     "execution_count": 17,
     "metadata": {},
     "output_type": "execute_result"
    }
   ],
   "source": [
    "mblog.score(X_test, y_test)"
   ]
  },
  {
   "cell_type": "code",
   "execution_count": null,
   "metadata": {},
   "outputs": [],
   "source": [
    "sgdlog = LogisticRegression(0.1, max_epochs=10)\n",
    "sgdlog.fit(X_train, y_train)"
   ]
  },
  {
   "cell_type": "code",
   "execution_count": null,
   "metadata": {},
   "outputs": [],
   "source": [
    "sgdlog.score(X_train, y_train), sgdlog.plot()"
   ]
  },
  {
   "cell_type": "code",
   "execution_count": null,
   "metadata": {},
   "outputs": [],
   "source": [
    "sgdlog.score(X_test, y_test)"
   ]
  },
  {
   "cell_type": "markdown",
   "metadata": {},
   "source": [
    "## Multi-Layer Perceptron\n",
    "\n",
    "- One hidden layer with 50 neurons\n",
    "- 50 neurons are ReLU activiation functions\n",
    "- One output layer with 4 neurons (one for each class\n",
    "- Output layer has ReLU activiation functions"
   ]
  },
  {
   "cell_type": "code",
   "execution_count": 28,
   "metadata": {},
   "outputs": [],
   "source": [
    "class Neuron:\n",
    "    \n",
    "    def __init__(self):\n",
    "        \"\"\" Initializes the Neuron \"\"\"\n",
    "        pass\n",
    "    \n",
    "    def forward(self, xi):\n",
    "        \"\"\" Defines the foward pass of the neuron \"\"\"\n",
    "        pass\n",
    "    \n",
    "    def backward(self, xi, gradient, rate):\n",
    "        \"\"\" Defines the backward pass for the neuron \"\"\"\n",
    "        pass\n",
    "    \n",
    "\n",
    "class ReLU(Neuron):\n",
    "    \n",
    "    def __init__(self):\n",
    "        \"\"\" Initializes the Neuron \"\"\"\n",
    "        pass\n",
    "    \n",
    "    def forward(self, xi):\n",
    "        \"\"\" Defines the ReLU function \"\"\"\n",
    "        return np.maximum(0, xi)\n",
    "    \n",
    "    def backward(self, xi, gradient, rate):\n",
    "        \"\"\" Defines the gradient for the ReLU function \"\"\"\n",
    "        relu_g = xi > 0\n",
    "        backpass = gradient * relu_g\n",
    "        return backpass\n",
    "        \n",
    "\n",
    "class Tanh(Neuron):\n",
    "    \n",
    "    def __init__(self):\n",
    "        \"\"\" Initializes the Neuron \"\"\"\n",
    "        pass\n",
    "    \n",
    "    def forward(self, xi):\n",
    "        \"\"\" Defines the Tanh function \"\"\"\n",
    "        return np.tanh(xi)\n",
    "    \n",
    "    def backward(self, xi, gradient, rate):\n",
    "        \"\"\" Defines the gradient for the Tanh function \"\"\"\n",
    "        backpass = (1 - np.square(np.tanh(xi))) * gradient\n",
    "        return backpass\n",
    "    \n",
    "\n",
    "class Softmax(Neuron):\n",
    "     \n",
    "    def __init__(self):\n",
    "        \"\"\" Initializes the Neuron \"\"\"\n",
    "        pass\n",
    "\n",
    "    def forward(self, xi):\n",
    "        \"\"\" Defines the Softmax function \"\"\"\n",
    "        exps = np.exp(xi - np.max(xi))  # Adding np.max(xi) for stability\n",
    "        return exps / np.sum(exps, axis=1, keepdims=True)\n",
    "    \n",
    "    def backward(self, xi, gradient, rate):\n",
    "        \"\"\" Defines the gradient for the Softmax function \"\"\"\n",
    "        sm = self.forward(xi)\n",
    "        backpass = (sm - gradient) / xi.shape[0]\n",
    "        return backpass\n",
    "    \n",
    "\n",
    "class Layer(Neuron):\n",
    "    \n",
    "    def __init__(self, xdim: int, ydim: int):\n",
    "        \"\"\" Initializes the class \"\"\"\n",
    "        # Bias is assumed to be a feature for simplification purposes\n",
    "        self._he_init = np.sqrt((2 / xdim))\n",
    "        self.w_ = np.random.normal(scale = self._he_init, size = (xdim, ydim))\n",
    "        \n",
    "    def forward(self, xi) -> np.ndarray:\n",
    "        \"\"\" Performs the linear matrix operation for the layer \"\"\"\n",
    "        return xi.dot(self.w_)\n",
    "    \n",
    "    def backward(self, xi, gradient, rate):\n",
    "        \"\"\" Performs the backward pass for the layer \"\"\"\n",
    "        # Mini-batch stochastic descent\n",
    "        cost = xi.T.dot(gradient) / xi.shape[0]\n",
    "        self.w_ -= rate * cost\n",
    "        \n",
    "        # Gradient for Input\n",
    "        xi_gradient = gradient.dot(self.w_.T)\n",
    "        return xi_gradient\n",
    "    \n",
    "\n",
    "class Network:\n",
    "    \n",
    "    def __init__(self, learning_rate: float = 0.1, max_epochs: int = 1000, precision: float = 1E-6, \n",
    "                 batch_size: int = None):\n",
    "        \"\"\" Initializes the Network \"\"\"\n",
    "        self.network = []\n",
    "        self.rate = learning_rate\n",
    "        self.epochs = max_epochs\n",
    "        self.precision = precision\n",
    "        self.b_ = batch_size\n",
    "        self.loss_ = None\n",
    "        self.get_loss = None\n",
    "        self.get_gradient = None\n",
    "    \n",
    "    def add_layer(self, layer) -> None:\n",
    "        \"\"\" Adds a layer to the network \"\"\"\n",
    "        if hasattr(layer, 'rate'):\n",
    "            layer.rate = self.rate\n",
    "        self.network.append(layer)\n",
    "    \n",
    "    def loss(self, func, func_prime):\n",
    "        \"\"\" Sets the loss to use for the network \"\"\"\n",
    "        self.get_loss = func\n",
    "        self.get_gradient = func_prime\n",
    "            \n",
    "    def predict(self, X) -> np.ndarray:\n",
    "        \"\"\" Defines the predict function \"\"\"\n",
    "        results = self._feed_forward(X)\n",
    "        return results[-1]\n",
    "    \n",
    "    def score(self, X, y) -> float:\n",
    "        \"\"\" Scores the predictive ability of the Network \"\"\"\n",
    "        results = self.predict(X)\n",
    "        labels = np.argmax(results, axis=1)\n",
    "        y = np.argmax(y, axis=1)\n",
    "        return sum(labels == y) / len(labels)\n",
    "    \n",
    "    def fit(self, X: np.ndarray, y: np.ndarray, verbose: bool = True):\n",
    "        \"\"\" Fits the network to the training vectors \"\"\"\n",
    "        self.loss_ = list()\n",
    "        for i in range(self.epochs):\n",
    "            n, d = X.shape\n",
    "            rand_indices = np.random.permutation(n)\n",
    "            xi = X[rand_indices, :]\n",
    "            yi = y[rand_indices, :]\n",
    "            \n",
    "            loss = self._train(xi, yi)\n",
    "            self.loss_.append(loss)\n",
    "            \n",
    "            if verbose:\n",
    "                print(f\"Loss at epoch {i} is {loss}\")\n",
    "            \n",
    "            if i > 0 and abs(self.loss_[i-1] - loss) <= self.precision:\n",
    "                print(f\"Precision reached at epoch {i}\")\n",
    "                break\n",
    "    \n",
    "    def plot(self) -> None:\n",
    "        \"\"\" Plots the loss \"\"\"\n",
    "        epochs = len(self.loss_)\n",
    "        fig = plt.figure(figsize=(10, 5))\n",
    "        plt.plot(range(epochs), self.loss_)\n",
    "        plt.title('Loss per Epoch')\n",
    "        plt.xlabel('Epochs')\n",
    "        plt.ylabel('Loss')\n",
    "        plt.show()\n",
    "    \n",
    "    def _train(self, xi: np.ndarray, yi: np.ndarray) -> float:\n",
    "        \"\"\" Implements stochastic gradient descent \"\"\"\n",
    "        n, _ = xi.shape\n",
    "        iters = int(n / self.b_)\n",
    "        epoch_loss = 0.\n",
    "        start = 0\n",
    "        for k in range(iters):\n",
    "            end = start + self.b_\n",
    "            x = xi[start:end, :]\n",
    "            y = yi[start:end, :]\n",
    "            outputs = self._feed_forward(x)\n",
    "            result = outputs[-1]\n",
    "            \n",
    "            loss = self.get_loss(result, y)\n",
    "            epoch_loss += loss\n",
    "            \n",
    "            g = self.get_gradient(result, y)\n",
    "            self._backward_pass(outputs, g)\n",
    "            start = end\n",
    "        return -epoch_loss / iters\n",
    "        \n",
    "    def _feed_forward(self, xi) -> np.ndarray:\n",
    "        \"\"\" Feeds the sample forward through the network \"\"\"\n",
    "        outputs = [None] * (len(self.network) + 1)\n",
    "        outputs[0] = xi\n",
    "        for i, layer in enumerate(self.network):\n",
    "            xi = layer.forward(xi)\n",
    "            outputs[i + 1] = xi\n",
    "        return outputs\n",
    "    \n",
    "    def _backward_pass(self, outputs, gradient) -> None:\n",
    "        \"\"\" Implements a backward pass through the network \"\"\"\n",
    "        for i in range(len(outputs) - 1)[::-1]:\n",
    "            xi = outputs[i]\n",
    "            layer = self.network[i]\n",
    "            gradient = layer.backward(xi, gradient, self.rate)"
   ]
  },
  {
   "cell_type": "code",
   "execution_count": 19,
   "metadata": {},
   "outputs": [],
   "source": [
    "def cross_entropy_loss(x, y) -> float:\n",
    "    \"\"\" Returns the loss of cross entropy logistic regression \"\"\"\n",
    "    loss = np.sum(np.multiply(y, np.log(x))) / x.shape[0]\n",
    "    return loss\n",
    "\n",
    "def cross_entropy_loss_g(x, y) -> np.ndarray:\n",
    "    \"\"\" Returns gradient of loss for network \"\"\"\n",
    "    return y"
   ]
  },
  {
   "cell_type": "code",
   "execution_count": 20,
   "metadata": {},
   "outputs": [],
   "source": [
    "def build_network(xdim: int, ydim: int, epochs: int = 30, batch_size = 32, neurons: int = 50) -> tuple:\n",
    "    \"\"\" Gets everything ready to start \"\"\"\n",
    "    net = Network(0.1, max_epochs = epochs, batch_size = batch_size)\n",
    "    net.add_layer(Layer(xdim, neurons))\n",
    "    net.add_layer(ReLU())\n",
    "    net.add_layer(Layer(neurons, ydim))\n",
    "    net.add_layer(Softmax())\n",
    "    net.loss(cross_entropy_loss, cross_entropy_loss_g)\n",
    "    return net"
   ]
  },
  {
   "cell_type": "code",
   "execution_count": 24,
   "metadata": {},
   "outputs": [
    {
     "name": "stdout",
     "output_type": "stream",
     "text": [
      "Loss at epoch 0 is 1.3825944198966504\n",
      "Loss at epoch 1 is 1.3711679793029294\n",
      "Loss at epoch 2 is 1.3556535616191057\n",
      "Loss at epoch 3 is 1.3360510354908863\n",
      "Loss at epoch 4 is 1.3111178564247983\n",
      "Loss at epoch 5 is 1.2795692998824342\n",
      "Loss at epoch 6 is 1.240771889159918\n",
      "Loss at epoch 7 is 1.1948096885265593\n",
      "Loss at epoch 8 is 1.142699528680797\n",
      "Loss at epoch 9 is 1.0863849610484906\n",
      "Loss at epoch 10 is 1.0284716782671348\n",
      "Loss at epoch 11 is 0.9716565728278526\n",
      "Loss at epoch 12 is 0.9178215738813384\n",
      "Loss at epoch 13 is 0.868206234146124\n",
      "Loss at epoch 14 is 0.8235260967723453\n",
      "Loss at epoch 15 is 0.7836128999473039\n",
      "Loss at epoch 16 is 0.748323256220408\n",
      "Loss at epoch 17 is 0.717342149101713\n",
      "Loss at epoch 18 is 0.6900238210498693\n",
      "Loss at epoch 19 is 0.6659182362323376\n",
      "Loss at epoch 20 is 0.6447975881067588\n",
      "Loss at epoch 21 is 0.6259131817845686\n",
      "Loss at epoch 22 is 0.6092186828925206\n",
      "Loss at epoch 23 is 0.5942797684847065\n",
      "Loss at epoch 24 is 0.5808895243882415\n",
      "Loss at epoch 25 is 0.5687735859481351\n",
      "Loss at epoch 26 is 0.5578350532013705\n",
      "Loss at epoch 27 is 0.5478720067409748\n",
      "Loss at epoch 28 is 0.5387793071078453\n",
      "Loss at epoch 29 is 0.5303780565239238\n"
     ]
    }
   ],
   "source": [
    "net = build_network(X_train.shape[1], y_train.shape[1])\n",
    "net.fit(X_train, y_train)"
   ]
  },
  {
   "cell_type": "code",
   "execution_count": 25,
   "metadata": {},
   "outputs": [
    {
     "data": {
      "image/png": "[encoded data removed]",
      "text/plain": [
       "<Figure size 720x360 with 1 Axes>"
      ]
     },
     "metadata": {
      "needs_background": "light"
     },
     "output_type": "display_data"
    },
    {
     "data": {
      "text/plain": [
       "(0.8332083333333333, None)"
      ]
     },
     "execution_count": 25,
     "metadata": {},
     "output_type": "execute_result"
    }
   ],
   "source": [
    "net.score(X_train, y_train), net.plot()"
   ]
  },
  {
   "cell_type": "code",
   "execution_count": 26,
   "metadata": {},
   "outputs": [
    {
     "data": {
      "text/plain": [
       "0.8296052631578947"
      ]
     },
     "execution_count": 26,
     "metadata": {},
     "output_type": "execute_result"
    }
   ],
   "source": [
    "net.score(X_test, y_test)"
   ]
  },
  {
   "cell_type": "markdown",
   "metadata": {},
   "source": [
    "## K-Fold Cross Validation"
   ]
  },
  {
   "cell_type": "code",
   "execution_count": 72,
   "metadata": {},
   "outputs": [],
   "source": [
    "def nn_cross_validation(X, y, X_test, y_test, k: int, neurons: int) -> tuple:\n",
    "    \"\"\" Implements k-fold cross validation for neural network \"\"\"\n",
    "    valloss, trainloss = (list(), list())\n",
    "    testprec, testrecall, valprec, valrecall = (list(), list(), list(), list())\n",
    "    \n",
    "    \n",
    "    network = build_network(X.shape[1], y.shape[1], epochs = 10, neurons = neurons)\n",
    "    for i in range(k):\n",
    "        X_folds, y_folds, X_val, y_val = _get_folds(X, y, k, i)\n",
    "        network.fit(X_folds, y_folds, verbose = False)\n",
    "        \n",
    "        test_predictions = network.predict(X_test)\n",
    "        val_predictions = network.predict(X_val)\n",
    "        \n",
    "        val_loss, train_loss = _get_nn_loss(network, val_predictions, y_val)\n",
    "        valloss.append(val_loss)\n",
    "        trainloss.append(train_loss)\n",
    "\n",
    "        precision, recall = _get_nn_scores(test_predictions, y_test)\n",
    "        testprec.append(precision) \n",
    "        testrecall.append(recall)\n",
    "        \n",
    "        precision, recall = _get_nn_scores(val_predictions, y_val)\n",
    "        valprec.append(precision)\n",
    "        valrecall.append(recall)\n",
    "    \n",
    "    return valloss, trainloss, testprec, testrecall, valprec, valrecall\n",
    "\n",
    "\n",
    "def _get_nn_loss(model, X_val, y_val) -> tuple:\n",
    "    \"\"\" Gets the validation loss \"\"\"\n",
    "    val_loss = cross_entropy_loss(X_val, y_val)\n",
    "    train_loss = sum(model.loss_) / len(model.loss_)\n",
    "    return val_loss, train_loss\n",
    "\n",
    "\n",
    "def _get_nn_scores(pred, y):\n",
    "    \"\"\" Gets the recall and precision scores \"\"\"\n",
    "    labels = np.argmax(pred, axis=1)\n",
    "    y = np.argmax(y, axis=1)\n",
    "    return precision_score(y, labels, average=None), recall_score(y, labels, average=None)"
   ]
  },
  {
   "cell_type": "code",
   "execution_count": 64,
   "metadata": {},
   "outputs": [],
   "source": [
    "def lr_cross_validation(X, y, X_test, y_test, k: int, lam: float) -> tuple:\n",
    "    \"\"\" Implements k-fold cross-validation for logistic regression \"\"\"\n",
    "    valloss, trainloss = (list(), list())\n",
    "    testprec, testrecall, valprec, valrecall = (list(), list(), list(), list())\n",
    "    \n",
    "    lr = LogisticRegression(0.1, optimizer='mbsgd', batch_size = 32, max_epochs = 10, lam = lam)\n",
    "    for i in range(k):\n",
    "        X_folds, y_folds, X_val, y_val = _get_folds(X, y, k, i)\n",
    "        lr.fit(X_folds, y_folds, verbose = False)\n",
    "        \n",
    "        val_loss, train_loss = _get_lr_loss(lr, X_val, y_val)\n",
    "        valloss.append(val_loss)\n",
    "        trainloss.append(train_loss)\n",
    "\n",
    "        test_predictions = lr.predict(X_test)\n",
    "        val_predictions = lr.predict(X_val)\n",
    "        \n",
    "        precision, recall = _get_lr_scores(test_predictions, y_test)\n",
    "        testprec.append(precision) \n",
    "        testrecall.append(recall)\n",
    "        \n",
    "        precision, recall = _get_nn_scores(val_predictions, y_val)\n",
    "        valprec.append(precision)\n",
    "        valrecall.append(recall)\n",
    "    \n",
    "    return valloss, trainloss, testprec, testrecall, valprec, valrecall\n",
    "\n",
    "\n",
    "def _get_lr_loss(model, X_val, y_val) -> tuple:\n",
    "    \"\"\" Gets the validation loss \"\"\"\n",
    "    val_loss = model.loss(X_val, y_val)\n",
    "    train_loss = sum(model.loss_) / len(model.loss_)\n",
    "    return val_loss, train_loss\n",
    "\n",
    "\n",
    "def _get_lr_scores(pred, y) -> tuple:\n",
    "    \"\"\" Gets the recall and precision scores \"\"\"\n",
    "    y = np.argmax(y, axis=1)\n",
    "    return precision_score(y, pred, average=None), recall_score(y, pred, average=None)"
   ]
  },
  {
   "cell_type": "code",
   "execution_count": 66,
   "metadata": {},
   "outputs": [],
   "source": [
    "def _get_folds(X, y, k, i) -> tuple:\n",
    "    \"\"\" Gets the folds and returns them in a list \"\"\"\n",
    "    start = 0\n",
    "    batch_size = int(X.shape[0] / k)\n",
    "    X_folds, y_folds, X_val, y_val = (None, None, None, None)\n",
    "    for j in range(k):\n",
    "        end = start + batch_size\n",
    "        X_batch = X[start:end, :].todense()\n",
    "        y_batch = y[start:end, :]\n",
    "        \n",
    "        if j == i:\n",
    "            X_val = X_batch\n",
    "            y_val = y_batch\n",
    "        else:\n",
    "            if X_folds is None and y_folds is None:\n",
    "                X_folds = X_batch\n",
    "                y_folds = y_batch\n",
    "            else:\n",
    "                X_folds = np.vstack((X_folds, X_batch))\n",
    "                y_folds = np.vstack((y_folds, y_batch))\n",
    "        start = end\n",
    "    return csr_matrix(X_folds), y_folds, csr_matrix(X_val), y_val"
   ]
  },
  {
   "cell_type": "markdown",
   "metadata": {},
   "source": [
    "### Neural Network Tuning: Hidden Layer"
   ]
  },
  {
   "cell_type": "code",
   "execution_count": 73,
   "metadata": {},
   "outputs": [
    {
     "name": "stdout",
     "output_type": "stream",
     "text": [
      "1/5: Validation for 50 neurons...\n",
      "Complete\n",
      "\n",
      "2/5: Validation for 75 neurons...\n",
      "Complete\n",
      "\n",
      "3/5: Validation for 100 neurons...\n"
     ]
    },
    {
     "ename": "KeyboardInterrupt",
     "evalue": "",
     "output_type": "error",
     "traceback": [
      "\u001b[0;31m---------------------------------------------------------------------------\u001b[0m",
      "\u001b[0;31mKeyboardInterrupt\u001b[0m                         Traceback (most recent call last)",
      "\u001b[0;32m<ipython-input-73-2bc2d589dc43>\u001b[0m in \u001b[0;36m<module>\u001b[0;34m\u001b[0m\n\u001b[1;32m      7\u001b[0m \u001b[0;32mfor\u001b[0m \u001b[0mi\u001b[0m\u001b[0;34m,\u001b[0m \u001b[0mnn\u001b[0m \u001b[0;32min\u001b[0m \u001b[0menumerate\u001b[0m\u001b[0;34m(\u001b[0m\u001b[0mnum_neurons\u001b[0m\u001b[0;34m)\u001b[0m\u001b[0;34m:\u001b[0m\u001b[0;34m\u001b[0m\u001b[0;34m\u001b[0m\u001b[0m\n\u001b[1;32m      8\u001b[0m     \u001b[0mprint\u001b[0m\u001b[0;34m(\u001b[0m\u001b[0;34mf\"{i + 1}/{len(num_neurons)}: Validation for {nn} neurons...\"\u001b[0m\u001b[0;34m)\u001b[0m\u001b[0;34m\u001b[0m\u001b[0;34m\u001b[0m\u001b[0m\n\u001b[0;32m----> 9\u001b[0;31m     \u001b[0mresults\u001b[0m \u001b[0;34m=\u001b[0m \u001b[0mnn_cross_validation\u001b[0m\u001b[0;34m(\u001b[0m\u001b[0mX_train\u001b[0m\u001b[0;34m,\u001b[0m \u001b[0my_train\u001b[0m\u001b[0;34m,\u001b[0m \u001b[0mX_test\u001b[0m\u001b[0;34m,\u001b[0m \u001b[0my_test\u001b[0m\u001b[0;34m,\u001b[0m \u001b[0mk_folds\u001b[0m\u001b[0;34m,\u001b[0m \u001b[0mnn\u001b[0m\u001b[0;34m)\u001b[0m\u001b[0;34m\u001b[0m\u001b[0;34m\u001b[0m\u001b[0m\n\u001b[0m\u001b[1;32m     10\u001b[0m     \u001b[0mvalloss\u001b[0m\u001b[0;34m,\u001b[0m \u001b[0mtrainloss\u001b[0m\u001b[0;34m,\u001b[0m \u001b[0mtestprec\u001b[0m\u001b[0;34m,\u001b[0m \u001b[0mtestrecall\u001b[0m\u001b[0;34m,\u001b[0m \u001b[0mvalprec\u001b[0m\u001b[0;34m,\u001b[0m \u001b[0mvalrecall\u001b[0m \u001b[0;34m=\u001b[0m \u001b[0mresults\u001b[0m\u001b[0;34m\u001b[0m\u001b[0;34m\u001b[0m\u001b[0m\n\u001b[1;32m     11\u001b[0m \u001b[0;34m\u001b[0m\u001b[0m\n",
      "\u001b[0;32m<ipython-input-72-df2228944ebe>\u001b[0m in \u001b[0;36mnn_cross_validation\u001b[0;34m(X, y, X_test, y_test, k, neurons)\u001b[0m\n\u001b[1;32m      8\u001b[0m     \u001b[0;32mfor\u001b[0m \u001b[0mi\u001b[0m \u001b[0;32min\u001b[0m \u001b[0mrange\u001b[0m\u001b[0;34m(\u001b[0m\u001b[0mk\u001b[0m\u001b[0;34m)\u001b[0m\u001b[0;34m:\u001b[0m\u001b[0;34m\u001b[0m\u001b[0;34m\u001b[0m\u001b[0m\n\u001b[1;32m      9\u001b[0m         \u001b[0mX_folds\u001b[0m\u001b[0;34m,\u001b[0m \u001b[0my_folds\u001b[0m\u001b[0;34m,\u001b[0m \u001b[0mX_val\u001b[0m\u001b[0;34m,\u001b[0m \u001b[0my_val\u001b[0m \u001b[0;34m=\u001b[0m \u001b[0m_get_folds\u001b[0m\u001b[0;34m(\u001b[0m\u001b[0mX\u001b[0m\u001b[0;34m,\u001b[0m \u001b[0my\u001b[0m\u001b[0;34m,\u001b[0m \u001b[0mk\u001b[0m\u001b[0;34m,\u001b[0m \u001b[0mi\u001b[0m\u001b[0;34m)\u001b[0m\u001b[0;34m\u001b[0m\u001b[0;34m\u001b[0m\u001b[0m\n\u001b[0;32m---> 10\u001b[0;31m         \u001b[0mnetwork\u001b[0m\u001b[0;34m.\u001b[0m\u001b[0mfit\u001b[0m\u001b[0;34m(\u001b[0m\u001b[0mX_folds\u001b[0m\u001b[0;34m,\u001b[0m \u001b[0my_folds\u001b[0m\u001b[0;34m,\u001b[0m \u001b[0mverbose\u001b[0m \u001b[0;34m=\u001b[0m \u001b[0;32mFalse\u001b[0m\u001b[0;34m)\u001b[0m\u001b[0;34m\u001b[0m\u001b[0;34m\u001b[0m\u001b[0m\n\u001b[0m\u001b[1;32m     11\u001b[0m \u001b[0;34m\u001b[0m\u001b[0m\n\u001b[1;32m     12\u001b[0m         \u001b[0mtest_predictions\u001b[0m \u001b[0;34m=\u001b[0m \u001b[0mnetwork\u001b[0m\u001b[0;34m.\u001b[0m\u001b[0mpredict\u001b[0m\u001b[0;34m(\u001b[0m\u001b[0mX_test\u001b[0m\u001b[0;34m)\u001b[0m\u001b[0;34m\u001b[0m\u001b[0;34m\u001b[0m\u001b[0m\n",
      "\u001b[0;32m<ipython-input-28-874ee236c994>\u001b[0m in \u001b[0;36mfit\u001b[0;34m(self, X, y, verbose)\u001b[0m\n\u001b[1;32m    134\u001b[0m             \u001b[0myi\u001b[0m \u001b[0;34m=\u001b[0m \u001b[0my\u001b[0m\u001b[0;34m[\u001b[0m\u001b[0mrand_indices\u001b[0m\u001b[0;34m,\u001b[0m \u001b[0;34m:\u001b[0m\u001b[0;34m]\u001b[0m\u001b[0;34m\u001b[0m\u001b[0;34m\u001b[0m\u001b[0m\n\u001b[1;32m    135\u001b[0m \u001b[0;34m\u001b[0m\u001b[0m\n\u001b[0;32m--> 136\u001b[0;31m             \u001b[0mloss\u001b[0m \u001b[0;34m=\u001b[0m \u001b[0mself\u001b[0m\u001b[0;34m.\u001b[0m\u001b[0m_train\u001b[0m\u001b[0;34m(\u001b[0m\u001b[0mxi\u001b[0m\u001b[0;34m,\u001b[0m \u001b[0myi\u001b[0m\u001b[0;34m)\u001b[0m\u001b[0;34m\u001b[0m\u001b[0;34m\u001b[0m\u001b[0m\n\u001b[0m\u001b[1;32m    137\u001b[0m             \u001b[0mself\u001b[0m\u001b[0;34m.\u001b[0m\u001b[0mloss_\u001b[0m\u001b[0;34m.\u001b[0m\u001b[0mappend\u001b[0m\u001b[0;34m(\u001b[0m\u001b[0mloss\u001b[0m\u001b[0;34m)\u001b[0m\u001b[0;34m\u001b[0m\u001b[0;34m\u001b[0m\u001b[0m\n\u001b[1;32m    138\u001b[0m \u001b[0;34m\u001b[0m\u001b[0m\n",
      "\u001b[0;32m<ipython-input-28-874ee236c994>\u001b[0m in \u001b[0;36m_train\u001b[0;34m(self, xi, yi)\u001b[0m\n\u001b[1;32m    171\u001b[0m \u001b[0;34m\u001b[0m\u001b[0m\n\u001b[1;32m    172\u001b[0m             \u001b[0mg\u001b[0m \u001b[0;34m=\u001b[0m \u001b[0mself\u001b[0m\u001b[0;34m.\u001b[0m\u001b[0mget_gradient\u001b[0m\u001b[0;34m(\u001b[0m\u001b[0mresult\u001b[0m\u001b[0;34m,\u001b[0m \u001b[0my\u001b[0m\u001b[0;34m)\u001b[0m\u001b[0;34m\u001b[0m\u001b[0;34m\u001b[0m\u001b[0m\n\u001b[0;32m--> 173\u001b[0;31m             \u001b[0mself\u001b[0m\u001b[0;34m.\u001b[0m\u001b[0m_backward_pass\u001b[0m\u001b[0;34m(\u001b[0m\u001b[0moutputs\u001b[0m\u001b[0;34m,\u001b[0m \u001b[0mg\u001b[0m\u001b[0;34m)\u001b[0m\u001b[0;34m\u001b[0m\u001b[0;34m\u001b[0m\u001b[0m\n\u001b[0m\u001b[1;32m    174\u001b[0m             \u001b[0mstart\u001b[0m \u001b[0;34m=\u001b[0m \u001b[0mend\u001b[0m\u001b[0;34m\u001b[0m\u001b[0;34m\u001b[0m\u001b[0m\n\u001b[1;32m    175\u001b[0m         \u001b[0;32mreturn\u001b[0m \u001b[0;34m-\u001b[0m\u001b[0mepoch_loss\u001b[0m \u001b[0;34m/\u001b[0m \u001b[0miters\u001b[0m\u001b[0;34m\u001b[0m\u001b[0;34m\u001b[0m\u001b[0m\n",
      "\u001b[0;32m<ipython-input-28-874ee236c994>\u001b[0m in \u001b[0;36m_backward_pass\u001b[0;34m(self, outputs, gradient)\u001b[0m\n\u001b[1;32m    189\u001b[0m             \u001b[0mxi\u001b[0m \u001b[0;34m=\u001b[0m \u001b[0moutputs\u001b[0m\u001b[0;34m[\u001b[0m\u001b[0mi\u001b[0m\u001b[0;34m]\u001b[0m\u001b[0;34m\u001b[0m\u001b[0;34m\u001b[0m\u001b[0m\n\u001b[1;32m    190\u001b[0m             \u001b[0mlayer\u001b[0m \u001b[0;34m=\u001b[0m \u001b[0mself\u001b[0m\u001b[0;34m.\u001b[0m\u001b[0mnetwork\u001b[0m\u001b[0;34m[\u001b[0m\u001b[0mi\u001b[0m\u001b[0;34m]\u001b[0m\u001b[0;34m\u001b[0m\u001b[0;34m\u001b[0m\u001b[0m\n\u001b[0;32m--> 191\u001b[0;31m             \u001b[0mgradient\u001b[0m \u001b[0;34m=\u001b[0m \u001b[0mlayer\u001b[0m\u001b[0;34m.\u001b[0m\u001b[0mbackward\u001b[0m\u001b[0;34m(\u001b[0m\u001b[0mxi\u001b[0m\u001b[0;34m,\u001b[0m \u001b[0mgradient\u001b[0m\u001b[0;34m,\u001b[0m \u001b[0mself\u001b[0m\u001b[0;34m.\u001b[0m\u001b[0mrate\u001b[0m\u001b[0;34m)\u001b[0m\u001b[0;34m\u001b[0m\u001b[0;34m\u001b[0m\u001b[0m\n\u001b[0m",
      "\u001b[0;32m<ipython-input-28-874ee236c994>\u001b[0m in \u001b[0;36mbackward\u001b[0;34m(self, xi, gradient, rate)\u001b[0m\n\u001b[1;32m     80\u001b[0m         \u001b[0;34m\"\"\" Performs the backward pass for the layer \"\"\"\u001b[0m\u001b[0;34m\u001b[0m\u001b[0;34m\u001b[0m\u001b[0m\n\u001b[1;32m     81\u001b[0m         \u001b[0;31m# Mini-batch stochastic descent\u001b[0m\u001b[0;34m\u001b[0m\u001b[0;34m\u001b[0m\u001b[0;34m\u001b[0m\u001b[0m\n\u001b[0;32m---> 82\u001b[0;31m         \u001b[0mcost\u001b[0m \u001b[0;34m=\u001b[0m \u001b[0mxi\u001b[0m\u001b[0;34m.\u001b[0m\u001b[0mT\u001b[0m\u001b[0;34m.\u001b[0m\u001b[0mdot\u001b[0m\u001b[0;34m(\u001b[0m\u001b[0mgradient\u001b[0m\u001b[0;34m)\u001b[0m \u001b[0;34m/\u001b[0m \u001b[0mxi\u001b[0m\u001b[0;34m.\u001b[0m\u001b[0mshape\u001b[0m\u001b[0;34m[\u001b[0m\u001b[0;36m0\u001b[0m\u001b[0;34m]\u001b[0m\u001b[0;34m\u001b[0m\u001b[0;34m\u001b[0m\u001b[0m\n\u001b[0m\u001b[1;32m     83\u001b[0m         \u001b[0mself\u001b[0m\u001b[0;34m.\u001b[0m\u001b[0mw_\u001b[0m \u001b[0;34m-=\u001b[0m \u001b[0mrate\u001b[0m \u001b[0;34m*\u001b[0m \u001b[0mcost\u001b[0m\u001b[0;34m\u001b[0m\u001b[0;34m\u001b[0m\u001b[0m\n\u001b[1;32m     84\u001b[0m \u001b[0;34m\u001b[0m\u001b[0m\n",
      "\u001b[0;31mKeyboardInterrupt\u001b[0m: "
     ]
    }
   ],
   "source": [
    "k_folds = 3\n",
    "val_loss, train_loss = (list(), list())\n",
    "test_recall, test_precision = (list(), list())\n",
    "val_recall, val_precision = (list(), list())\n",
    "\n",
    "num_neurons = [50, 75, 100, 150, 200]\n",
    "for i, nn in enumerate(num_neurons):\n",
    "    print(f\"{i + 1}/{len(num_neurons)}: Validation for {nn} neurons...\")\n",
    "    results = nn_cross_validation(X_train, y_train, X_test, y_test, k_folds, nn)\n",
    "    valloss, trainloss, testprec, testrecall, valprec, valrecall = results\n",
    "    \n",
    "    train_loss.append(trainloss)\n",
    "    val_loss.append(valloss)\n",
    "    \n",
    "    test_precision.append(testprec)\n",
    "    test_recall.append(testrecall)\n",
    "    \n",
    "    val_precision.append(valprec)\n",
    "    val_recall.append(valrecall)\n",
    "    print(\"Complete\\n\")"
   ]
  },
  {
   "cell_type": "code",
   "execution_count": 74,
   "metadata": {},
   "outputs": [
    {
     "data": {
      "text/plain": [
       "[[array([0.8542109 , 0.67245216, 0.62139219, 0.77083333]),\n",
       "  array([0.85034803, 0.72      , 0.79107041, 0.79201799]),\n",
       "  array([0.84021448, 0.79009434, 0.80033463, 0.81229418])],\n",
       " [array([0.86648501, 0.66072205, 0.6205106 , 0.76544021]),\n",
       "  array([0.83693844, 0.72532189, 0.78465063, 0.7989541 ]),\n",
       "  array([0.85284464, 0.77338783, 0.80663616, 0.80461032])]]"
      ]
     },
     "execution_count": 74,
     "metadata": {},
     "output_type": "execute_result"
    }
   ],
   "source": [
    "test_precision"
   ]
  },
  {
   "cell_type": "code",
   "execution_count": 43,
   "metadata": {},
   "outputs": [
    {
     "data": {
      "image/png": "[encoded data removed]",
      "text/plain": [
       "<Figure size 720x360 with 1 Axes>"
      ]
     },
     "metadata": {
      "needs_background": "light"
     },
     "output_type": "display_data"
    }
   ],
   "source": [
    "fig = plt.figure(figsize=(10, 5))\n",
    "plt.plot(num_neurons, val_loss, marker='o')\n",
    "plt.plot(num_neurons, test_loss, marker='x', color='y')\n",
    "plt.title('Validation and Test Loss per Number of Neurons')\n",
    "plt.xlabel('Number of Neurons')\n",
    "plt.ylabel('Loss')\n",
    "plt.legend(['Validation Loss', 'Training Score'])\n",
    "plt.show()\n",
    "\n"
   ]
  },
  {
   "cell_type": "markdown",
   "metadata": {},
   "source": [
    "### Logistic Regression: Lambda Tuning"
   ]
  },
  {
   "cell_type": "code",
   "execution_count": 48,
   "metadata": {},
   "outputs": [
    {
     "name": "stdout",
     "output_type": "stream",
     "text": [
      "1/5: Validation for Lambda 0.1...\n",
      "Complete\n",
      "\n",
      "2/5: Validation for Lambda 0.01...\n",
      "Complete\n",
      "\n",
      "3/5: Validation for Lambda 0.001...\n",
      "Complete\n",
      "\n",
      "4/5: Validation for Lambda 0.0001...\n",
      "Complete\n",
      "\n",
      "5/5: Validation for Lambda 1e-05...\n",
      "Complete\n",
      "\n"
     ]
    },
    {
     "data": {
      "text/plain": [
       "([0.7346333333333334,\n",
       "  0.7855416666666667,\n",
       "  0.7919,\n",
       "  0.7923416666666667,\n",
       "  0.7927416666666667],\n",
       " [0.7514035087719299,\n",
       "  0.7888157894736842,\n",
       "  0.7914912280701755,\n",
       "  0.7942543859649124,\n",
       "  0.7944736842105263])"
      ]
     },
     "execution_count": 48,
     "metadata": {},
     "output_type": "execute_result"
    }
   ],
   "source": [
    "k_folds = 3\n",
    "val_loss, train_loss = (list(), list())\n",
    "test_recall, test_precision = (list(), list())\n",
    "val_recall, val_precision = (list(), list())\n",
    "\n",
    "lambdas = [0.1, 0.01, 1E-3, 1E-4, 1E-5]\n",
    "for i, nn in enumerate(num_neurons):\n",
    "    print(f\"{i + 1}/{len(lambdas)}: Validation for Lambda {lam}...\")\n",
    "    results = r_cross_validation(X_train, y_train, X_test, y_test, k_folds, lam)\n",
    "    valloss, trainloss, testprec, testrecall, valprec, valrecall = results\n",
    "    \n",
    "    \n",
    "    train_loss.append(trainloss)\n",
    "    val_loss.append(valloss)\n",
    "    \n",
    "    test_precision.append(testprec)\n",
    "    test_recall.append(testrecall)\n",
    "    \n",
    "    val_precision.append(valprec)\n",
    "    val_recall.append(valrecall)\n",
    "    print(\"Complete\\n\")"
   ]
  },
  {
   "cell_type": "code",
   "execution_count": 57,
   "metadata": {},
   "outputs": [
    {
     "data": {
      "image/png": "[encoded data removed]",
      "text/plain": [
       "<Figure size 720x360 with 1 Axes>"
      ]
     },
     "metadata": {
      "needs_background": "light"
     },
     "output_type": "display_data"
    }
   ],
   "source": [
    "fig = plt.figure(figsize=(10, 5))\n",
    "plt.plot(lambdas, val_scores, marker='o')\n",
    "plt.plot(lambdas, test_scores, color='y', marker='x')\n",
    "plt.title('Validation for Lambda')\n",
    "plt.xlabel('Lambda')\n",
    "plt.ylabel('Score')\n",
    "plt.legend(['Validation Score', 'Test Score'])\n",
    "plt.axis([max(lambdas), min(lambdas), min(val_scores), max(val_scores)])\n",
    "plt.show()"
   ]
  },
  {
   "cell_type": "code",
   "execution_count": 37,
   "metadata": {},
   "outputs": [
    {
     "name": "stdout",
     "output_type": "stream",
     "text": [
      "a\n",
      "b\n"
     ]
    }
   ],
   "source": [
    "print(\"a\\nb\")"
   ]
  },
  {
   "cell_type": "code",
   "execution_count": null,
   "metadata": {},
   "outputs": [],
   "source": []
  }
 ],
 "metadata": {
  "kernelspec": {
   "display_name": "Python 3",
   "language": "python",
   "name": "python3"
  },
  "language_info": {
   "codemirror_mode": {
    "name": "ipython",
    "version": 3
   },
   "file_extension": ".py",
   "mimetype": "text/x-python",
   "name": "python",
   "nbconvert_exporter": "python",
   "pygments_lexer": "ipython3",
   "version": "3.8.5"
  }
 },
 "nbformat": 4,
 "nbformat_minor": 4
}
