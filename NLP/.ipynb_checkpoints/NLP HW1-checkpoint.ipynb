{
 "cells": [
  {
   "cell_type": "markdown",
   "metadata": {},
   "source": [
    "# Loading the Data"
   ]
  },
  {
   "cell_type": "code",
   "execution_count": 13,
   "metadata": {},
   "outputs": [],
   "source": [
    "import matplotlib.pyplot as plt\n",
    "import scipy.sparse\n",
    "import pandas as pd\n",
    "import numpy as np\n",
    "import string\n",
    "import re\n",
    "\n",
    "from typing import Tuple\n",
    "from collections import Counter\n",
    "from nltk.corpus import stopwords\n",
    "from nltk.tokenize import word_tokenize\n",
    "from nltk.probability import FreqDist\n",
    "from sklearn.feature_extraction.text import TfidfVectorizer"
   ]
  },
  {
   "cell_type": "code",
   "execution_count": 2,
   "metadata": {},
   "outputs": [],
   "source": [
    "# You may have to do this to get this project to run\n",
    "# import nltk\n",
    "# nltk.download()"
   ]
  },
  {
   "cell_type": "code",
   "execution_count": 3,
   "metadata": {},
   "outputs": [
    {
     "data": {
      "text/html": [
       "<div>\n",
       "<style scoped>\n",
       "    .dataframe tbody tr th:only-of-type {\n",
       "        vertical-align: middle;\n",
       "    }\n",
       "\n",
       "    .dataframe tbody tr th {\n",
       "        vertical-align: top;\n",
       "    }\n",
       "\n",
       "    .dataframe thead th {\n",
       "        text-align: right;\n",
       "    }\n",
       "</style>\n",
       "<table border=\"1\" class=\"dataframe\">\n",
       "  <thead>\n",
       "    <tr style=\"text-align: right;\">\n",
       "      <th></th>\n",
       "      <th>target</th>\n",
       "      <th>text</th>\n",
       "      <th>description</th>\n",
       "    </tr>\n",
       "  </thead>\n",
       "  <tbody>\n",
       "    <tr>\n",
       "      <th>0</th>\n",
       "      <td>3</td>\n",
       "      <td>Wall St. Bears Claw Back Into the Black (Reuters)</td>\n",
       "      <td>Reuters - Short-sellers, Wall Street's dwindli...</td>\n",
       "    </tr>\n",
       "    <tr>\n",
       "      <th>1</th>\n",
       "      <td>3</td>\n",
       "      <td>Carlyle Looks Toward Commercial Aerospace (Reu...</td>\n",
       "      <td>Reuters - Private investment firm Carlyle Grou...</td>\n",
       "    </tr>\n",
       "    <tr>\n",
       "      <th>2</th>\n",
       "      <td>3</td>\n",
       "      <td>Oil and Economy Cloud Stocks' Outlook (Reuters)</td>\n",
       "      <td>Reuters - Soaring crude prices plus worries\\ab...</td>\n",
       "    </tr>\n",
       "    <tr>\n",
       "      <th>3</th>\n",
       "      <td>3</td>\n",
       "      <td>Iraq Halts Oil Exports from Main Southern Pipe...</td>\n",
       "      <td>Reuters - Authorities have halted oil export\\f...</td>\n",
       "    </tr>\n",
       "    <tr>\n",
       "      <th>4</th>\n",
       "      <td>3</td>\n",
       "      <td>Oil prices soar to all-time record, posing new...</td>\n",
       "      <td>AFP - Tearaway world oil prices, toppling reco...</td>\n",
       "    </tr>\n",
       "  </tbody>\n",
       "</table>\n",
       "</div>"
      ],
      "text/plain": [
       "   target                                               text  \\\n",
       "0       3  Wall St. Bears Claw Back Into the Black (Reuters)   \n",
       "1       3  Carlyle Looks Toward Commercial Aerospace (Reu...   \n",
       "2       3    Oil and Economy Cloud Stocks' Outlook (Reuters)   \n",
       "3       3  Iraq Halts Oil Exports from Main Southern Pipe...   \n",
       "4       3  Oil prices soar to all-time record, posing new...   \n",
       "\n",
       "                                         description  \n",
       "0  Reuters - Short-sellers, Wall Street's dwindli...  \n",
       "1  Reuters - Private investment firm Carlyle Grou...  \n",
       "2  Reuters - Soaring crude prices plus worries\\ab...  \n",
       "3  Reuters - Authorities have halted oil export\\f...  \n",
       "4  AFP - Tearaway world oil prices, toppling reco...  "
      ]
     },
     "execution_count": 3,
     "metadata": {},
     "output_type": "execute_result"
    }
   ],
   "source": [
    "train = pd.read_csv('train.csv', names=['target', 'text', 'description'])\n",
    "test = pd.read_csv('test.csv', names=['target', 'text', 'description'])\n",
    "\n",
    "train.head()"
   ]
  },
  {
   "cell_type": "code",
   "execution_count": 4,
   "metadata": {},
   "outputs": [],
   "source": [
    "def preprocess(data: pd.Series) -> pd.Series:\n",
    "    \"\"\" Performs the following actions:\n",
    "            1. Removes all punctionation\n",
    "            2. Removes stop words and common words\n",
    "            3. Removes symbols\n",
    "            4. Removes URLs\n",
    "            5. Remove numbers\n",
    "    \"\"\"\n",
    "    text = data\n",
    "    text = _remove_url(text)\n",
    "    text = _remove_non_chars(text)\n",
    "    text = _remove_stopwords(text)\n",
    "    return text\n",
    "    \n",
    "def _remove_url(column: pd.Series) -> pd.Series:\n",
    "    \"\"\" Removes all URLs from the data \"\"\"\n",
    "    url_match = re.compile(\"https?:\\/\\/\\S+\")\n",
    "    return column.apply(lambda x: re.sub(url_match, \" \", x))\n",
    "    \n",
    "def _remove_non_chars(column: pd.Series) -> pd.Series:\n",
    "    \"\"\" Removes all non-characters from the string, including punctionation and numbers \"\"\"\n",
    "    char_match = re.compile(\"[^a-z\\s\\']+\")\n",
    "    return column.apply(lambda x: re.sub(char_match, \" \", x.lower()).replace(\"'\", \"\"))\n",
    "\n",
    "def _remove_stopwords(column: pd.Series) -> pd.Series:\n",
    "    \"\"\" Removes stopwords \"\"\"\n",
    "    words = set(stopwords.words('english'))    \n",
    "    return column.apply(lambda x: ' '.join([word for word in word_tokenize(x) if word not in words]))"
   ]
  },
  {
   "cell_type": "code",
   "execution_count": 5,
   "metadata": {},
   "outputs": [
    {
     "data": {
      "text/html": [
       "<div>\n",
       "<style scoped>\n",
       "    .dataframe tbody tr th:only-of-type {\n",
       "        vertical-align: middle;\n",
       "    }\n",
       "\n",
       "    .dataframe tbody tr th {\n",
       "        vertical-align: top;\n",
       "    }\n",
       "\n",
       "    .dataframe thead th {\n",
       "        text-align: right;\n",
       "    }\n",
       "</style>\n",
       "<table border=\"1\" class=\"dataframe\">\n",
       "  <thead>\n",
       "    <tr style=\"text-align: right;\">\n",
       "      <th></th>\n",
       "      <th>target</th>\n",
       "      <th>text</th>\n",
       "      <th>description</th>\n",
       "    </tr>\n",
       "  </thead>\n",
       "  <tbody>\n",
       "    <tr>\n",
       "      <th>0</th>\n",
       "      <td>3</td>\n",
       "      <td>wall st bears claw back black reuters</td>\n",
       "      <td>Reuters - Short-sellers, Wall Street's dwindli...</td>\n",
       "    </tr>\n",
       "    <tr>\n",
       "      <th>1</th>\n",
       "      <td>3</td>\n",
       "      <td>carlyle looks toward commercial aerospace reuters</td>\n",
       "      <td>Reuters - Private investment firm Carlyle Grou...</td>\n",
       "    </tr>\n",
       "    <tr>\n",
       "      <th>2</th>\n",
       "      <td>3</td>\n",
       "      <td>oil economy cloud stocks outlook reuters</td>\n",
       "      <td>Reuters - Soaring crude prices plus worries\\ab...</td>\n",
       "    </tr>\n",
       "    <tr>\n",
       "      <th>3</th>\n",
       "      <td>3</td>\n",
       "      <td>iraq halts oil exports main southern pipeline ...</td>\n",
       "      <td>Reuters - Authorities have halted oil export\\f...</td>\n",
       "    </tr>\n",
       "    <tr>\n",
       "      <th>4</th>\n",
       "      <td>3</td>\n",
       "      <td>oil prices soar time record posing new menace ...</td>\n",
       "      <td>AFP - Tearaway world oil prices, toppling reco...</td>\n",
       "    </tr>\n",
       "  </tbody>\n",
       "</table>\n",
       "</div>"
      ],
      "text/plain": [
       "   target                                               text  \\\n",
       "0       3              wall st bears claw back black reuters   \n",
       "1       3  carlyle looks toward commercial aerospace reuters   \n",
       "2       3           oil economy cloud stocks outlook reuters   \n",
       "3       3  iraq halts oil exports main southern pipeline ...   \n",
       "4       3  oil prices soar time record posing new menace ...   \n",
       "\n",
       "                                         description  \n",
       "0  Reuters - Short-sellers, Wall Street's dwindli...  \n",
       "1  Reuters - Private investment firm Carlyle Grou...  \n",
       "2  Reuters - Soaring crude prices plus worries\\ab...  \n",
       "3  Reuters - Authorities have halted oil export\\f...  \n",
       "4  AFP - Tearaway world oil prices, toppling reco...  "
      ]
     },
     "execution_count": 5,
     "metadata": {},
     "output_type": "execute_result"
    }
   ],
   "source": [
    "train['text'] = preprocess(train['text'])\n",
    "train.head()"
   ]
  },
  {
   "cell_type": "code",
   "execution_count": 6,
   "metadata": {},
   "outputs": [
    {
     "data": {
      "text/html": [
       "<div>\n",
       "<style scoped>\n",
       "    .dataframe tbody tr th:only-of-type {\n",
       "        vertical-align: middle;\n",
       "    }\n",
       "\n",
       "    .dataframe tbody tr th {\n",
       "        vertical-align: top;\n",
       "    }\n",
       "\n",
       "    .dataframe thead th {\n",
       "        text-align: right;\n",
       "    }\n",
       "</style>\n",
       "<table border=\"1\" class=\"dataframe\">\n",
       "  <thead>\n",
       "    <tr style=\"text-align: right;\">\n",
       "      <th></th>\n",
       "      <th>target</th>\n",
       "      <th>text</th>\n",
       "      <th>description</th>\n",
       "    </tr>\n",
       "  </thead>\n",
       "  <tbody>\n",
       "    <tr>\n",
       "      <th>0</th>\n",
       "      <td>3</td>\n",
       "      <td>fears n pension talks</td>\n",
       "      <td>Unions representing workers at Turner   Newall...</td>\n",
       "    </tr>\n",
       "    <tr>\n",
       "      <th>1</th>\n",
       "      <td>4</td>\n",
       "      <td>race second private team sets launch date huma...</td>\n",
       "      <td>SPACE.com - TORONTO, Canada -- A second\\team o...</td>\n",
       "    </tr>\n",
       "    <tr>\n",
       "      <th>2</th>\n",
       "      <td>4</td>\n",
       "      <td>ky company wins grant study peptides ap</td>\n",
       "      <td>AP - A company founded by a chemistry research...</td>\n",
       "    </tr>\n",
       "    <tr>\n",
       "      <th>3</th>\n",
       "      <td>4</td>\n",
       "      <td>prediction unit helps forecast wildfires ap</td>\n",
       "      <td>AP - It's barely dawn when Mike Fitzpatrick st...</td>\n",
       "    </tr>\n",
       "    <tr>\n",
       "      <th>4</th>\n",
       "      <td>4</td>\n",
       "      <td>calif aims limit farm related smog ap</td>\n",
       "      <td>AP - Southern California's smog-fighting agenc...</td>\n",
       "    </tr>\n",
       "  </tbody>\n",
       "</table>\n",
       "</div>"
      ],
      "text/plain": [
       "   target                                               text  \\\n",
       "0       3                              fears n pension talks   \n",
       "1       4  race second private team sets launch date huma...   \n",
       "2       4            ky company wins grant study peptides ap   \n",
       "3       4        prediction unit helps forecast wildfires ap   \n",
       "4       4              calif aims limit farm related smog ap   \n",
       "\n",
       "                                         description  \n",
       "0  Unions representing workers at Turner   Newall...  \n",
       "1  SPACE.com - TORONTO, Canada -- A second\\team o...  \n",
       "2  AP - A company founded by a chemistry research...  \n",
       "3  AP - It's barely dawn when Mike Fitzpatrick st...  \n",
       "4  AP - Southern California's smog-fighting agenc...  "
      ]
     },
     "execution_count": 6,
     "metadata": {},
     "output_type": "execute_result"
    }
   ],
   "source": [
    "test['text'] = preprocess(test['text'])\n",
    "test.head()"
   ]
  },
  {
   "cell_type": "code",
   "execution_count": 7,
   "metadata": {},
   "outputs": [],
   "source": [
    "def get_top_per_class(data: pd.DataFrame, group: str, col: str, per: int = 1100) -> set:\n",
    "    \"\"\" Gets the top per words from each class and returns the total vocab, in no particular order \"\"\"\n",
    "    vocab = set()\n",
    "    for group, frame in train.groupby(group):\n",
    "        class_vocab = []\n",
    "        [class_vocab.extend(word_tokenize(x)) for x in frame[col]]\n",
    "        freq = FreqDist(class_vocab)\n",
    "        vocab.update(sorted(freq, key=freq.get)[:per])\n",
    "    return vocab"
   ]
  },
  {
   "cell_type": "code",
   "execution_count": 8,
   "metadata": {},
   "outputs": [
    {
     "data": {
      "text/plain": [
       "4271"
      ]
     },
     "execution_count": 8,
     "metadata": {},
     "output_type": "execute_result"
    }
   ],
   "source": [
    "top = get_top_per_class(train, 'target', 'text')\n",
    "len(top)"
   ]
  },
  {
   "cell_type": "code",
   "execution_count": 9,
   "metadata": {},
   "outputs": [
    {
     "data": {
      "text/plain": [
       "((120000, 4271), (120000,))"
      ]
     },
     "execution_count": 9,
     "metadata": {},
     "output_type": "execute_result"
    }
   ],
   "source": [
    "vectorizer = TfidfVectorizer(vocabulary=top)\n",
    "x_train = vectorizer.fit_transform(train['text'])\n",
    "y_train = np.array(train['target'])\n",
    "x_train.shape, y_train.shape"
   ]
  },
  {
   "cell_type": "code",
   "execution_count": 10,
   "metadata": {},
   "outputs": [
    {
     "data": {
      "text/plain": [
       "((7600, 4271), (7600,))"
      ]
     },
     "execution_count": 10,
     "metadata": {},
     "output_type": "execute_result"
    }
   ],
   "source": [
    "x_test = vectorizer.transform(test['text'])\n",
    "y_test = np.array(test['target'])\n",
    "x_test.shape, y_test.shape"
   ]
  },
  {
   "cell_type": "code",
   "execution_count": 11,
   "metadata": {},
   "outputs": [],
   "source": [
    "features = set(vectorizer.get_feature_names())\n",
    "assert len(features - top) == 0  # No features outside the vocabulary"
   ]
  },
  {
   "cell_type": "markdown",
   "metadata": {},
   "source": [
    "## Logistic Regression\n",
    "\n",
    "Objective Function: $J (w; X, y) = -\\frac{1}{N} \\sum_{i=1}^n \\sum_{k=1}^k y_{ik} \\log \\Big( \\frac{\\exp(f_k)}{\\sum_c \\exp( f_c)} \\Big) + \\lambda \\| w \\|_2^2 $.\n",
    "\n",
    "Gradient: $\\frac{\\delta J}{\\delta w_k} = \\frac{1}{N} \\sum_{i=1}^n x_i \\Big(\\frac{\\exp(f_k)}{\\sum_c \\exp( f_c)} - y_i \\Big) + 2 \\lambda w_k $"
   ]
  },
  {
   "cell_type": "code",
   "execution_count": 19,
   "metadata": {},
   "outputs": [],
   "source": [
    "from scipy.sparse import csr_matrix\n",
    "import matplotlib.pyplot as plt\n",
    "\n",
    "class LogisticRegression:\n",
    "    \n",
    "    def __init__(self, learning_rate: float, max_epochs: int = 1000, precision: float = 1E-6, \n",
    "                 lam: float = 1E-6, optimizer: str = 'sgd', batch_size: int = None):\n",
    "        \"\"\" Initializes the class \"\"\"\n",
    "        self.rate = learning_rate\n",
    "        self.epochs = max_epochs\n",
    "        self.precision = precision\n",
    "        self.lambda_ = lam\n",
    "        self.b_ = batch_size\n",
    "        self.alg_ = self._set_optimizer(optimizer)\n",
    "        self.loss_ = None\n",
    "        self.w_ = None\n",
    "        \n",
    "    def _set_optimizer(self, optimizer: str):\n",
    "        \"\"\" Sets the optimizer \"\"\"\n",
    "        optimizer = optimizer.lower().strip()\n",
    "        if optimizer == 'sgd':\n",
    "            return self._stochastic_descent\n",
    "        elif optimizer == 'mbsgd':\n",
    "            if not self.b_:\n",
    "                raise ValueError(\"You must declare a batch size with 'batch_size' in order to use \" \\\n",
    "                                 \"mini-batch stochastic gradient descent\")\n",
    "            return self._mb_stochastic_descent\n",
    "        else:\n",
    "            raise ValueError(f\"Optimizer must be of value 'sgd' or 'mbsgd'. The value {optimizer} is not valid\")\n",
    "\n",
    "    def predict(self, X: np.ndarray) -> np.ndarray:\n",
    "        \"\"\" Predicts the class of the input array \"\"\"\n",
    "        if len(X.shape) == 1:\n",
    "            X = X.reshape((1, X.shape[0]))\n",
    "        return np.argmax(self._softmax_batch(X.dot(self.w_)), axis=1)\n",
    "    \n",
    "    def score(self, X: np.ndarray, y: np.ndarray) -> float:\n",
    "        \"\"\" Scores how well the Logistic model predicts \"\"\"\n",
    "        correct = 0.0\n",
    "        X = self._insert_bias(X)\n",
    "        labels = self.predict(X)\n",
    "        for i, label in enumerate(labels):\n",
    "            correct += int(label == y[i])\n",
    "        return correct / len(y)\n",
    "    \n",
    "    def fit(self, X: np.ndarray, y: np.ndarray) -> None:\n",
    "        \"\"\" Fits the model to the training data \"\"\"\n",
    "        X, y = self._bootstrap(X, y)\n",
    "        self.loss_ = list()\n",
    "        for i in range(self.epochs):\n",
    "            n, d = X.shape\n",
    "            rand_indices = np.random.permutation(n)\n",
    "            xi = X[rand_indices, :]\n",
    "            yi = y[rand_indices, :]\n",
    "            \n",
    "            if self.w_ is None:\n",
    "                self.w_ = np.random.random((d, yi.shape[1]))  # d x k matrix\n",
    "            \n",
    "            loss = self.alg_(xi, yi)\n",
    "            self.loss_.append(loss)\n",
    "            \n",
    "            if i > 0 and abs(self.loss_[i-1] - loss) <= self.precision:\n",
    "                print(f\"Precision reached at epoch {i}\")\n",
    "                break\n",
    "                \n",
    "            self.rate *= 0.9\n",
    "            \n",
    "    def plot(self) -> None:\n",
    "        \"\"\" Plots the loss \"\"\"\n",
    "        epochs = len(self.loss_)\n",
    "        fig = plt.figure(figsize=(10, 5))\n",
    "        plt.plot(range(epochs), self.loss_)\n",
    "        plt.title('Loss per Epoch')\n",
    "        plt.xlabel('Epochs')\n",
    "        plt.ylabel('Loss')\n",
    "        plt.show()\n",
    "    \n",
    "    def _bootstrap(self, X, y: np.ndarray) -> None:\n",
    "        \"\"\" Initializes a random weight and bias for the input data \"\"\"\n",
    "        X = self._insert_bias(X)  # Inserts the bias\n",
    "        y = self._one_hot(y)  # one hot encode the classes\n",
    "        return X, y\n",
    "    \n",
    "    @staticmethod\n",
    "    def _insert_bias(X):\n",
    "        \"\"\" Inserts the bias \"\"\"\n",
    "        bias = np.ones((X.shape[0], 1))\n",
    "        if isinstance(X, scipy.sparse.csr.csr_matrix):\n",
    "            X = np.concatenate((X.todense(), bias), axis=1)  # Insert bias into the features\n",
    "            X = csr_matrix(X)\n",
    "        else:\n",
    "            X = np.concatenate((X, bias), axis=1)\n",
    "        return X\n",
    "        \n",
    "    def _one_hot(self, y: np.ndarray)-> np.ndarray:\n",
    "        \"\"\" One hot encodes the targets \"\"\"\n",
    "        unique = sorted(np.unique(y))\n",
    "        onehot = np.zeros((y.shape[0], len(unique)))\n",
    "        for idx, val in enumerate(y):\n",
    "            cls_idx = unique.index(val)\n",
    "            onehot[idx][cls_idx] = 1\n",
    "        return onehot\n",
    "        \n",
    "    def _stochastic_descent(self, xi: np.ndarray, yi: np.ndarray) -> float:\n",
    "        \"\"\" Implementation of stochastic gradient descent \"\"\"\n",
    "        n, d = xi.shape\n",
    "        epoch_loss = 0.\n",
    "        for k in range(n):\n",
    "            x = xi[k, :]\n",
    "            y = yi[k, :]\n",
    "            loss, g = self._stochastic_gradient(x, y)\n",
    "            epoch_loss += loss\n",
    "            self.w_ -= self.rate * g\n",
    "        return -epoch_loss / n\n",
    "        \n",
    "    def _stochastic_gradient(self, x: np.ndarray, y: np.ndarray) -> Tuple[float, np.ndarray]:\n",
    "        \"\"\" Computes the stochastic gradient and its loss \"\"\"\n",
    "        if len(x.shape) == 1:\n",
    "            x = x.reshape((1, x.shape[0]))  # 1 x d vector\n",
    "        if len(y.shape) == 1:\n",
    "            y = y.reshape((1, y.shape[0]))  # 1 x k vector\n",
    "        \n",
    "        phi = x.dot(self.w_)  # 1 x k vector\n",
    "        softmax = self._softmax(phi)  # 1 x k vector\n",
    "        loss = np.sum(np.multiply(y, np.log(softmax))) + (self.lambda_ * np.sum(np.square(self.w_)))  # scalar     \n",
    "        g = (x.T.dot(softmax - y)) + (2 * self.lambda_ * self.w_) # d x k matrix\n",
    "        return loss, g\n",
    "    \n",
    "    @staticmethod\n",
    "    def _softmax(phi: np.ndarray) -> np.ndarray:\n",
    "        \"\"\" Solves the softmax function \"\"\"\n",
    "        exps = np.exp(phi)\n",
    "        return exps / np.sum(exps)  # k x 1 matrix\n",
    "\n",
    "    def _mb_stochastic_descent(self, xi: np.ndarray, yi: np.ndarray) -> float:\n",
    "        \"\"\" Implementation of stochastic gradient descent \"\"\"\n",
    "        n, d = xi.shape\n",
    "        iters = int(n / self.b_)\n",
    "        epoch_loss = 0.\n",
    "        start = 0\n",
    "        for k in range(iters):\n",
    "            end = start + self.b_\n",
    "            x = xi[start:end, :]\n",
    "            y = yi[start:end, :]\n",
    "            loss, g = self._mb_stochastic_gradient(x, y)\n",
    "            epoch_loss += loss\n",
    "            self.w_ -= self.rate * g\n",
    "            start = end\n",
    "        return -epoch_loss / iters\n",
    "        \n",
    "    def _mb_stochastic_gradient(self, x: np.ndarray, y: np.ndarray) -> Tuple[float, np.ndarray]:\n",
    "        \"\"\" Computes the mini-batch stochastic gradient and its loss \"\"\"\n",
    "        phi = x.dot(self.w_)  # b x k matrix\n",
    "        softmax = self._softmax_batch(phi)  # b x k matrix\n",
    "        \n",
    "        loss = (1 / self.b_) * np.sum(np.multiply(y, np.log(softmax))) \n",
    "        loss += self.lambda_ * np.sum(np.square(self.w_))  # scalar\n",
    "        \n",
    "        g = (1 / self.b_) * ((x.T.dot(softmax - y)) + (2 * self.lambda_ * self.w_))\n",
    "        return loss, g\n",
    "\n",
    "    @staticmethod\n",
    "    def _softmax_batch(phi: np.ndarray) -> np.ndarray:\n",
    "        \"\"\" Defines row-wise softmax \"\"\"\n",
    "        n, d = phi.shape\n",
    "        exps = np.exp(phi)\n",
    "        denom = (1 / np.sum(exps, axis=1)).reshape((n, 1))\n",
    "        return np.multiply(denom, exps)"
   ]
  },
  {
   "cell_type": "code",
   "execution_count": 20,
   "metadata": {},
   "outputs": [
    {
     "name": "stdout",
     "output_type": "stream",
     "text": [
      "Precision reached at epoch 77\n"
     ]
    }
   ],
   "source": [
    "log = LogisticRegression(0.1, optimizer='mbsgd', batch_size=50, max_epochs=100)\n",
    "log.fit(x_train, y_train)"
   ]
  },
  {
   "cell_type": "code",
   "execution_count": 21,
   "metadata": {},
   "outputs": [
    {
     "data": {
      "image/png": "[encoded data removed]",
      "text/plain": [
       "<Figure size 720x360 with 1 Axes>"
      ]
     },
     "metadata": {
      "needs_background": "light"
     },
     "output_type": "display_data"
    },
    {
     "data": {
      "text/plain": [
       "(0.21799166666666667, None)"
      ]
     },
     "execution_count": 21,
     "metadata": {},
     "output_type": "execute_result"
    }
   ],
   "source": [
    "log.score(x_train, y_train), log.plot()"
   ]
  },
  {
   "cell_type": "code",
   "execution_count": 15,
   "metadata": {},
   "outputs": [],
   "source": [
    "log2 = LogisticRegression(0.1, max_epochs=10)\n",
    "log2.fit(x_train, y_train)"
   ]
  },
  {
   "cell_type": "code",
   "execution_count": 18,
   "metadata": {},
   "outputs": [
    {
     "data": {
      "image/png": "[encoded data removed]",
      "text/plain": [
       "<Figure size 720x360 with 1 Axes>"
      ]
     },
     "metadata": {
      "needs_background": "light"
     },
     "output_type": "display_data"
    },
    {
     "data": {
      "text/plain": [
       "(0.2186, None)"
      ]
     },
     "execution_count": 18,
     "metadata": {},
     "output_type": "execute_result"
    }
   ],
   "source": [
    "log2.score(x_train, y_train), log2.plot()"
   ]
  },
  {
   "cell_type": "markdown",
   "metadata": {},
   "source": [
    "## Multi-Layer Perceptron\n",
    "\n",
    "- One hidden layer with 50 neurons\n",
    "- 50 neurons are ReLU activiation functions\n",
    "\n",
    "Re"
   ]
  },
  {
   "cell_type": "code",
   "execution_count": 41,
   "metadata": {},
   "outputs": [],
   "source": [
    "class Neuron:\n",
    "    \n",
    "    def __init__(self):\n",
    "        \"\"\" Initializes the Neuron \"\"\"\n",
    "        pass\n",
    "    \n",
    "    def forward(self, xi):\n",
    "        \"\"\" Defines the foward pass of the neuron \"\"\"\n",
    "        pass\n",
    "    \n",
    "    def backward(self, xi, gradient, rate):\n",
    "        \"\"\" Defines the backward pass for the neuron \"\"\"\n",
    "        pass\n",
    "    \n",
    "\n",
    "class ReLU(Neuron):\n",
    "    \n",
    "    def __init__(self):\n",
    "        \"\"\" Initializes the Neuron \"\"\"\n",
    "        pass\n",
    "    \n",
    "    def forward(self, xi):\n",
    "        \"\"\" Defines the ReLU function \"\"\"\n",
    "        return np.maximum(0, xi)\n",
    "    \n",
    "    def backward(self, xi, gradient, rate):\n",
    "        \"\"\" Defines the gradient for the ReLU function \"\"\"\n",
    "        if xi > 0:\n",
    "            return gradient\n",
    "        else:\n",
    "            return 0\n",
    "        \n",
    "\n",
    "class Tanh(Neuron):\n",
    "    \n",
    "    def __init__(self):\n",
    "        \"\"\" Initializes the Neuron \"\"\"\n",
    "        pass\n",
    "    \n",
    "    def forward(self, xi):\n",
    "        \"\"\" Defines the Tanh function \"\"\"\n",
    "        return np.tanh(xi)\n",
    "    \n",
    "    def backward(self, xi, gradient, rate):\n",
    "        \"\"\" Defines the gradient for the Tanh function \"\"\"\n",
    "        return (1 - np.square(np.tanh(xi))) * gradient\n",
    "\n",
    "\n",
    "class Softmax(Neuron):\n",
    "    \n",
    "    def __init__(self):\n",
    "        \"\"\" Initializes the layer \"\"\"\n",
    "        pass\n",
    "    \n",
    "    def forward(self, xi):\n",
    "        \"\"\" \"\"\"\n",
    "        n, _ = xi.shape\n",
    "        exps = np.exp(xi)\n",
    "        denom = (1 / np.sum(exps, axis=1)).reshape((n, 1))\n",
    "        return np.multiply(denom, exps)\n",
    "    \n",
    "    def backward(self, xi, gradient, rate):\n",
    "        \"\"\" Defines the gradient for the softmax function \"\"\"\n",
    "        n, _ = xi.shape\n",
    "        exps = np.exp(xi)\n",
    "        denom = (1 / np.sum(exps, axis=1)).reshape((n, 1))\n",
    "        return np.multiply(denom, exps) - gradient\n",
    "\n",
    "class Layer(Neuron):\n",
    "    \n",
    "    def __init__(self, xdim: int, ydim: int):\n",
    "        \"\"\" Initializes the class \"\"\"\n",
    "        self.w_ = np.random.random((xdim, ydim))  # Bias is assumed to be a feature for simplification purposes\n",
    "    \n",
    "    def forward(self, xi) -> np.ndarray:\n",
    "        \"\"\" Performs the linear matrix operation for the layer \"\"\"\n",
    "        return xi.dot(self.w_)\n",
    "    \n",
    "    def backward(self, xi, gradient, rate):\n",
    "        \"\"\" Performs the backward pass for the layer \"\"\"\n",
    "        # Stochastic descent\n",
    "        cost = xi.T.dot(gradient)\n",
    "        self.w_ -= rate * gradient\n",
    "        \n",
    "        # Gradient for Input\n",
    "        xi_gradient = gradient.dot(self.w_)\n",
    "        return xi_gradient\n",
    "    \n",
    "\n",
    "class Network:\n",
    "    \n",
    "    def __init__(self, learning_rate: float = 0.01, max_epochs: int = 1000, precision: float = 1E-6, \n",
    "                 batch_size: int = None):\n",
    "        \"\"\" Initializes the Network \"\"\"\n",
    "        self.network = []\n",
    "        self.rate = learning_rate\n",
    "        self.epochs = max_epochs\n",
    "        self.precision = precision\n",
    "        self.b_ = batch_size\n",
    "        self.loss_ = None\n",
    "        self.get_loss = None\n",
    "        self.get_gradient = None\n",
    "    \n",
    "    def add_layer(self, layer) -> None:\n",
    "        \"\"\" Adds a layer to the network \"\"\"\n",
    "        if hasattr(layer, 'rate'):\n",
    "            layer.rate = self.rate\n",
    "        self.network.append(layer)\n",
    "    \n",
    "    def loss(self, func, func_prime):\n",
    "        \"\"\" Sets the loss to use for the network \"\"\"\n",
    "        self.get_loss = func\n",
    "        self.get_gradient = func_prime\n",
    "            \n",
    "    def predict(self, X) -> list:\n",
    "        \"\"\" Defines the predict function \"\"\"\n",
    "        n, d = X.shape\n",
    "        results = list()\n",
    "        for i in range(n):\n",
    "            result = self._feed_forward(X[i, :])\n",
    "            results.append(result)\n",
    "        return results\n",
    "    \n",
    "    def fit(self, X: np.ndarray, y: np.ndarray):\n",
    "        \"\"\" Fits the network to the training vectors \"\"\"\n",
    "        self.loss_ = list()\n",
    "        for i in range(self.epochs):\n",
    "            n, d = X.shape\n",
    "            rand_indices = np.random.permutation(n)\n",
    "            xi = X[rand_indices, :]\n",
    "            yi = y[rand_indices, :]\n",
    "            \n",
    "            loss = self._train(xi, yi)\n",
    "            self.loss_.append(loss)\n",
    "            \n",
    "            if i > 0 and abs(self.loss_[i-1] - loss) <= self.precision:\n",
    "                print(f\"Precision reached at epoch {i}\")\n",
    "                break\n",
    "                \n",
    "            self.rate *= 0.9\n",
    "    \n",
    "    def plot(self) -> None:\n",
    "        \"\"\" Plots the loss \"\"\"\n",
    "        epochs = len(self.loss_)\n",
    "        fig = plt.figure(figsize=(10, 5))\n",
    "        plt.plot(range(epochs), self.loss_)\n",
    "        plt.title('Loss per Epoch')\n",
    "        plt.xlabel('Epochs')\n",
    "        plt.ylabel('Loss')\n",
    "        plt.show()\n",
    "    \n",
    "    def _train(self, xi: np.ndarray, yi: np.ndarray) -> float:\n",
    "        \"\"\" Implements stochastic gradient descent \"\"\"\n",
    "        n, _ = xi.shape\n",
    "        iters = int(n / self.b_)\n",
    "        epoch_loss = 0.\n",
    "        start = 0\n",
    "        for k in range(iters):\n",
    "            end = start + self.b_\n",
    "            x = xi[start:end, :]\n",
    "            y = yi[start:end, :]\n",
    "            result = self._feed_forward(x)\n",
    "            \n",
    "            loss = self.get_loss(result, y)\n",
    "            epoch_loss += loss\n",
    "            \n",
    "            g = self.get_gradient(result, y)\n",
    "            self._backward_pass(xi, g)\n",
    "            start = end\n",
    "        return -epoch_loss / iters\n",
    "        \n",
    "    def _feed_forward(self, xi):\n",
    "        \"\"\" Feeds the sample forward through the network \"\"\"\n",
    "        for layer in self.network:\n",
    "            xi = layer.forward(xi)\n",
    "        return xi\n",
    "    \n",
    "    def _backward_pass(self, xi, gradient) -> None:\n",
    "        \"\"\" Implements a backward pass through the network \"\"\"\n",
    "        for layer in self.network[::-1]:\n",
    "            layer.backward(xi, gradient, self.rate)"
   ]
  },
  {
   "cell_type": "code",
   "execution_count": 34,
   "metadata": {},
   "outputs": [],
   "source": [
    "def loss(x, y) -> float:\n",
    "    \"\"\" Returns the loss of cross entropy logistic regression \"\"\"\n",
    "    loss = (1 / x.shape[0]) * np.sum(np.multiply(y, np.log(x)))\n",
    "    return loss\n",
    "\n",
    "def loss_g(x, y) -> np.ndarray:\n",
    "    \"\"\" Returns gradient of loss for network \"\"\"\n",
    "    return y\n",
    "    \n",
    "def bootstrap(X, y) -> None:\n",
    "    \"\"\" Initializes a random weight and bias for the input data \"\"\"\n",
    "    X = _insert_bias(X)  # Inserts the bias\n",
    "    y = _one_hot(y)  # one hot encode the classes\n",
    "    return X, y\n",
    "    \n",
    "def _insert_bias(X):\n",
    "    \"\"\" Inserts the bias \"\"\"\n",
    "    bias = np.ones((X.shape[0], 1))\n",
    "    if isinstance(X, scipy.sparse.csr.csr_matrix):\n",
    "        X = np.concatenate((X.todense(), bias), axis=1)  # Insert bias into the features\n",
    "        X = csr_matrix(X)\n",
    "    else:\n",
    "        X = np.concatenate((X, bias), axis=1)\n",
    "    return X\n",
    "\n",
    "def _one_hot(y: np.ndarray)-> np.ndarray:\n",
    "    \"\"\" One hot encodes the targets \"\"\"\n",
    "    unique = sorted(np.unique(y))\n",
    "    onehot = np.zeros((y.shape[0], len(unique)))\n",
    "    for idx, val in enumerate(y):\n",
    "        cls_idx = unique.index(val)\n",
    "        onehot[idx][cls_idx] = 1\n",
    "    return onehot"
   ]
  },
  {
   "cell_type": "code",
   "execution_count": 35,
   "metadata": {},
   "outputs": [
    {
     "data": {
      "text/plain": [
       "((60000, 784), (60000, 10))"
      ]
     },
     "execution_count": 35,
     "metadata": {},
     "output_type": "execute_result"
    }
   ],
   "source": [
    "from keras.datasets import mnist\n",
    "from keras.utils import np_utils\n",
    "\n",
    "# load MNIST from server\n",
    "(x_train, y_train), (x_test, y_test) = mnist.load_data()\n",
    "\n",
    "# training data : 60000 samples\n",
    "# reshape and normalize input data\n",
    "x_train = x_train.reshape(x_train.shape[0], 28 * 28)\n",
    "x_train = x_train.astype('float32')\n",
    "x_train /= 255\n",
    "# encode output which is a number in range [0,9] into a vector of size 10\n",
    "# e.g. number 3 will become [0, 0, 0, 1, 0, 0, 0, 0, 0, 0]\n",
    "y_train = np_utils.to_categorical(y_train)\n",
    "\n",
    "# same for test data : 10000 samples\n",
    "x_test = x_test.reshape(x_test.shape[0], 28 * 28)\n",
    "x_test = x_test.astype('float32')\n",
    "x_test /= 255\n",
    "y_test = np_utils.to_categorical(y_test)\n",
    "\n",
    "x_train.shape, y_train.shape"
   ]
  },
  {
   "cell_type": "code",
   "execution_count": 42,
   "metadata": {},
   "outputs": [],
   "source": [
    "b = 10\n",
    "n, d = x_train.shape\n",
    "net = Network(max_epochs=10, batch_size = 10)\n",
    "net.add_layer(Layer(d, 50))\n",
    "net.add_layer(ReLU())\n",
    "net.add_layer(Layer(50, 1))\n",
    "net.add_layer(Softmax())\n",
    "net.loss(loss, loss_g)"
   ]
  },
  {
   "cell_type": "code",
   "execution_count": 43,
   "metadata": {},
   "outputs": [
    {
     "name": "stderr",
     "output_type": "stream",
     "text": [
      "<ipython-input-41-ef324f00975b>:58: RuntimeWarning: overflow encountered in exp\n",
      "  exps = np.exp(xi)\n",
      "<ipython-input-41-ef324f00975b>:60: RuntimeWarning: invalid value encountered in multiply\n",
      "  return np.multiply(denom, exps)\n"
     ]
    },
    {
     "ename": "ValueError",
     "evalue": "operands could not be broadcast together with shapes (50,1) (10,10) (50,1) ",
     "output_type": "error",
     "traceback": [
      "\u001b[0;31m---------------------------------------------------------------------------\u001b[0m",
      "\u001b[0;31mValueError\u001b[0m                                Traceback (most recent call last)",
      "\u001b[0;32m<ipython-input-43-2af387b44e4d>\u001b[0m in \u001b[0;36m<module>\u001b[0;34m\u001b[0m\n\u001b[0;32m----> 1\u001b[0;31m \u001b[0mnet\u001b[0m\u001b[0;34m.\u001b[0m\u001b[0mfit\u001b[0m\u001b[0;34m(\u001b[0m\u001b[0mx_train\u001b[0m\u001b[0;34m[\u001b[0m\u001b[0;36m0\u001b[0m\u001b[0;34m:\u001b[0m\u001b[0;36m1000\u001b[0m\u001b[0;34m]\u001b[0m\u001b[0;34m,\u001b[0m \u001b[0my_train\u001b[0m\u001b[0;34m[\u001b[0m\u001b[0;36m0\u001b[0m\u001b[0;34m:\u001b[0m\u001b[0;36m1000\u001b[0m\u001b[0;34m]\u001b[0m\u001b[0;34m)\u001b[0m\u001b[0;34m\u001b[0m\u001b[0;34m\u001b[0m\u001b[0m\n\u001b[0m",
      "\u001b[0;32m<ipython-input-41-ef324f00975b>\u001b[0m in \u001b[0;36mfit\u001b[0;34m(self, X, y)\u001b[0m\n\u001b[1;32m    131\u001b[0m             \u001b[0myi\u001b[0m \u001b[0;34m=\u001b[0m \u001b[0my\u001b[0m\u001b[0;34m[\u001b[0m\u001b[0mrand_indices\u001b[0m\u001b[0;34m,\u001b[0m \u001b[0;34m:\u001b[0m\u001b[0;34m]\u001b[0m\u001b[0;34m\u001b[0m\u001b[0;34m\u001b[0m\u001b[0m\n\u001b[1;32m    132\u001b[0m \u001b[0;34m\u001b[0m\u001b[0m\n\u001b[0;32m--> 133\u001b[0;31m             \u001b[0mloss\u001b[0m \u001b[0;34m=\u001b[0m \u001b[0mself\u001b[0m\u001b[0;34m.\u001b[0m\u001b[0m_train\u001b[0m\u001b[0;34m(\u001b[0m\u001b[0mxi\u001b[0m\u001b[0;34m,\u001b[0m \u001b[0myi\u001b[0m\u001b[0;34m)\u001b[0m\u001b[0;34m\u001b[0m\u001b[0;34m\u001b[0m\u001b[0m\n\u001b[0m\u001b[1;32m    134\u001b[0m             \u001b[0mself\u001b[0m\u001b[0;34m.\u001b[0m\u001b[0mloss_\u001b[0m\u001b[0;34m.\u001b[0m\u001b[0mappend\u001b[0m\u001b[0;34m(\u001b[0m\u001b[0mloss\u001b[0m\u001b[0;34m)\u001b[0m\u001b[0;34m\u001b[0m\u001b[0;34m\u001b[0m\u001b[0m\n\u001b[1;32m    135\u001b[0m \u001b[0;34m\u001b[0m\u001b[0m\n",
      "\u001b[0;32m<ipython-input-41-ef324f00975b>\u001b[0m in \u001b[0;36m_train\u001b[0;34m(self, xi, yi)\u001b[0m\n\u001b[1;32m    166\u001b[0m \u001b[0;34m\u001b[0m\u001b[0m\n\u001b[1;32m    167\u001b[0m             \u001b[0mg\u001b[0m \u001b[0;34m=\u001b[0m \u001b[0mself\u001b[0m\u001b[0;34m.\u001b[0m\u001b[0mget_gradient\u001b[0m\u001b[0;34m(\u001b[0m\u001b[0mresult\u001b[0m\u001b[0;34m,\u001b[0m \u001b[0my\u001b[0m\u001b[0;34m)\u001b[0m\u001b[0;34m\u001b[0m\u001b[0;34m\u001b[0m\u001b[0m\n\u001b[0;32m--> 168\u001b[0;31m             \u001b[0mself\u001b[0m\u001b[0;34m.\u001b[0m\u001b[0m_backward_pass\u001b[0m\u001b[0;34m(\u001b[0m\u001b[0mresult\u001b[0m\u001b[0;34m,\u001b[0m \u001b[0mg\u001b[0m\u001b[0;34m)\u001b[0m\u001b[0;34m\u001b[0m\u001b[0;34m\u001b[0m\u001b[0m\n\u001b[0m\u001b[1;32m    169\u001b[0m             \u001b[0mstart\u001b[0m \u001b[0;34m=\u001b[0m \u001b[0mend\u001b[0m\u001b[0;34m\u001b[0m\u001b[0;34m\u001b[0m\u001b[0m\n\u001b[1;32m    170\u001b[0m         \u001b[0;32mreturn\u001b[0m \u001b[0;34m-\u001b[0m\u001b[0mepoch_loss\u001b[0m \u001b[0;34m/\u001b[0m \u001b[0miters\u001b[0m\u001b[0;34m\u001b[0m\u001b[0;34m\u001b[0m\u001b[0m\n",
      "\u001b[0;32m<ipython-input-41-ef324f00975b>\u001b[0m in \u001b[0;36m_backward_pass\u001b[0;34m(self, xi, gradient)\u001b[0m\n\u001b[1;32m    179\u001b[0m         \u001b[0;34m\"\"\" Implements a backward pass through the network \"\"\"\u001b[0m\u001b[0;34m\u001b[0m\u001b[0;34m\u001b[0m\u001b[0m\n\u001b[1;32m    180\u001b[0m         \u001b[0;32mfor\u001b[0m \u001b[0mlayer\u001b[0m \u001b[0;32min\u001b[0m \u001b[0mself\u001b[0m\u001b[0;34m.\u001b[0m\u001b[0mnetwork\u001b[0m\u001b[0;34m[\u001b[0m\u001b[0;34m:\u001b[0m\u001b[0;34m:\u001b[0m\u001b[0;34m-\u001b[0m\u001b[0;36m1\u001b[0m\u001b[0;34m]\u001b[0m\u001b[0;34m:\u001b[0m\u001b[0;34m\u001b[0m\u001b[0;34m\u001b[0m\u001b[0m\n\u001b[0;32m--> 181\u001b[0;31m             \u001b[0mlayer\u001b[0m\u001b[0;34m.\u001b[0m\u001b[0mbackward\u001b[0m\u001b[0;34m(\u001b[0m\u001b[0mxi\u001b[0m\u001b[0;34m,\u001b[0m \u001b[0mgradient\u001b[0m\u001b[0;34m,\u001b[0m \u001b[0mself\u001b[0m\u001b[0;34m.\u001b[0m\u001b[0mrate\u001b[0m\u001b[0;34m)\u001b[0m\u001b[0;34m\u001b[0m\u001b[0;34m\u001b[0m\u001b[0m\n\u001b[0m",
      "\u001b[0;32m<ipython-input-41-ef324f00975b>\u001b[0m in \u001b[0;36mbackward\u001b[0;34m(self, xi, gradient, rate)\u001b[0m\n\u001b[1;32m     81\u001b[0m         \u001b[0;31m# Stochastic descent\u001b[0m\u001b[0;34m\u001b[0m\u001b[0;34m\u001b[0m\u001b[0;34m\u001b[0m\u001b[0m\n\u001b[1;32m     82\u001b[0m         \u001b[0mcost\u001b[0m \u001b[0;34m=\u001b[0m \u001b[0mxi\u001b[0m\u001b[0;34m.\u001b[0m\u001b[0mT\u001b[0m\u001b[0;34m.\u001b[0m\u001b[0mdot\u001b[0m\u001b[0;34m(\u001b[0m\u001b[0mgradient\u001b[0m\u001b[0;34m)\u001b[0m\u001b[0;34m\u001b[0m\u001b[0;34m\u001b[0m\u001b[0m\n\u001b[0;32m---> 83\u001b[0;31m         \u001b[0mself\u001b[0m\u001b[0;34m.\u001b[0m\u001b[0mw_\u001b[0m \u001b[0;34m-=\u001b[0m \u001b[0mrate\u001b[0m \u001b[0;34m*\u001b[0m \u001b[0mgradient\u001b[0m\u001b[0;34m\u001b[0m\u001b[0;34m\u001b[0m\u001b[0m\n\u001b[0m\u001b[1;32m     84\u001b[0m \u001b[0;34m\u001b[0m\u001b[0m\n\u001b[1;32m     85\u001b[0m         \u001b[0;31m# Gradient for Input\u001b[0m\u001b[0;34m\u001b[0m\u001b[0;34m\u001b[0m\u001b[0;34m\u001b[0m\u001b[0m\n",
      "\u001b[0;31mValueError\u001b[0m: operands could not be broadcast together with shapes (50,1) (10,10) (50,1) "
     ]
    }
   ],
   "source": [
    "net.fit(x_train[0:1000], y_train[0:1000])"
   ]
  },
  {
   "cell_type": "code",
   "execution_count": null,
   "metadata": {},
   "outputs": [],
   "source": []
  }
 ],
 "metadata": {
  "kernelspec": {
   "display_name": "Python 3",
   "language": "python",
   "name": "python3"
  },
  "language_info": {
   "codemirror_mode": {
    "name": "ipython",
    "version": 3
   },
   "file_extension": ".py",
   "mimetype": "text/x-python",
   "name": "python",
   "nbconvert_exporter": "python",
   "pygments_lexer": "ipython3",
   "version": "3.8.5"
  }
 },
 "nbformat": 4,
 "nbformat_minor": 4
}
