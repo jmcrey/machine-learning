{
 "cells": [
  {
   "cell_type": "markdown",
   "metadata": {},
   "source": [
    "## CS559: Homework #1-1"
   ]
  },
  {
   "cell_type": "markdown",
   "metadata": {},
   "source": [
    "This is a part of Assignment #1 and this assignment is due on **9/16/2020 by 11:59 PM**. You are going to submit the assignment both in format of *ipynb* and *html*. The assignment should be own work and must not be shared between classmates. Try to avoid using built-in functions. \n",
    "\n",
    "This assignment is about linear algebra and is more focusing on implementing functions. "
   ]
  },
  {
   "cell_type": "markdown",
   "metadata": {},
   "source": [
    "### Problem 1\n",
    "- Write a function `dot_product` to calculate the dot product of two 1 by n arrays. \n",
    "```\n",
    "a = array([1, 2, 3, 4])\n",
    "b = array([2, 3, 4, 5])\n",
    "dot_product(a,b) = 40\n",
    "```"
   ]
  },
  {
   "cell_type": "code",
   "execution_count": 81,
   "metadata": {},
   "outputs": [],
   "source": [
    "import math\n",
    "import numpy as np\n",
    "from pprint import pformat\n",
    "\n",
    "def dot_product(v1: np.ndarray, v2: np.ndarray) -> int:\n",
    "    \"\"\" Calculates the dot product of two vectors \"\"\"\n",
    "    if max(v1.shape) == max(v2.shape) and (len(v1.shape) == 1 or min(v1.shape) == 1):\n",
    "        if min(v1.shape) == 1:  #  Shape is column matrix\n",
    "            v1 = v1.reshape(max(v1.shape))  # Reshape to row matrix for easier calculation\n",
    "        if min(v2.shape) == 1:\n",
    "            v2 = v2.reshape(max(v2.shape))\n",
    "            \n",
    "        total = 0\n",
    "        for i in range(max(v1.shape)):\n",
    "            total += v1[i] * v2[i]\n",
    "        return total\n",
    "    raise ValueError(\"Vectors must be same 1 x N dimension to perform dot product\")"
   ]
  },
  {
   "cell_type": "markdown",
   "metadata": {},
   "source": [
    "- Test your code after generating two random 1 by 10 arrays. "
   ]
  },
  {
   "cell_type": "code",
   "execution_count": 82,
   "metadata": {},
   "outputs": [
    {
     "name": "stdout",
     "output_type": "stream",
     "text": [
      "[13 97 52 26 51 97 34 12 18 58]\n",
      "[ 5 79 91 20 94 14 30 32 16 78]\n"
     ]
    },
    {
     "data": {
      "text/plain": [
       "25348"
      ]
     },
     "execution_count": 82,
     "metadata": {},
     "output_type": "execute_result"
    }
   ],
   "source": [
    "### Test Starts Here\n",
    "X = np.random.randint(100, size=10)\n",
    "Y = np.random.randint(100, size=10)\n",
    "print(X)\n",
    "print(Y)\n",
    "dot = dot_product(X,Y)\n",
    "assert np.dot(X, Y) == dot\n",
    "dot"
   ]
  },
  {
   "cell_type": "markdown",
   "metadata": {},
   "source": [
    "- Consider three vectors ${\\bf x}_1=(1,3), {\\bf x}_2=(-1,5)$, and ${\\bf x}_3=(0,7)$. \n",
    "\n",
    "    - Find the distance of each point from the origin.\n",
    "\n",
    "    - Find the center of three points. \n",
    "\n",
    "    - Rotate the coordinates by 35 degress in counter clockwise. \n",
    "\n",
    "    - Magnify the area by 4 times. "
   ]
  },
  {
   "cell_type": "code",
   "execution_count": 83,
   "metadata": {},
   "outputs": [
    {
     "name": "stdout",
     "output_type": "stream",
     "text": [
      "Distance from Origin for X1: 3.1622776601683795\n",
      "\t\t     for X2: 5.0990195135927845\n",
      "\t\t     for X3: 7.0\n",
      "Centre between the points: (0.0, 5.0)\n",
      "Rotations 35 degrees around Origin for X1: (-0.9015772647641463, 3.0310325692180213)\n",
      "\t\t\t\t   for X2: (-3.687034226044222, 3.5221837850939126)\n",
      "\t\t\t\t   for X3: (-4.015035054457322, 5.7340643100229425)\n",
      "Volume magnification by 4: for X1: (4, 3)\n",
      "\t\t\t   for X2: (-4, 5)\n",
      "\t\t\t   for X3: (0, 7)\n"
     ]
    }
   ],
   "source": [
    "### Code Starts Here\n",
    "origin = (0,0)\n",
    "point1 = (1,3)\n",
    "point2 = (-1,5)\n",
    "point3 = (0,7)\n",
    "\n",
    "\n",
    "def distance(x: tuple, y: tuple) -> int:\n",
    "    \"\"\" Captures the distance between two points \"\"\"\n",
    "    x1, y1 = x\n",
    "    x2, y2 = y\n",
    "    return math.sqrt(pow(x2 - x1, 2) + pow(y2 - y1, 2))\n",
    "\n",
    "def centre(coordinates: list) -> tuple:\n",
    "    \"\"\" Finds the center between N points \"\"\"\n",
    "    length = len(points)\n",
    "    if length <= 1:\n",
    "        raise ValueError(\"Cannot find centre of less than two points, please input at least two points\")\n",
    "        \n",
    "    x = y = 0\n",
    "    for x_n, y_n in coordinates:\n",
    "        x += x_n\n",
    "        y += y_n\n",
    "    return (x / length, y / length)\n",
    "\n",
    "\n",
    "def rotate(coordinates: tuple, degrees: int) -> list:\n",
    "    \"\"\" Rotates the input coordinates about the x axis and returns the new coordinates \"\"\"\n",
    "    x, y = coordinates\n",
    "    cos = math.cos(math.radians(degrees))\n",
    "    sin = math.sin(math.radians(degrees))\n",
    "    x_coord = (x * cos) - y * sin\n",
    "    y_coord = (y * cos) + (x * sin)\n",
    "    return (x_coord, y_coord)\n",
    "\n",
    "print(f\"Distance from Origin for X1: {distance(origin, point1)}\\n\\t\\t\" \\\n",
    "      f\"     for X2: {distance(origin, point2)}\\n\\t\\t\" \\\n",
    "      f\"     for X3: {distance(origin, point3)}\")\n",
    "\n",
    "points = [point1, point2, point3]\n",
    "print(f\"Centre between the points: {centre([point1, point2, point3])}\")\n",
    "print(f\"Rotations 35 degrees around Origin \" \\\n",
    "      f\"for X1: {rotate(point1, 35)}\\n\\t\\t\\t\\t\" \\\n",
    "      f\"   for X2: {rotate(point2, 35)}\\n\\t\\t\\t\\t\" \\\n",
    "      f\"   for X3: {rotate(point3, 35)}\")\n",
    "print(f\"Volume magnification by 4: \" \\\n",
    "      f\"for X1: {(point1[0] * 4, point1[1])}\\n\\t\\t\\t\" \\\n",
    "      f\"   for X2: {(point2[0] * 4, point2[1])}\\n\\t\\t\\t\" \\\n",
    "      f\"   for X3: {(point3[0] * 4, point3[1])}\")"
   ]
  },
  {
   "cell_type": "markdown",
   "metadata": {},
   "source": [
    "### Problem 2\n",
    "- Write a function `mat_product` to calculate the matrix product of two n by n arrays. For example:\n",
    "\n",
    "\n",
    "$A = \\begin{bmatrix} 1 & 3 & 0 \\\\ 2 & 0 & 2 \\\\ 1 & 1 & 4 \\end{bmatrix}$ and $A\\cdot A=\\begin{bmatrix} 7 & 3 & 6 \\\\ 4 & 8 & 8 \\\\ 7 & 8 & 18 \\end{bmatrix}$"
   ]
  },
  {
   "cell_type": "code",
   "execution_count": 84,
   "metadata": {},
   "outputs": [
    {
     "data": {
      "text/plain": [
       "array([[ 7,  3,  6],\n",
       "       [ 4,  8,  8],\n",
       "       [ 7,  7, 18]])"
      ]
     },
     "execution_count": 84,
     "metadata": {},
     "output_type": "execute_result"
    }
   ],
   "source": [
    "def mat_product(v1: np.ndarray, v2: np.ndarray) -> np.ndarray:\n",
    "    \"\"\" Calculates the Matrix Product of two N x N matrices \"\"\"\n",
    "    v1_row, v1_col = v1.shape\n",
    "    v2_row, v2_col = v2.shape\n",
    "    if v1.shape == v2.shape and v1_row == v1_col:  # Ensure shapes match and both are n x n\n",
    "        product = list()\n",
    "        v2_columns = [np.array([row[idx] for row in v2]) for idx in range(v2_col)]\n",
    "        for i in range(v1_row):\n",
    "            for j in range(v2_row):\n",
    "                num = dot_product(v1[i], v2_columns[j])\n",
    "                product.append(num)\n",
    "        return np.array(product).reshape(v1_row, v2_col) \n",
    "    raise ValueError(\"Shapes do not match, or the matricies are not n x n\")\n",
    "    \n",
    "A = np.array([1,3,0,2,0,2,1,1,4]).reshape(3,3)\n",
    "mat_prod1 = mat_product(A, A)\n",
    "np.testing.assert_array_equal(np.matmul(A, A), mat)\n",
    "mat"
   ]
  },
  {
   "cell_type": "markdown",
   "metadata": {},
   "source": [
    "Test your code after generating two random 4 by 4 matrices, ${\\bf X}$ and ${\\bf Y}$.  "
   ]
  },
  {
   "cell_type": "code",
   "execution_count": 85,
   "metadata": {},
   "outputs": [
    {
     "name": "stdout",
     "output_type": "stream",
     "text": [
      "[[96 62 32 19]\n",
      " [43 83 80 34]\n",
      " [54 23 90 54]\n",
      " [50 89  5  7]]\n",
      "[[74 91 96  9]\n",
      " [49  1 79 13]\n",
      " [28 19 60  3]\n",
      " [59  1 90 28]]\n"
     ]
    },
    {
     "data": {
      "text/plain": [
       "array([[12159,  9425, 17744,  2298],\n",
       "       [11495,  5550, 18545,  2658],\n",
       "       [10829,  6701, 17261,  2567],\n",
       "       [ 8614,  4741, 12761,  1818]])"
      ]
     },
     "execution_count": 85,
     "metadata": {},
     "output_type": "execute_result"
    }
   ],
   "source": [
    "### Test Starts Here\n",
    "X = np.random.randint(100, size=(4,4))\n",
    "Y = np.random.randint(100, size=(4,4))\n",
    "print(X)\n",
    "print(Y)\n",
    "mat_prod2 = mat_product(X,Y)\n",
    "np.testing.assert_array_equal(np.matmul(X, Y), mat_prod2)\n",
    "mat_prod2"
   ]
  },
  {
   "cell_type": "markdown",
   "metadata": {},
   "source": [
    "- Transpose ${\\bf X}$ and use the `mat_product` function to find the matrice of product: $Z={\\bf X}^T\\cdot{\\bf Y}$"
   ]
  },
  {
   "cell_type": "code",
   "execution_count": 86,
   "metadata": {},
   "outputs": [
    {
     "name": "stdout",
     "output_type": "stream",
     "text": [
      "Transpose of X:\n",
      "[[96 43 54 50]\n",
      " [62 83 23 89]\n",
      " [32 80 90  5]\n",
      " [19 34 54  7]]\n",
      "Product of Transpose:\n",
      "[[13673  9855 20353  2985]\n",
      " [14550  6251 21899  4198]\n",
      " [ 9103  4707 15242  1738]\n",
      " [ 4997  2796  8380   971]]\n"
     ]
    }
   ],
   "source": [
    "### Code Starts H\n",
    "def transpose(matrix: np.ndarray) -> np.ndarray:\n",
    "    \"\"\" Transposes the matrix \"\"\"\n",
    "    row, col = matrix.shape\n",
    "    transpose = np.zeros(matrix.shape, dtype=int)\n",
    "    for i in range(row):\n",
    "        for j in range(col):\n",
    "            transpose[i][j] = matrix[j][i]\n",
    "    return transpose\n",
    "\n",
    "X_T = transpose(X)\n",
    "mat_prod3 = mat_product(X_T, Y)\n",
    "print(f\"Transpose of X:\\n{X_T}\")\n",
    "print(f\"Product of Transpose:\\n{mat_prod3}\")\n",
    "np.testing.assert_array_equal(np.matmul(X_T, Y), mat_prod3)"
   ]
  },
  {
   "cell_type": "markdown",
   "metadata": {},
   "source": []
  },
  {
   "cell_type": "markdown",
   "metadata": {},
   "source": [
    "Markdown $\\alpha$<sup>2</sup>\n",
    "Latex: $\\alpha^2$"
   ]
  },
  {
   "cell_type": "markdown",
   "metadata": {},
   "source": [
    "### Problem 3\n",
    "- Write a function, `Det`, to find the determinant of n by n matrice, `EGval`, that finds the eigenvalue $\\lambda$ and a function, `EGvec`, that finds the eigenvectors ${\\bf x}$\n",
    "- For the confirmation, use ${\\bf A}=\\begin{bmatrix} 1 & 2 \\\\ 2 & 4 \\end{bmatrix}$."
   ]
  },
  {
   "cell_type": "code",
   "execution_count": 87,
   "metadata": {},
   "outputs": [
    {
     "name": "stdout",
     "output_type": "stream",
     "text": [
      "0.0\n",
      "assert -28845005526.0 == -28845005526.00009\n"
     ]
    }
   ],
   "source": [
    "### Det Code Starts Here ###\n",
    "def Det(m: np.ndarray) -> int:\n",
    "    \"\"\" Finds determinant of n x n matrix \"\"\"\n",
    "    if len(m.shape) == 1 and m.shape[0] == 1:  # Accounts for a (1,) passed\n",
    "        return m[0]\n",
    "    \n",
    "    row, col = m.shape\n",
    "    if row != col:  # Ensure matrix is N x N\n",
    "        raise ValueError(\"Must be a N x N matrix to find the determinant\")\n",
    "    if row == 1:  # Base condition\n",
    "        return m[0][0]\n",
    "    \n",
    "    det = 0.0\n",
    "    top = m[0]  # Only have to iterate top row to find determinant of N x N matrix\n",
    "    for i in range(row):\n",
    "        offset = 1 if ((1 + i + 1) % 2 == 0) else -1\n",
    "        leftover = np.array(\n",
    "            [m[k][l] for k in range(row) for l in range(col) if k != 0 and l != i]\n",
    "        ).reshape((row-1,col-1))\n",
    "        det += offset * top[i] * Det(leftover)\n",
    "    return det\n",
    "\n",
    "A = np.array([1,2,2,4]).reshape((2,2))\n",
    "print(Det(A))\n",
    "assert np.linalg.det(A) == Det(A)\n",
    "\n",
    "B = np.random.randint(100, size=(6,6))\n",
    "det1 = np.linalg.det(B)\n",
    "det2 = Det(B)\n",
    "print(f\"assert {det2} == {det1}\")"
   ]
  },
  {
   "cell_type": "code",
   "execution_count": 88,
   "metadata": {},
   "outputs": [
    {
     "name": "stdout",
     "output_type": "stream",
     "text": [
      "Eigenvalues for vector A: 0.0, 5.0\n"
     ]
    }
   ],
   "source": [
    "### EGval Code Starts Here ###\n",
    "### Eignvalues are solved by det(Lamba * Identity - A) = 0\n",
    "def EGval(m: np.ndarray) -> tuple:\n",
    "    \"\"\" Solves for the Eigenvalues of 2 x 2 matrices using the quadratic equation found here:\n",
    "    https://en.wikipedia.org/wiki/Eigenvalue_algorithm#2%C3%972_matrices \"\"\"\n",
    "    row, col = m.shape\n",
    "    if row != col or row != 2:\n",
    "        raise ValueError(\"Solves for eigenvalues of only 2 x 2 matrices\")\n",
    "        \n",
    "    tr = sum([m[i][i] for i in range(row)])\n",
    "    gap = math.sqrt(math.pow(tr, 2) - 4 * Det(m))\n",
    "    return ((tr - gap) / 2, (tr + gap) / 2)\n",
    "\n",
    "egval1, egval2 = EGval(A)\n",
    "print(f\"Eigenvalues for vector A: {egval1}, {egval2}\")\n",
    "val1, val2= np.linalg.eigvals(A)\n",
    "assert egval1 == vals[0]\n",
    "assert egval2 == vals[1]"
   ]
  },
  {
   "cell_type": "code",
   "execution_count": 89,
   "metadata": {},
   "outputs": [
    {
     "name": "stdout",
     "output_type": "stream",
     "text": [
      "Solving for eigenvector with the Eigenvalue of 0.0\n",
      "A - Lambda*Identity =\n",
      "[[1. 2.]\n",
      " [2. 4.]]\n",
      "Solve for linear equations using x = 1 and y = 2, or [-2  1]\n",
      "So eigenvector for the eigenvalue 0.0 is [-2  1] because (A - Lambda*Identity)*[-2  1] = [0. 0.]\n",
      "\n",
      "\n",
      "\n",
      "Solving for eigenvector with the Eigenvalue of 5.0\n",
      "A - Lambda*Identity =\n",
      "[[-4.  2.]\n",
      " [ 2. -1.]]\n",
      "Solve for linear equations using x = 1 and y = 2, or [-2  1]\n",
      "So eigenvector for the eigenvalue 5.0 is [1 2] because (A - Lambda*Identity)*[1 2] = [0. 0.]\n"
     ]
    }
   ],
   "source": [
    "### EGvec Code Starts Here ###\n",
    "identity = np.identity(2, dtype=int)\n",
    "\n",
    "### First eigenvector \n",
    "print(f\"Solving for eigenvector with the Eigenvalue of {egval1}\")\n",
    "mat1 = A - (egval1 * identity)  # Must equal zero when multiplied by x\n",
    "print(f\"A - Lambda*Identity =\\n{mat1}\")\n",
    "egvec1 = np.array([-2,1])\n",
    "print(f\"Solve for linear equations using x = 1 and y = 2, or {egvec1}\")\n",
    "mat1 = mat1 * egvec1\n",
    "mat1 = np.array([mat1[0][0] + mat1[0][1], mat1[1][0] + mat1[1][1]])\n",
    "print(f\"So eigenvector for the eigenvalue {egval1} is {egvec1} because (A - Lambda*Identity)*{egvec1} = {mat1}\")\n",
    "\n",
    "print(\"\\n\\n\")\n",
    "\n",
    "### Second eigenvector\n",
    "print(f\"Solving for eigenvector with the Eigenvalue of {egval2}\")\n",
    "mat2 = A - (egval2 * identity)  # Must equal zero when multiplied by x\n",
    "print(f\"A - Lambda*Identity =\\n{mat2}\")\n",
    "egvec2 = np.array([1,2])\n",
    "print(f\"Solve for linear equations using x = 1 and y = 2, or {egvec1}\")\n",
    "mat2 = mat2 * egvec2.reshape((1,2))\n",
    "mat2 = np.array([mat2[0][0] + mat2[0][1], mat2[1][0] + mat2[1][1]])\n",
    "print(f\"So eigenvector for the eigenvalue {egval2} is {egvec2} because (A - Lambda*Identity)*{egvec2} = {mat2}\")"
   ]
  },
  {
   "cell_type": "code",
   "execution_count": null,
   "metadata": {},
   "outputs": [],
   "source": []
  }
 ],
 "metadata": {
  "kernelspec": {
   "display_name": "Python 3",
   "language": "python",
   "name": "python3"
  },
  "language_info": {
   "codemirror_mode": {
    "name": "ipython",
    "version": 3
   },
   "file_extension": ".py",
   "mimetype": "text/x-python",
   "name": "python",
   "nbconvert_exporter": "python",
   "pygments_lexer": "ipython3",
   "version": "3.8.5"
  }
 },
 "nbformat": 4,
 "nbformat_minor": 4
}
